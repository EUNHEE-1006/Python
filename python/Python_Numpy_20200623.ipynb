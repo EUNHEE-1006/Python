{
 "cells": [
  {
   "cell_type": "code",
   "execution_count": 5,
   "metadata": {},
   "outputs": [],
   "source": [
    "import numpy as np #약어는 약어만!!, mixing is not allowed "
   ]
  },
  {
   "cell_type": "code",
   "execution_count": 6,
   "metadata": {},
   "outputs": [
    {
     "data": {
      "text/plain": [
       "array([1, 2, 3])"
      ]
     },
     "execution_count": 6,
     "metadata": {},
     "output_type": "execute_result"
    }
   ],
   "source": [
    "np.array([1,2,3])"
   ]
  },
  {
   "cell_type": "code",
   "execution_count": 8,
   "metadata": {},
   "outputs": [
    {
     "data": {
      "text/plain": [
       "[1, 2, 3, 4, 5]"
      ]
     },
     "execution_count": 8,
     "metadata": {},
     "output_type": "execute_result"
    }
   ],
   "source": [
    "a = [1,2,3,4,5] #메모리상 흩어져 저장될 수 있다. in original Python\n",
    "a"
   ]
  },
  {
   "cell_type": "code",
   "execution_count": 21,
   "metadata": {},
   "outputs": [
    {
     "name": "stdout",
     "output_type": "stream",
     "text": [
      "[31, 32, 33, 34, 35]\n"
     ]
    }
   ],
   "source": [
    "a = [16,17,18,19,20]\n",
    "b=[]\n",
    "for i in range(0, len(a)) :\n",
    "    b.append(a[i]+15)\n",
    "print(b)"
   ]
  },
  {
   "cell_type": "code",
   "execution_count": 23,
   "metadata": {},
   "outputs": [
    {
     "name": "stdout",
     "output_type": "stream",
     "text": [
      "[16 17 18 19 20]\n"
     ]
    }
   ],
   "source": [
    "a = np.array(a)\n",
    "print(a)"
   ]
  },
  {
   "cell_type": "code",
   "execution_count": 25,
   "metadata": {},
   "outputs": [
    {
     "data": {
      "text/plain": [
       "array([31, 32, 33, 34, 35])"
      ]
     },
     "execution_count": 25,
     "metadata": {},
     "output_type": "execute_result"
    }
   ],
   "source": [
    "a+15 #일괄연산"
   ]
  },
  {
   "cell_type": "code",
   "execution_count": 27,
   "metadata": {},
   "outputs": [
    {
     "name": "stdout",
     "output_type": "stream",
     "text": [
      "[12, 14, 16, 18, 20, 22, 24, 26, 28, 30]\n"
     ]
    }
   ],
   "source": [
    "a. = [1,2,3,4,5,6,7,8,9,10]\n",
    "b. = [11,12,13,14,15,16,17,18,19,20]\n",
    "c= []\n",
    "for i in range(0,len(a)) :\n",
    "    c.append(a[i]+b[i])\n",
    "print(c)"
   ]
  },
  {
   "cell_type": "markdown",
   "metadata": {},
   "source": [
    "# array와 list의 '+' 연산이 다르다!!!"
   ]
  },
  {
   "cell_type": "code",
   "execution_count": 78,
   "metadata": {},
   "outputs": [
    {
     "ename": "SyntaxError",
     "evalue": "invalid syntax (<ipython-input-78-0efcabfba17f>, line 1)",
     "output_type": "error",
     "traceback": [
      "\u001b[1;36m  File \u001b[1;32m\"<ipython-input-78-0efcabfba17f>\"\u001b[1;36m, line \u001b[1;32m1\u001b[0m\n\u001b[1;33m    a. + b.\u001b[0m\n\u001b[1;37m       ^\u001b[0m\n\u001b[1;31mSyntaxError\u001b[0m\u001b[1;31m:\u001b[0m invalid syntax\n"
     ]
    }
   ],
   "source": [
    "a+b #결과 >>[1,2,3,4,5,6,7,8,9,10,11,12,13,14,15,16,17,18,19,20]"
   ]
  },
  {
   "cell_type": "code",
   "execution_count": 33,
   "metadata": {},
   "outputs": [
    {
     "name": "stdout",
     "output_type": "stream",
     "text": [
      "[12 14 16 18 20 22 24 26 28 30]\n"
     ]
    }
   ],
   "source": [
    "arr_a=np.array(a)\n",
    "arr_b=np.array(b)\n",
    "c = arr_a + arr_b\n",
    "print(c)"
   ]
  },
  {
   "cell_type": "code",
   "execution_count": 38,
   "metadata": {},
   "outputs": [
    {
     "name": "stdout",
     "output_type": "stream",
     "text": [
      "1\n",
      "(10,)\n",
      "int32\n"
     ]
    }
   ],
   "source": [
    "print(c.ndim) #차원\n",
    "print(c.shape) #받은 데이터의 수를 체크하기 위해서!!!\n",
    "print(c.dtype)"
   ]
  },
  {
   "cell_type": "markdown",
   "metadata": {},
   "source": [
    "# 차원 생성과정"
   ]
  },
  {
   "cell_type": "code",
   "execution_count": 45,
   "metadata": {},
   "outputs": [
    {
     "data": {
      "text/plain": [
       "array([list([1, 2, 3, 4]), list([5, 6, 7, 8, [9, 10, 11]])], dtype=object)"
      ]
     },
     "execution_count": 45,
     "metadata": {},
     "output_type": "execute_result"
    }
   ],
   "source": [
    "data2 = [[1,2,3,4], [5,6,7,8,[9,10,11]]] #구조, 모양이 일치하지 않으면, 차원으로 돌아가는게 아니라 list로 들어간다. \n",
    "arr2=np.array(data2)\n",
    "arr2"
   ]
  },
  {
   "cell_type": "code",
   "execution_count": 48,
   "metadata": {},
   "outputs": [
    {
     "data": {
      "text/plain": [
       "array([[1, 2, 3],\n",
       "       [4, 5, 6]])"
      ]
     },
     "execution_count": 48,
     "metadata": {},
     "output_type": "execute_result"
    }
   ],
   "source": [
    "data3 = [[1,2,3] , [4,5,6]]\n",
    "arr3 = np.array(data3)\n",
    "arr3"
   ]
  },
  {
   "cell_type": "code",
   "execution_count": 43,
   "metadata": {},
   "outputs": [
    {
     "name": "stdout",
     "output_type": "stream",
     "text": [
      "1\n",
      "(2,)\n",
      "object\n"
     ]
    }
   ],
   "source": [
    "print(arr2.ndim)\n",
    "print(arr2.shape)\n",
    "print(arr2.dtype)"
   ]
  },
  {
   "cell_type": "markdown",
   "metadata": {},
   "source": [
    "# 어레이의 원소타입 변경 부분\n"
   ]
  },
  {
   "cell_type": "code",
   "execution_count": 50,
   "metadata": {},
   "outputs": [
    {
     "data": {
      "text/plain": [
       "array([b'1', b'2', b'3'], dtype='|S1')"
      ]
     },
     "execution_count": 50,
     "metadata": {},
     "output_type": "execute_result"
    }
   ],
   "source": [
    "arr3 = np.array([1,2,3], dtype=np.string_)\n",
    "arr3"
   ]
  },
  {
   "cell_type": "markdown",
   "metadata": {},
   "source": [
    "# array(numpy) 와 list(original py)의 속도비교 =>해당 패키지가 있는지 찾아봐야\n"
   ]
  },
  {
   "cell_type": "code",
   "execution_count": 52,
   "metadata": {},
   "outputs": [
    {
     "name": "stdout",
     "output_type": "stream",
     "text": [
      " size_vector : 100000\n",
      "python list Load Time : 0.0\n",
      "python list for loop : 0.024932861328125\n",
      " Python List Total :0.024932861328125\n",
      "numpy array1 Load Time : 0.0\n",
      "numpy array1 for loop : 0.0\n",
      " numpy array1 Total :0.0\n",
      "numpy array2 Load Time : 0.000997304916381836\n",
      "numpy array2 for loop : 0.032962799072265625\n",
      " numpy array2 Total :0.03396010398864746\n",
      "------------------------------\n",
      " size_vector : 100\n",
      "python list Load Time : 0.0\n",
      "python list for loop : 0.0009472370147705078\n",
      " Python List Total :0.0009472370147705078\n",
      "numpy array1 Load Time : 0.0\n",
      "numpy array1 for loop : 0.0\n",
      " numpy array1 Total :0.0\n",
      "numpy array2 Load Time : 0.0\n",
      "numpy array2 for loop : 0.0\n",
      " numpy array2 Total :0.0\n",
      "------------------------------\n"
     ]
    }
   ],
   "source": [
    "\n",
    "# 물론 조건 및 여러 상황에 따라서 조금 다를 수 있으니 참고!\n",
    "\n",
    "# 01) 아래는 두 개의 리스트에서 각기 리스트의 합을 구하는 경우\n",
    "# ( 코드 상 차이가 발생하는 부분들 : range, 리스트에서 +는 리스트 연결이나, numpy에서는 각기 원소들의 합\n",
    "# 따라서 동일한 역할을 위해서는 리스트에서는for가 필요함\n",
    "\n",
    "import time\n",
    "size_vector = 100000\n",
    "\n",
    "def pythonlist(size_vector):\n",
    "    t1 = time.time()\n",
    "    x = range(size_vector)\n",
    "    y = range(size_vector)\n",
    "    t2 = time.time()\n",
    "    print (\"python list Load Time : \" + str(t2-t1))\n",
    "    z = []\n",
    "    \n",
    "    t3 = time.time()\n",
    "    for i in range(len(x)):\n",
    "        z.append(x[i] + y[i])\n",
    "    t4 = time.time()\n",
    "    print (\"python list for loop : \" + str(t4- t3))\n",
    "    \n",
    "    print (\" Python List Total :\" + str(t4 - t1))\n",
    "\n",
    "    \n",
    "def numpyarray1(size_vector):\n",
    "    t1 = time.time()\n",
    "    x = np.arange(size_vector)\n",
    "    y = np.arange(size_vector)\n",
    "    t2 = time.time()\n",
    "    print (\"numpy array1 Load Time : \"+str(t2-t1))\n",
    "    \n",
    "    t3 = time.time()\n",
    "    z = x + y\n",
    "    t4 = time.time()\n",
    "    print (\"numpy array1 for loop : \" + str(t4- t3))\n",
    "\n",
    "    print (\" numpy array1 Total :\" + str(t4 - t1))\n",
    "\n",
    "def numpyarray2(size_vector):\n",
    "    t1 = time.time()\n",
    "    x = np.arange(size_vector)\n",
    "    y = np.arange(size_vector)\n",
    "    t2 = time.time()\n",
    "    print (\"numpy array2 Load Time : \"+str(t2-t1))\n",
    "    \n",
    "    t3 = time.time()\n",
    "    z = np.ndarray(size_vector)\n",
    "    for i in range(len(x)):\n",
    "        z[i] = x[i] + y[i] #array와 list 짬뽕\n",
    "    t4 = time.time()\n",
    "    print (\"numpy array2 for loop : \" + str(t4- t3))\n",
    "    print (\" numpy array2 Total :\" + str(t4 - t1))\n",
    "\n",
    "print (\" size_vector : 100000\")\n",
    "pythonlist(size_vector)\n",
    "numpyarray1(size_vector)\n",
    "numpyarray2(size_vector)\n",
    "print (\"------------------------------\")\n",
    "\n",
    "print (\" size_vector : 100\")\n",
    "size_vector = 100\n",
    "pythonlist(size_vector)\n",
    "numpyarray1(size_vector)\n",
    "numpyarray2(size_vector)\n",
    "print (\"------------------------------\")\n",
    "\n",
    "\n",
    "#  샘플 결과 \n",
    "# -->기본적으로 일반적인 list로 생성하는 것이 array로 생성하는 것에 비해서 많은 속도가 소욧된다.\n",
    "# --> numpy의 백터 연산이 기본적인 for에서 append보다 속도가 빠른 것을 볼 수 있음.\n",
    "# --> 동잉한 for에 대해서도 상당히 속도가 빠른 것을 볼 수 있다. \n",
    "# --> 작은 숫자에서는 큰 차이가 없거나 경우에 따라서 List가 빠를 수도 있음."
   ]
  },
  {
   "cell_type": "code",
   "execution_count": 53,
   "metadata": {},
   "outputs": [
    {
     "name": "stdout",
     "output_type": "stream",
     "text": [
      "Number : 100\n",
      "List0-Try :  0.0\n",
      "List1-Try :  0.0\n",
      "List2-Try :  0.0\n",
      "List3-Try :  0.0\n",
      "Array-Try :  0.0\n",
      "---------------\n",
      "Number : 100000\n",
      "List0-Try :  11.408506393432617\n",
      "List1-Try :  0.03091740608215332\n",
      "List2-Try :  0.028922557830810547\n",
      "List3-Try :  0.03390955924987793\n",
      "Array-Try :  0.0\n"
     ]
    }
   ],
   "source": [
    "# 02) 속도 비교\n",
    "# 제곱 결과들\n",
    "\n",
    "def square_list0(N):\n",
    "    squares = []\n",
    "    for n in range(N):\n",
    "        squares = squares + [n**2]\n",
    "    return squares\n",
    "\n",
    "\n",
    "def square_list1(N):\n",
    "    squares = []\n",
    "    for n in range(N):\n",
    "        # 일반적으로 생성해서 더하는 방법\n",
    "        squares += [n**2]\n",
    "    return squares\n",
    "    \n",
    "\n",
    "def square_list2(N):\n",
    "    squares = []\n",
    "    for n in range(N):\n",
    "        # append 라고 이미 정의된 메소드 이용하는 방법\n",
    "        squares.append(n**2)\n",
    "    return squares\n",
    "    \n",
    "\n",
    "def square_list3(N):\n",
    "    # 동일한 방법이나 벡터연산으로 처리\n",
    "    return [n**2 for n in range(N)] \n",
    "#리스트 => 값을 모을 거에요 \n",
    "#n**2 값을 모을거에요\n",
    "#그 N은 반복문에 있어요 \n",
    "\n",
    "def square_array(N):\n",
    "    # Vectorize the entire operation.\n",
    "    #from numpy import arange\n",
    "    #return arange(N)**2\n",
    "    return np.arange(N)**2 #numpy => 원소 개별에 접근한다. \n",
    "\n",
    "\n",
    "n = 100\n",
    "print(\"Number :\" ,n)\n",
    "t1 = time.time()\n",
    "square_list0(n)\n",
    "t2 = time.time()\n",
    "print (\"List0-Try : \",t2-t1)\n",
    "\n",
    "t1 = time.time()\n",
    "square_list1(n)\n",
    "t2 = time.time()\n",
    "print (\"List1-Try : \",t2-t1)\n",
    "\n",
    "t1 = time.time()\n",
    "square_list2(n)\n",
    "t2 = time.time()\n",
    "print (\"List2-Try : \",t2-t1)\n",
    "\n",
    "t1 = time.time()\n",
    "square_list3(n)\n",
    "t2 = time.time()\n",
    "print (\"List3-Try : \",t2-t1)\n",
    "\n",
    "t1 = time.time()\n",
    "square_array(n)\n",
    "t2 = time.time()\n",
    "print (\"Array-Try : \",t2-t1)\n",
    "print (\"---------------\")\n",
    "\n",
    "n = 100000\n",
    "print(\"Number :\", n)\n",
    "t1 = time.time()\n",
    "square_list0(n)\n",
    "t2 = time.time()\n",
    "print (\"List0-Try : \",t2-t1)\n",
    "\n",
    "t1 = time.time()\n",
    "square_list1(n)\n",
    "t2 = time.time()\n",
    "print (\"List1-Try : \",t2-t1)\n",
    "\n",
    "t1 = time.time()\n",
    "square_list2(n)\n",
    "t2 = time.time()\n",
    "print (\"List2-Try : \",t2-t1)\n",
    "\n",
    "t1 = time.time()\n",
    "square_list3(n)\n",
    "t2 = time.time()\n",
    "print (\"List3-Try : \",t2-t1)\n",
    "\n",
    "t1 = time.time()\n",
    "square_array(n)\n",
    "t2 = time.time()\n",
    "print (\"Array-Try : \",t2-t1)\n",
    "\n",
    "\n",
    "\n",
    "# 결과 \n",
    "# ---> 리스트를 사용할 것이라면 그래도 내부적으로 정의된 append가 빠르며\n",
    "# ---> 리스트를 사용할 때 이보다더 더 빠르게 사용하려면 \"벡터연산\"으로 코드를 변경할 것\n",
    "# ---> 이보다도 numpy가 더 빠르다. 특히 n이 작으면 차이가 별로 없으나, 커질수록 많이 차이가 남!!!"
   ]
  },
  {
   "cell_type": "markdown",
   "metadata": {},
   "source": [
    "# python range / numpy np.arrange 기능 유사"
   ]
  },
  {
   "cell_type": "markdown",
   "metadata": {},
   "source": [
    "# astype : 배열 이미 안에 있는 것의 자료형 변경"
   ]
  },
  {
   "cell_type": "markdown",
   "metadata": {},
   "source": [
    "# 리스트와 array 색인 비슷"
   ]
  },
  {
   "cell_type": "code",
   "execution_count": 55,
   "metadata": {},
   "outputs": [
    {
     "name": "stdout",
     "output_type": "stream",
     "text": [
      "[1, 2, 3, 4, 5, 6]\n",
      "[1 2 3 4 5 6]\n"
     ]
    }
   ],
   "source": [
    "list1 = [1,2,3,4,5,6]\n",
    "arr1 = np.array(list1)\n",
    "print(list1)\n",
    "print(arr1)"
   ]
  },
  {
   "cell_type": "code",
   "execution_count": 56,
   "metadata": {},
   "outputs": [
    {
     "name": "stdout",
     "output_type": "stream",
     "text": [
      "1\n",
      "1\n"
     ]
    }
   ],
   "source": [
    "print(list1[0])\n",
    "print(arr1[0])"
   ]
  },
  {
   "cell_type": "code",
   "execution_count": 59,
   "metadata": {},
   "outputs": [
    {
     "name": "stdout",
     "output_type": "stream",
     "text": [
      "[2, 3]\n",
      "[2 3]\n",
      "[1, 2, 3, 4, 5, 6]\n",
      "[1 2 3 4 5 6]\n",
      "[1, 3, 5]\n",
      "[1 3 5]\n"
     ]
    }
   ],
   "source": [
    "print(list1[1:3])\n",
    "print(arr1[1:3])\n",
    "print(list1[:])\n",
    "print(arr1[:])\n",
    "print(list1[::2])\n",
    "print(arr1[::2]) "
   ]
  },
  {
   "cell_type": "code",
   "execution_count": 65,
   "metadata": {},
   "outputs": [
    {
     "data": {
      "text/plain": [
       "array([0, 1, 2, 3, 4, 5])"
      ]
     },
     "execution_count": 65,
     "metadata": {},
     "output_type": "execute_result"
    }
   ],
   "source": [
    "np.arange(0,6,1)"
   ]
  },
  {
   "cell_type": "code",
   "execution_count": 4,
   "metadata": {},
   "outputs": [
    {
     "ename": "NameError",
     "evalue": "name 'np' is not defined",
     "output_type": "error",
     "traceback": [
      "\u001b[1;31m---------------------------------------------------------------------------\u001b[0m",
      "\u001b[1;31mNameError\u001b[0m                                 Traceback (most recent call last)",
      "\u001b[1;32m<ipython-input-4-2155119e1d3d>\u001b[0m in \u001b[0;36m<module>\u001b[1;34m\u001b[0m\n\u001b[1;32m----> 1\u001b[1;33m \u001b[0ma\u001b[0m\u001b[1;33m=\u001b[0m \u001b[0mnp\u001b[0m\u001b[1;33m.\u001b[0m\u001b[0marange\u001b[0m\u001b[1;33m(\u001b[0m\u001b[1;36m0\u001b[0m\u001b[1;33m,\u001b[0m\u001b[1;36m51\u001b[0m\u001b[1;33m,\u001b[0m\u001b[1;36m10\u001b[0m\u001b[1;33m)\u001b[0m\u001b[1;33m[\u001b[0m\u001b[1;33m:\u001b[0m\u001b[1;33m,\u001b[0m\u001b[0mnp\u001b[0m\u001b[1;33m.\u001b[0m\u001b[0mnewaxis\u001b[0m\u001b[1;33m]\u001b[0m \u001b[1;33m+\u001b[0m \u001b[0mnp\u001b[0m\u001b[1;33m.\u001b[0m\u001b[0marange\u001b[0m\u001b[1;33m(\u001b[0m\u001b[1;36m0\u001b[0m\u001b[1;33m,\u001b[0m\u001b[1;36m6\u001b[0m\u001b[1;33m,\u001b[0m\u001b[1;36m1\u001b[0m\u001b[1;33m)\u001b[0m \u001b[1;31m#가로를 세로로 바꿔주는거\u001b[0m\u001b[1;33m\u001b[0m\u001b[1;33m\u001b[0m\u001b[0m\n\u001b[0m",
      "\u001b[1;31mNameError\u001b[0m: name 'np' is not defined"
     ]
    }
   ],
   "source": [
    "a= np.arange(0,51,10)[:,np.newaxis] + np.arange(0,6,1) #가로를 세로로 바꿔주는거"
   ]
  },
  {
   "cell_type": "code",
   "execution_count": 72,
   "metadata": {},
   "outputs": [
    {
     "data": {
      "text/plain": [
       "array([3, 4])"
      ]
     },
     "execution_count": 72,
     "metadata": {},
     "output_type": "execute_result"
    }
   ],
   "source": [
    "a[0][3:5]"
   ]
  },
  {
   "cell_type": "code",
   "execution_count": 73,
   "metadata": {},
   "outputs": [
    {
     "data": {
      "text/plain": [
       "array([3, 4])"
      ]
     },
     "execution_count": 73,
     "metadata": {},
     "output_type": "execute_result"
    }
   ],
   "source": [
    "a[0, 3:5]"
   ]
  },
  {
   "cell_type": "code",
   "execution_count": 2,
   "metadata": {},
   "outputs": [
    {
     "ename": "NameError",
     "evalue": "name 'a' is not defined",
     "output_type": "error",
     "traceback": [
      "\u001b[1;31m---------------------------------------------------------------------------\u001b[0m",
      "\u001b[1;31mNameError\u001b[0m                                 Traceback (most recent call last)",
      "\u001b[1;32m<ipython-input-2-082785d8fb12>\u001b[0m in \u001b[0;36m<module>\u001b[1;34m\u001b[0m\n\u001b[1;32m----> 1\u001b[1;33m \u001b[0ma\u001b[0m\u001b[1;33m[\u001b[0m\u001b[1;33m:\u001b[0m\u001b[1;33m,\u001b[0m \u001b[1;36m2\u001b[0m\u001b[1;33m]\u001b[0m\u001b[1;33m[\u001b[0m\u001b[1;33m:\u001b[0m\u001b[1;33m,\u001b[0m\u001b[0mnp\u001b[0m\u001b[1;33m.\u001b[0m\u001b[0mnewaxis\u001b[0m\u001b[1;33m]\u001b[0m\u001b[1;33m\u001b[0m\u001b[1;33m\u001b[0m\u001b[0m\n\u001b[0m",
      "\u001b[1;31mNameError\u001b[0m: name 'a' is not defined"
     ]
    }
   ],
   "source": [
    "a[:, 2][:,np.newaxis]"
   ]
  },
  {
   "cell_type": "code",
   "execution_count": 3,
   "metadata": {},
   "outputs": [
    {
     "ename": "NameError",
     "evalue": "name 'a' is not defined",
     "output_type": "error",
     "traceback": [
      "\u001b[1;31m---------------------------------------------------------------------------\u001b[0m",
      "\u001b[1;31mNameError\u001b[0m                                 Traceback (most recent call last)",
      "\u001b[1;32m<ipython-input-3-adb89b992186>\u001b[0m in \u001b[0;36m<module>\u001b[1;34m\u001b[0m\n\u001b[1;32m----> 1\u001b[1;33m \u001b[0ma\u001b[0m\u001b[1;33m[\u001b[0m\u001b[1;36m2\u001b[0m\u001b[1;33m:\u001b[0m\u001b[1;33m:\u001b[0m\u001b[1;36m2\u001b[0m\u001b[1;33m,\u001b[0m \u001b[1;36m0\u001b[0m\u001b[1;33m:\u001b[0m\u001b[1;33m:\u001b[0m\u001b[1;36m2\u001b[0m\u001b[1;33m]\u001b[0m\u001b[1;33m\u001b[0m\u001b[1;33m\u001b[0m\u001b[0m\n\u001b[0m",
      "\u001b[1;31mNameError\u001b[0m: name 'a' is not defined"
     ]
    }
   ],
   "source": [
    "a[2::2, 0::2]"
   ]
  },
  {
   "cell_type": "code",
   "execution_count": 82,
   "metadata": {},
   "outputs": [
    {
     "data": {
      "text/plain": [
       "array([[44, 45],\n",
       "       [54, 55]])"
      ]
     },
     "execution_count": 82,
     "metadata": {},
     "output_type": "execute_result"
    }
   ],
   "source": [
    "a[4:, 4:]"
   ]
  },
  {
   "cell_type": "markdown",
   "metadata": {},
   "source": [
    "# Boolean Indexing"
   ]
  },
  {
   "cell_type": "code",
   "execution_count": 87,
   "metadata": {},
   "outputs": [
    {
     "name": "stdout",
     "output_type": "stream",
     "text": [
      "[0 1 2 3 4 5 6 7 8 9]\n",
      "[ True  True  True  True  True False False False False False]\n",
      "[0 1 2 3 4]\n"
     ]
    }
   ],
   "source": [
    "arr1 = np.arange(10)\n",
    "print(arr1)\n",
    "print(arr1<5) #모든 값에 대해서 5보다 작아???\n",
    "print(arr1[arr1<5])"
   ]
  },
  {
   "cell_type": "code",
   "execution_count": null,
   "metadata": {},
   "outputs": [],
   "source": []
  }
 ],
 "metadata": {
  "kernelspec": {
   "display_name": "Python 3",
   "language": "python",
   "name": "python3"
  },
  "language_info": {
   "codemirror_mode": {
    "name": "ipython",
    "version": 3
   },
   "file_extension": ".py",
   "mimetype": "text/x-python",
   "name": "python",
   "nbconvert_exporter": "python",
   "pygments_lexer": "ipython3",
   "version": "3.7.6"
  }
 },
 "nbformat": 4,
 "nbformat_minor": 4
}
