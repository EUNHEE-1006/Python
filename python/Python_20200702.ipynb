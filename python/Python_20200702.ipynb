{
 "cells": [
  {
   "cell_type": "code",
   "execution_count": 2,
   "metadata": {},
   "outputs": [],
   "source": [
    "import pandas as pd\n",
    "from bs4 import BeautifulSoup as bs\n",
    "import os\n",
    "import sys\n",
    "import requests\n",
    "import re #정규식 사용을 위함 "
   ]
  },
  {
   "cell_type": "code",
   "execution_count": 2,
   "metadata": {},
   "outputs": [
    {
     "name": "stdout",
     "output_type": "stream",
     "text": [
      "http://dart.fss.or.kr/dsac001/mainAll.do?selectDate=2017.03.28\n"
     ]
    }
   ],
   "source": [
    "date=\"2017.03.28\"\n",
    "url_part1 =\"\"\"http://dart.fss.or.kr/dsac001/mainAll.do?selectDate=\"\"\"\n",
    "url = url_part1+ date\n",
    "print(url)\n",
    "res = requests.get(url) \n",
    "soup = bs(res.text, \"html.parser\")"
   ]
  },
  {
   "cell_type": "code",
   "execution_count": 3,
   "metadata": {},
   "outputs": [
    {
     "data": {
      "text/plain": [
       "'\\r\\n\\t\\t[1/9] [총 894건]\\r\\n\\t'"
      ]
     },
     "execution_count": 3,
     "metadata": {},
     "output_type": "execute_result"
    }
   ],
   "source": [
    "totNum=soup.find_all(\"p\")[8].text\n",
    "totNum"
   ]
  },
  {
   "cell_type": "code",
   "execution_count": null,
   "metadata": {},
   "outputs": [],
   "source": []
  },
  {
   "cell_type": "code",
   "execution_count": null,
   "metadata": {},
   "outputs": [],
   "source": []
  },
  {
   "cell_type": "code",
   "execution_count": 4,
   "metadata": {},
   "outputs": [],
   "source": [
    "res = requests.get(url) #urllib.request.urlopen이랑 같은거 : 사이트마다 안될시 이용해볼것!!\n",
    "soup = bs(res.text, \"html.parser\")"
   ]
  },
  {
   "cell_type": "code",
   "execution_count": null,
   "metadata": {},
   "outputs": [],
   "source": []
  },
  {
   "cell_type": "code",
   "execution_count": null,
   "metadata": {},
   "outputs": [],
   "source": []
  },
  {
   "cell_type": "code",
   "execution_count": 5,
   "metadata": {},
   "outputs": [
    {
     "name": "stdout",
     "output_type": "stream",
     "text": [
      "0\n",
      "<p id=\"accessibility\"><a href=\"#layoutMain\">본문 바로가기</a></p>\n",
      "--------------\n",
      "1\n",
      "<p class=\"utill\">\n",
      "<!-- <ul class=\"topLink\"> -->\n",
      "<a href=\"/dsag002/loginForm.do\"><img alt=\"로그인\" src=\"/images/common/utill_login.gif\" title=\"로그인\"/></a>\n",
      "<a href=\"/dsag003/main.do\"><img alt=\"마이페이지\" src=\"/images/common/utill_mypage.gif\" title=\"마이페이지\"/></a>\n",
      "<a href=\"/dsaa003/searchGuide.do\"><img alt=\"공시업무\" src=\"/images/common/utill_gongsi.gif\" title=\"공시업무\"/></a>\n",
      "<a href=\"/introduction/content1.do\"><img alt=\"다트소개\" src=\"/images/common/utill_intro.gif\" title=\"다트소개\"/></a>\n",
      "<a href=\"https://opendart.fss.or.kr/intro/main.do\" target=\"_blank\"><img alt=\"오픈API\" src=\"/images/common/utill_openapi.gif\" title=\"오픈API\"/></a>\n",
      "<a href=\"/introduction/content6.do\"><img alt=\"RSS이용안내\" src=\"/images/common/utill_rss.gif\" title=\"RSS이용안내\"/></a>\n",
      "<a class=\"end\" href=\"/sitemap.do\"><img alt=\"사이트맵\" src=\"/images/common/utill_sitemap.gif\" title=\"사이트맵\"/></a>\n",
      "</p>\n",
      "--------------\n",
      "2\n",
      "<p class=\"tit\"><img alt=\"최근공시\" src=\"/images/common/lnb_recent_disclosure.jpg\" title=\"최근공시\"/></p>\n",
      "--------------\n",
      "3\n",
      "<p>\n",
      "<input name=\"keyword\" onkeyup=\"searchPressEnterLeftKeyword(this);\" title=\"통합검색입력\" type=\"text\"/><input alt=\"통합검색\" class=\"ibtn\" onclick=\"clickSearch();\" src=\"/images/btn/lnb_search.gif\" style=\"cursor:pointer;vertical-align: top;\" title=\"통합검색\" type=\"image\"/>\n",
      "</p>\n",
      "--------------\n",
      "4\n",
      "<p class=\"loc\"><img alt=\"홈\" src=\"/images/common/ico_home.gif\"/> &gt;\r\n",
      "\t\r\n",
      "\t<span>  최근공시\r\n",
      "\t\t\t\r\n",
      "\t\t\r\n",
      "\t\t\t\r\n",
      "\t\t\t&gt;  전체</span>\n",
      "</p>\n",
      "--------------\n",
      "5\n",
      "<p class=\"help\">\n",
      "<a href=\"\" onclick=\"scrapFeed('today'); return false;\"><img alt=\"rss주소복사\" id=\"rss\" src=\"/images/button/btn_rss.gif\" style=\"visibility:hidden\"/></a>\n",
      "<a href=\"#help\" onclick=\"openHelp(110); return false;\"><img alt=\"도움말 새창\" id=\"help\" src=\"/images/common/help.gif\"/></a>\n",
      "</p>\n",
      "--------------\n",
      "6\n",
      "<p class=\"date_choice\">\n",
      "<a class=\"date_select\" href=\"#date\" onclick=\"changeMdayCnt(this, '0'); return false;\" style=\"cursor:pointer\" title=\"03월 28일\">\r\n",
      "\t\t\t\t\t\t\t\t03월 28일\r\n",
      "\t\t\t\t\t\t\t</a>\n",
      "<a href=\"#date\" onclick=\"changeMdayCnt(this, '1'); return false;\" style=\"cursor:pointer\" title=\"03월 27일\">\r\n",
      "\t\t\t\t\t\t\t\t03월 27일\r\n",
      "\t\t\t\t\t\t\t</a>\n",
      "<a href=\"#date\" onclick=\"changeMdayCnt(this, '4'); return false;\" style=\"cursor:pointer\" title=\"03월 24일\">\r\n",
      "\t\t\t\t\t\t\t\t03월 24일\r\n",
      "\t\t\t\t\t\t\t</a>\n",
      "<a href=\"#date\" onclick=\"changeMdayCnt(this, '5'); return false;\" style=\"cursor:pointer\" title=\"03월 23일\">\r\n",
      "\t\t\t\t\t\t\t\t03월 23일\r\n",
      "\t\t\t\t\t\t\t</a>\n",
      "<a href=\"#date\" onclick=\"changeMdayCnt(this, '6'); return false;\" style=\"cursor:pointer\" title=\"03월 22일\">\r\n",
      "\t\t\t\t\t\t\t\t03월 22일\r\n",
      "\t\t\t\t\t\t\t</a>\n",
      "<a class=\"selectDate\" href=\"#calDate\" id=\"calDate\" onclick=\"selectDate2(); return false;\" style=\"cursor:pointer\" title=\"날짜선택\">날짜선택</a>\n",
      "</p>\n",
      "--------------\n",
      "7\n",
      "<p class=\"table_tit\">\n",
      "<b>\r\n",
      "\t\t\r\n",
      "\t\t\r\n",
      "\t\t\r\n",
      "\t\t\r\n",
      "        \r\n",
      "        \r\n",
      "\t\t전체\r\n",
      "\t\t  894건\r\n",
      "\t\t\r\n",
      "\t\t\t\r\n",
      "\t\t\t\t\r\n",
      "\t\t\t\t\t\r\n",
      "\t\t\t\t\t(2017년 03월 28일)\r\n",
      "\t\t\t\t\r\n",
      "\t\t\t\r\n",
      "\t\t\t\t\r\n",
      "\t\t\t\r\n",
      "\t\t\t\t\r\n",
      "\t\t\t\r\n",
      "\t\t\t\t\r\n",
      "\t\t\t\r\n",
      "\t\t\t\t\r\n",
      "\t\t\t\r\n",
      "\t\t\r\n",
      "\t</b></p>\n",
      "--------------\n",
      "8\n",
      "<p class=\"page_info\">\r\n",
      "\t\t[1/9] [총 894건]\r\n",
      "\t</p>\n",
      "--------------\n",
      "9\n",
      "<p class=\"des\">\r\n",
      "\t상기 <span>보고서명</span> 앞의 대괄호([]) 및 <span>비고</span>란의 약어(예:<img alt=\"정정신고\" src=\"/images/common/ico_correct_report.gif\" style=\"vertical-align:middle; padding-bottom:2px; \" title=\"본 보고서 제출 후 정정신고가 있으니 관련 보고서를 참조하시기 바람\"/>)에 마우스를 위치하면 설명이 나타나니 참고하시기 바랍니다.\r\n",
      "</p>\n",
      "--------------\n",
      "10\n",
      "<p class=\"qr_code\"><a href=\"https://opendart.fss.or.kr\" target=\"_blank\" title=\"오픈다트 바로가기\"><img alt=\"오픈다트 바로가기\" src=\"/images/common/opendart.png\"/></a></p>\n",
      "--------------\n",
      "11\n",
      "<p class=\"qr_code\"><a href=\"/info/main.do\" target=\"_blank\" title=\"기업공시길라잡이 바로가기\"><img alt=\"기업공시길라잡이 바로가기\" src=\"/images/common/dart_info.jpg\"/></a></p>\n",
      "--------------\n",
      "12\n",
      "<p class=\"qr_code\"><a href=\"#help\" onclick=\"openHelp(); return false;\" title=\"이용자가이드 바로가기\"><img alt=\"이용자가이드 바로가기\" src=\"/images/common/guide.gif\"/></a></p>\n",
      "--------------\n",
      "13\n",
      "<p class=\"qr_code\"><img alt=\"모바일전자공시 QR코드 (http://mdart.fss.or.kr 모바일 사이트로 이동)\" src=\"/images/common/qr.gif\"/></p>\n",
      "--------------\n",
      "14\n",
      "<p class=\"f_logo\" style=\"margin-left:80px;\"><img alt=\"금융감독원\" src=\"/images/common/f_logo.gif\" title=\"금융감독원\"/></p>\n",
      "--------------\n",
      "15\n",
      "<p><img alt=\"서울특별시 영등포구 여의대로 38 대표전화 : 02)3145-5114 Copyright ⓒ FINANCIAL SUPERVISORY SERVICE All Rights Reserved.\" src=\"/images/common/f_addr.gif\" title=\"서울특별시 영등포구 여의대로 38\n",
      "대표전화 : 02)3145-5114\n",
      "Copyright ⓒ FINANCIAL SUPERVISORY SERVICE All Rights Reserved.\"/></p>\n",
      "--------------\n",
      "16\n",
      "<p><img alt=\"홈페이지 이용문의 : (국번없이)1332 (5번-&gt;1번-&gt;1번) 기업공시 제도문의 : (국번없이)1332 (5번-&gt;1번-&gt;2,3,4,5번)\" src=\"/images/common/f_tel1.gif\" title=\"홈페이지 이용문의 :\n",
      "(국번없이)1332 (5번-&gt;1번-&gt;1번)\n",
      "기업공시 제도문의 :\n",
      "(국번없이)1332 (5번-&gt;1번-&gt;2,3,4,5번)\"/></p>\n",
      "--------------\n",
      "17\n",
      "<p style=\"margin-top:12px;\"><img alt=\"ISO 20000 인증\" src=\"/images/common/ISOIEC_20000-1_with_UKAS.jpg\" title=\"ISO 20000 인증\"/></p>\n",
      "--------------\n"
     ]
    }
   ],
   "source": [
    "for i in range(0, len(soup.find_all(\"p\"))) :\n",
    "    print(i)\n",
    "    print(soup.find_all(\"p\")[i])\n",
    "    print(\"--------------\")"
   ]
  },
  {
   "cell_type": "code",
   "execution_count": 6,
   "metadata": {},
   "outputs": [],
   "source": [
    "totNum=soup.find_all(\"p\")[8].text"
   ]
  },
  {
   "cell_type": "code",
   "execution_count": 7,
   "metadata": {},
   "outputs": [
    {
     "data": {
      "text/plain": [
       "'\\r\\n\\t\\t[1/9]  894건]\\r\\n\\t'"
      ]
     },
     "execution_count": 7,
     "metadata": {},
     "output_type": "execute_result"
    }
   ],
   "source": [
    "#값 변경 : re.sub(찾을패턴, 찾고나서 변경할 값, 어디서할지 대상 )\n",
    "# [ : 특수문자라 \\표시\n",
    "\n",
    "re.sub(r\"\\[총\",\"\",totNum)"
   ]
  },
  {
   "cell_type": "code",
   "execution_count": 8,
   "metadata": {},
   "outputs": [
    {
     "data": {
      "text/plain": [
       "'\\r\\n\\t\\t총 894건]\\r\\n\\t'"
      ]
     },
     "execution_count": 8,
     "metadata": {},
     "output_type": "execute_result"
    }
   ],
   "source": [
    "#.* : 그 안에 뭐가 오든 상관 없다. \n",
    "# 1.다이렉트 점근 (r없이) : 특수문자 앞에 -\\\\두개!!\n",
    "totNum=re.sub(\"\\\\[.*\\\\] \\\\[\", \"\", totNum)\n",
    "totNum"
   ]
  },
  {
   "cell_type": "code",
   "execution_count": 9,
   "metadata": {},
   "outputs": [
    {
     "data": {
      "text/plain": [
       "'\\r\\n\\t\\t 894건]\\r\\n\\t'"
      ]
     },
     "execution_count": 9,
     "metadata": {},
     "output_type": "execute_result"
    }
   ],
   "source": [
    "# 2. 간접 접근 \n",
    "totNum=re.sub(r\"총\",\"\",totNum)\n",
    "totNum"
   ]
  },
  {
   "cell_type": "code",
   "execution_count": 10,
   "metadata": {},
   "outputs": [
    {
     "data": {
      "text/plain": [
       "'\\r\\n\\t\\t 894\\r\\n\\t'"
      ]
     },
     "execution_count": 10,
     "metadata": {},
     "output_type": "execute_result"
    }
   ],
   "source": [
    "totNum=re.sub(r\"건\\]\",\"\",totNum)\n",
    "totNum"
   ]
  },
  {
   "cell_type": "code",
   "execution_count": 11,
   "metadata": {},
   "outputs": [
    {
     "data": {
      "text/plain": [
       "'894'"
      ]
     },
     "execution_count": 11,
     "metadata": {},
     "output_type": "execute_result"
    }
   ],
   "source": [
    "totNum.strip()"
   ]
  },
  {
   "cell_type": "code",
   "execution_count": 12,
   "metadata": {},
   "outputs": [
    {
     "data": {
      "text/plain": [
       "'aaaabbbbbccccc'"
      ]
     },
     "execution_count": 12,
     "metadata": {},
     "output_type": "execute_result"
    }
   ],
   "source": [
    "#strip() : 중간의 공백은 살아있다.!!\n",
    "a =\"      aaaa      bbbbb   ccccc\"\n",
    "a.strip()\n",
    "#a.replace(찾을패턴, 바꿀값)\n",
    "a.replace(\" \",\"\")"
   ]
  },
  {
   "cell_type": "code",
   "execution_count": 13,
   "metadata": {},
   "outputs": [
    {
     "data": {
      "text/plain": [
       "'\\r\\n\\t\\t[1/9] [총 894건]\\r\\n\\t'"
      ]
     },
     "execution_count": 13,
     "metadata": {},
     "output_type": "execute_result"
    }
   ],
   "source": [
    "totNum=soup.find_all(\"p\")[8].text\n",
    "totNum"
   ]
  },
  {
   "cell_type": "code",
   "execution_count": 14,
   "metadata": {},
   "outputs": [
    {
     "data": {
      "text/plain": [
       "894"
      ]
     },
     "execution_count": 14,
     "metadata": {},
     "output_type": "execute_result"
    }
   ],
   "source": [
    "#처리해야 할 건수에 대한 정보 확인 \n",
    "totNum = re.sub(r\"\\[.*\\] \\[총\", \"\", totNum)\n",
    "totNum=re.sub(r\"건\\]\",\"\",totNum)\n",
    "totNum=int(totNum)\n",
    "totNum\n"
   ]
  },
  {
   "cell_type": "code",
   "execution_count": 15,
   "metadata": {},
   "outputs": [
    {
     "data": {
      "text/plain": [
       "9"
      ]
     },
     "execution_count": 15,
     "metadata": {},
     "output_type": "execute_result"
    }
   ],
   "source": [
    "#totNum의 값을 가지고 몇 개의 페이지를 롤링해야 하는지?\n",
    "totPage = (totNum//100) +1\n",
    "totPage\n"
   ]
  },
  {
   "cell_type": "code",
   "execution_count": 16,
   "metadata": {},
   "outputs": [
    {
     "data": {
      "text/plain": [
       "101"
      ]
     },
     "execution_count": 16,
     "metadata": {},
     "output_type": "execute_result"
    }
   ],
   "source": [
    "#0~100 =>1~100으로 접근해야해!!!\n",
    "len(soup.find_all(\"tr\"))"
   ]
  },
  {
   "cell_type": "code",
   "execution_count": 17,
   "metadata": {},
   "outputs": [
    {
     "data": {
      "text/plain": [
       "<tr>\n",
       "<td class=\"cen_txt\">\n",
       "\t\t\t\t\t\t18:46\n",
       "\t\t\t\t\t</td>\n",
       "<td>\n",
       "<span class=\"nobr1\" style=\"max-width:150px;\">\n",
       "<img alt=\"코스닥시장\" src=\"/images/ico_kosdaq.gif\" title=\"코스닥시장\"/> \n",
       "\t\t\t\t\t\t\t<a href=\"/dsae001/selectPopup.ax?selectKey=00364403\" onclick=\"openCorpInfo('00364403'); return false;\" title=\"쏠리드 기업개황 새창\">\n",
       "\t\t\t\t\t\t\t\t쏠리드\n",
       "\t\t\t\t\t\t\t</a>\n",
       "</span>\n",
       "</td>\n",
       "<td>\n",
       "<a href=\"/dsaf001/main.do?rcpNo=20170328901048\" id=\"r_20170328901048\" onclick=\"openReportViewer('20170328901048'); return false;\" title=\"불성실공시법인지정예고(공시불이행) 공시뷰어 새창\">불성실공시법인지정예고\n",
       "\t\t\t\t\t\t\t\n",
       "  \t\t\t\t\t\t\t(공시불이행)\n",
       "\t\t\t\t\t\t</a>\n",
       "</td>\n",
       "<td title=\"코스닥시장본부\"><div class=\"nobr\" style=\"width:95px\">코스닥시장본부</div></td>\n",
       "<td class=\"cen_txt\">2017.03.28</td>\n",
       "<td class=\"cen_txt end\"> <img alt=\"본 공시사항은 한국거래소 코스닥시장본부 소관임\" hspace=\"1\" src=\"/images/sub/remark05.gif\" title=\"본 공시사항은 한국거래소 코스닥시장본부 소관임\"/></td>\n",
       "</tr>"
      ]
     },
     "execution_count": 17,
     "metadata": {},
     "output_type": "execute_result"
    }
   ],
   "source": [
    "soup.find_all(\"tr\")[2]"
   ]
  },
  {
   "cell_type": "code",
   "execution_count": 18,
   "metadata": {},
   "outputs": [],
   "source": [
    "#시장종류\n",
    "Cat= soup.find_all(\"tr\")[2].find_all(\"td\")[1].find(\"img\").get(\"title\") #.get : 태그안의 속성의 값 가져올때\n",
    "#회사이름\n",
    "comName = soup.find_all(\"tr\")[2].find_all(\"a\")[0].text.strip()\n",
    "#회사 ID\n",
    "testStr = soup.find_all(\"tr\")[2].find_all(\"a\")[0].get(\"href\")\n",
    "    #방법 :1. re.sub \n",
    "    #방법 :2. re.findall\n",
    "coID =  re.findall(r\"[0-9]{8}\",testStr)[0] #연속된 숫자 8자리 --> 정규식 : [0-9]{8}\n",
    "#공시내용/제목\n",
    "tempStr = soup.find_all(\"tr\")[2].find_all(\"a\")[1].text.strip()\n",
    "tempStr=tempStr.replace(\"\\r\", \"\")\n",
    "tempStr=tempStr.replace(\"\\n\", \"\")\n",
    "tempStr=tempStr.replace(\"\\t\", \"\")\n",
    "tempStr=tempStr.replace(\" \", \"\")\n",
    "\n",
    "Content = tempStr\n",
    "#해당공시 고유값\n",
    "rcpNo = re.findall(r\"[0-9]{14}\", soup.find_all(\"tr\")[2].find_all(\"a\")[1].get(\"href\"))[0]\n",
    "#공시요청날짜\n",
    "pubDate = soup.find_all(\"tr\")[2].find_all(\"td\", class_=\"cen_txt\")[1].text.strip() # =date\n",
    "#공시 시간 \n",
    "\n",
    "pubTime = soup.find_all(\"tr\")[2].find_all(\"td\", class_=\"cen_txt\")[0].text.strip()"
   ]
  },
  {
   "cell_type": "code",
   "execution_count": 19,
   "metadata": {},
   "outputs": [
    {
     "data": {
      "text/plain": [
       "'불성실공시법인지정예고(공시불이행)'"
      ]
     },
     "execution_count": 19,
     "metadata": {},
     "output_type": "execute_result"
    }
   ],
   "source": [
    "#OR로 한번에 지우기 \n",
    "\n",
    "re.sub(r\"\\r|\\n|\\t| \", \"\", tempStr)"
   ]
  },
  {
   "cell_type": "code",
   "execution_count": null,
   "metadata": {},
   "outputs": [],
   "source": []
  },
  {
   "cell_type": "code",
   "execution_count": null,
   "metadata": {},
   "outputs": [],
   "source": []
  },
  {
   "cell_type": "code",
   "execution_count": null,
   "metadata": {},
   "outputs": [],
   "source": []
  },
  {
   "cell_type": "code",
   "execution_count": null,
   "metadata": {},
   "outputs": [],
   "source": []
  },
  {
   "cell_type": "code",
   "execution_count": 20,
   "metadata": {},
   "outputs": [
    {
     "data": {
      "text/plain": [
       "'2017.03.28'"
      ]
     },
     "execution_count": 20,
     "metadata": {},
     "output_type": "execute_result"
    }
   ],
   "source": [
    "pubDate = soup.find_all(\"tr\")[2].find_all(\"td\", class_=\"cen_txt\")[1].text.strip()\n",
    "pubDate"
   ]
  },
  {
   "cell_type": "code",
   "execution_count": 21,
   "metadata": {},
   "outputs": [
    {
     "data": {
      "text/plain": [
       "[<td class=\"cen_txt\">\n",
       " \t\t\t\t\t\t18:46\n",
       " \t\t\t\t\t</td>,\n",
       " <td class=\"cen_txt\">2017.03.28</td>,\n",
       " <td class=\"cen_txt end\"> <img alt=\"본 공시사항은 한국거래소 코스닥시장본부 소관임\" hspace=\"1\" src=\"/images/sub/remark05.gif\" title=\"본 공시사항은 한국거래소 코스닥시장본부 소관임\"/></td>]"
      ]
     },
     "execution_count": 21,
     "metadata": {},
     "output_type": "execute_result"
    }
   ],
   "source": [
    " soup.find_all(\"tr\")[2].find_all(\"td\", class_=\"cen_txt\")"
   ]
  },
  {
   "cell_type": "code",
   "execution_count": null,
   "metadata": {},
   "outputs": [],
   "source": []
  },
  {
   "cell_type": "code",
   "execution_count": 3,
   "metadata": {
    "scrolled": true
   },
   "outputs": [
    {
     "data": {
      "text/html": [
       "<div>\n",
       "<style scoped>\n",
       "    .dataframe tbody tr th:only-of-type {\n",
       "        vertical-align: middle;\n",
       "    }\n",
       "\n",
       "    .dataframe tbody tr th {\n",
       "        vertical-align: top;\n",
       "    }\n",
       "\n",
       "    .dataframe thead th {\n",
       "        text-align: right;\n",
       "    }\n",
       "</style>\n",
       "<table border=\"1\" class=\"dataframe\">\n",
       "  <thead>\n",
       "    <tr style=\"text-align: right;\">\n",
       "      <th></th>\n",
       "      <th>cat</th>\n",
       "      <th>coID</th>\n",
       "      <th>comName</th>\n",
       "      <th>content</th>\n",
       "      <th>pubDate</th>\n",
       "      <th>pubReqDate</th>\n",
       "      <th>pubTime</th>\n",
       "      <th>rcpNo</th>\n",
       "    </tr>\n",
       "  </thead>\n",
       "  <tbody>\n",
       "    <tr>\n",
       "      <th>0</th>\n",
       "      <td>코스닥시장</td>\n",
       "      <td>00111865</td>\n",
       "      <td>미래SCI</td>\n",
       "      <td>최대주주변경</td>\n",
       "      <td>2017.07.24</td>\n",
       "      <td>2017.07.24</td>\n",
       "      <td>19:07</td>\n",
       "      <td>20170724900550</td>\n",
       "    </tr>\n",
       "    <tr>\n",
       "      <th>1</th>\n",
       "      <td>유가증권시장</td>\n",
       "      <td>00134723</td>\n",
       "      <td>페이퍼코리아</td>\n",
       "      <td>기타경영사항(자율공시)</td>\n",
       "      <td>2017.07.24</td>\n",
       "      <td>2017.07.24</td>\n",
       "      <td>18:53</td>\n",
       "      <td>20170724800549</td>\n",
       "    </tr>\n",
       "    <tr>\n",
       "      <th>2</th>\n",
       "      <td>유가증권시장</td>\n",
       "      <td>00134723</td>\n",
       "      <td>페이퍼코리아</td>\n",
       "      <td>기타경영사항(자율공시)</td>\n",
       "      <td>2017.07.24</td>\n",
       "      <td>2017.07.24</td>\n",
       "      <td>18:49</td>\n",
       "      <td>20170724800548</td>\n",
       "    </tr>\n",
       "    <tr>\n",
       "      <th>3</th>\n",
       "      <td>코스닥시장</td>\n",
       "      <td>00268251</td>\n",
       "      <td>다산네트웍스</td>\n",
       "      <td></td>\n",
       "      <td>2017.07.24</td>\n",
       "      <td>2017.07.24</td>\n",
       "      <td>18:03</td>\n",
       "      <td>20170724900529</td>\n",
       "    </tr>\n",
       "    <tr>\n",
       "      <th>4</th>\n",
       "      <td>코스닥시장</td>\n",
       "      <td>00861720</td>\n",
       "      <td>이즈미디어</td>\n",
       "      <td>증권발행실적보고서</td>\n",
       "      <td>2017.07.24</td>\n",
       "      <td>2017.07.24</td>\n",
       "      <td>17:59</td>\n",
       "      <td>20170724000355</td>\n",
       "    </tr>\n",
       "    <tr>\n",
       "      <th>...</th>\n",
       "      <td>...</td>\n",
       "      <td>...</td>\n",
       "      <td>...</td>\n",
       "      <td>...</td>\n",
       "      <td>...</td>\n",
       "      <td>...</td>\n",
       "      <td>...</td>\n",
       "      <td>...</td>\n",
       "    </tr>\n",
       "    <tr>\n",
       "      <th>894</th>\n",
       "      <td>유가증권시장</td>\n",
       "      <td>00131832</td>\n",
       "      <td>SK디스커버리</td>\n",
       "      <td>투자설명서</td>\n",
       "      <td>2017.07.26</td>\n",
       "      <td>2017.07.26</td>\n",
       "      <td>08:10</td>\n",
       "      <td>20170726000002</td>\n",
       "    </tr>\n",
       "    <tr>\n",
       "      <th>895</th>\n",
       "      <td>유가증권시장</td>\n",
       "      <td>00149804</td>\n",
       "      <td>대유에이텍</td>\n",
       "      <td>최대주주등소유주식변동신고서</td>\n",
       "      <td>2017.07.26</td>\n",
       "      <td>2017.07.26</td>\n",
       "      <td>07:58</td>\n",
       "      <td>20170726800003</td>\n",
       "    </tr>\n",
       "    <tr>\n",
       "      <th>896</th>\n",
       "      <td>코스닥시장</td>\n",
       "      <td>00308559</td>\n",
       "      <td>코디</td>\n",
       "      <td>주주총회소집공고</td>\n",
       "      <td>2017.07.26</td>\n",
       "      <td>2017.07.26</td>\n",
       "      <td>07:08</td>\n",
       "      <td>20170726000001</td>\n",
       "    </tr>\n",
       "    <tr>\n",
       "      <th>897</th>\n",
       "      <td>코스닥시장</td>\n",
       "      <td>00308559</td>\n",
       "      <td>코디</td>\n",
       "      <td>[기재정정]주주총회소집결의</td>\n",
       "      <td>2017.07.26</td>\n",
       "      <td>2017.07.26</td>\n",
       "      <td>07:06</td>\n",
       "      <td>20170726900001</td>\n",
       "    </tr>\n",
       "    <tr>\n",
       "      <th>898</th>\n",
       "      <td>기타법인</td>\n",
       "      <td>01122187</td>\n",
       "      <td>하이파이낸스제일차</td>\n",
       "      <td>감사보고서(2017.04)</td>\n",
       "      <td>2017.07.26</td>\n",
       "      <td>2017.07.26</td>\n",
       "      <td>07:00</td>\n",
       "      <td>20170725000472</td>\n",
       "    </tr>\n",
       "  </tbody>\n",
       "</table>\n",
       "<p>899 rows × 8 columns</p>\n",
       "</div>"
      ],
      "text/plain": [
       "        cat      coID    comName         content     pubDate  pubReqDate  \\\n",
       "0     코스닥시장  00111865      미래SCI          최대주주변경  2017.07.24  2017.07.24   \n",
       "1    유가증권시장  00134723     페이퍼코리아    기타경영사항(자율공시)  2017.07.24  2017.07.24   \n",
       "2    유가증권시장  00134723     페이퍼코리아    기타경영사항(자율공시)  2017.07.24  2017.07.24   \n",
       "3     코스닥시장  00268251     다산네트웍스                  2017.07.24  2017.07.24   \n",
       "4     코스닥시장  00861720      이즈미디어       증권발행실적보고서  2017.07.24  2017.07.24   \n",
       "..      ...       ...        ...             ...         ...         ...   \n",
       "894  유가증권시장  00131832    SK디스커버리           투자설명서  2017.07.26  2017.07.26   \n",
       "895  유가증권시장  00149804      대유에이텍  최대주주등소유주식변동신고서  2017.07.26  2017.07.26   \n",
       "896   코스닥시장  00308559         코디        주주총회소집공고  2017.07.26  2017.07.26   \n",
       "897   코스닥시장  00308559         코디  [기재정정]주주총회소집결의  2017.07.26  2017.07.26   \n",
       "898    기타법인  01122187  하이파이낸스제일차  감사보고서(2017.04)  2017.07.26  2017.07.26   \n",
       "\n",
       "    pubTime           rcpNo  \n",
       "0     19:07  20170724900550  \n",
       "1     18:53  20170724800549  \n",
       "2     18:49  20170724800548  \n",
       "3     18:03  20170724900529  \n",
       "4     17:59  20170724000355  \n",
       "..      ...             ...  \n",
       "894   08:10  20170726000002  \n",
       "895   07:58  20170726800003  \n",
       "896   07:08  20170726000001  \n",
       "897   07:06  20170726900001  \n",
       "898   07:00  20170725000472  \n",
       "\n",
       "[899 rows x 8 columns]"
      ]
     },
     "execution_count": 3,
     "metadata": {},
     "output_type": "execute_result"
    }
   ],
   "source": [
    "import pandas as pd\n",
    "from bs4 import BeautifulSoup as bs\n",
    "import os\n",
    "import requests\n",
    "import re \n",
    "\n",
    "dartIDDF =pd.DataFrame()\n",
    "dart_temp =pd.DataFrame()\n",
    "\n",
    "dart_temp = dart_temp.append(\n",
    "    {\n",
    "       \"pubTime\" :\"\",\n",
    "        \"cat\":\"\",\n",
    "        \"coID\":\"\",\n",
    "        \"content\":\"\",\n",
    "        \"pubDate\":\"\",\n",
    "        \"pubReqDate\" :\"\",\n",
    "        \"rcpNo\":\"\",\n",
    "        \"comName\":\"\"},\n",
    "    ignore_index =True)\n",
    "\n",
    "temp_pubTime_idx =dart_temp.columns.get_loc(\"pubTime\")\n",
    "temp_cat_idx =dart_temp.columns.get_loc(\"cat\")\n",
    "temp_coID_idx =dart_temp.columns.get_loc(\"coID\")\n",
    "temp_content_idx =dart_temp.columns.get_loc(\"content\")\n",
    "temp_pubDate_idx =dart_temp.columns.get_loc(\"pubDate\")\n",
    "temp_pubReqDate_idx =dart_temp.columns.get_loc(\"pubReqDate\")\n",
    "temp_rcpNo_idx =dart_temp.columns.get_loc(\"rcpNo\")\n",
    "temp_comName_idx =dart_temp.columns.get_loc(\"comName\")\n",
    "\n",
    "#2017.07.24~27일까지의 dart 데이터 추출 \n",
    "for f in range(24, 27) :\n",
    "    date=\"2017.07.\"+ str(f)\n",
    "    url_part1 =\"\"\"http://dart.fss.or.kr/dsac001/mainAll.do?selectDate=\"\"\"\n",
    "    urlDate = url_part1 + date\n",
    "    res = requests.get(urlDate) \n",
    "    soup = bs(res.text, \"html.parser\")  \n",
    "    totNum=soup.find_all(\"p\")[8].text\n",
    "    totNum = re.sub(r\"\\[.*\\] \\[총\", \"\", totNum)\n",
    "    totNum=re.sub(r\"건\\]\",\"\",totNum)\n",
    "    totNum=int(totNum)\n",
    "    totPage = (totNum//100) +1\n",
    "    \n",
    "    for i in range(1, totPage+1) :\n",
    "        url_part2 = \"\"\"&series=&mdayCnt=0&currentPage=\"\"\"+str(i)\n",
    "        url = url_part1+ date + url_part2   \n",
    "        res = requests.get(url) \n",
    "        soup = bs(res.text, \"html.parser\")\n",
    "        \n",
    "        tempNumCont = len(soup.find_all(\"tr\"))\n",
    "\n",
    "        for k in range(1,tempNumCont):\n",
    "            tempinfo = soup.find_all(\"tr\")[k]\n",
    "\n",
    "            dart_temp.iat[0, temp_pubTime_idx]=tempinfo.find_all(\"td\", class_=\"cen_txt\")[0].text.strip()\n",
    "            dart_temp.iat[0, temp_cat_idx]=tempinfo.find_all(\"td\")[1].find(\"img\").get(\"title\")\n",
    "            dart_temp.iat[0, temp_coID_idx]=re.findall(r\"[0-9]{8}\",tempinfo.find_all(\"a\")[0].get(\"href\"))[0] \n",
    "            tempStr = tempinfo.find_all(\"a\")[1].text.strip()\n",
    "            tempStr=tempStr.replace(\"\\r\", \"\")\n",
    "            tempStr=tempStr.replace(\"\\n\", \"\")\n",
    "            tempStr=tempStr.replace(\"\\t\", \"\")\n",
    "            tempStr=tempStr.replace(\" \", \"\")\n",
    "            dart_temp.iat[0, temp_content_idx]=tempStr\n",
    "            dart_temp.iat[0, temp_pubReqDate_idx]=tempinfo.find_all(\"td\", class_=\"cen_txt\")[1].text.strip()\n",
    "            if(len(tempinfo.find_all(\"a\"))==2) :\n",
    "                dart_temp.iat[0, temp_rcpNo_idx]=re.findall(r\"[0-9]{14}\", tempinfo.find_all(\"a\")[1].get(\"href\"))[0]\n",
    "            else :\n",
    "                dart_temp.iat[0, temp_rcpNo_idx]=re.findall(r\"[0-9]{14}\", tempinfo.find_all(\"a\")[2].get(\"href\"))[0]\n",
    "            dart_temp.iat[0, temp_comName_idx]=tempinfo.find_all(\"a\")[0].text.strip()\n",
    "            dart_temp.iat[0, temp_pubDate_idx]=soup.find_all(\"input\")[13].get(\"value\")\n",
    "            \n",
    "            dartIDDF=dartIDDF.append(dart_temp,ignore_index = True)\n",
    "\n",
    "            for j in range(0, len(dart_temp.columns)) :\n",
    "                dart_temp.iat[0,j] =\"\"\n",
    "\n",
    "dartIDDF"
   ]
  },
  {
   "cell_type": "code",
   "execution_count": 23,
   "metadata": {},
   "outputs": [
    {
     "ename": "IndexError",
     "evalue": "list index out of range",
     "output_type": "error",
     "traceback": [
      "\u001b[1;31m---------------------------------------------------------------------------\u001b[0m",
      "\u001b[1;31mIndexError\u001b[0m                                Traceback (most recent call last)",
      "\u001b[1;32m<ipython-input-23-bbac903e273f>\u001b[0m in \u001b[0;36m<module>\u001b[1;34m\u001b[0m\n\u001b[1;32m----> 1\u001b[1;33m \u001b[0mre\u001b[0m\u001b[1;33m.\u001b[0m\u001b[0mfindall\u001b[0m\u001b[1;33m(\u001b[0m\u001b[1;34mr\"[0-9]{14}\"\u001b[0m\u001b[1;33m,\u001b[0m  \u001b[0msoup\u001b[0m\u001b[1;33m.\u001b[0m\u001b[0mfind_all\u001b[0m\u001b[1;33m(\u001b[0m\u001b[1;34m\"tr\"\u001b[0m\u001b[1;33m)\u001b[0m\u001b[1;33m[\u001b[0m\u001b[1;36m34\u001b[0m\u001b[1;33m]\u001b[0m\u001b[1;33m.\u001b[0m\u001b[0mfind_all\u001b[0m\u001b[1;33m(\u001b[0m\u001b[1;34m\"a\"\u001b[0m\u001b[1;33m)\u001b[0m\u001b[1;33m[\u001b[0m\u001b[1;36m2\u001b[0m\u001b[1;33m]\u001b[0m\u001b[1;33m.\u001b[0m\u001b[0mget\u001b[0m\u001b[1;33m(\u001b[0m\u001b[1;34m\"href\"\u001b[0m\u001b[1;33m)\u001b[0m\u001b[1;33m)\u001b[0m\u001b[1;33m\u001b[0m\u001b[1;33m\u001b[0m\u001b[0m\n\u001b[0m",
      "\u001b[1;31mIndexError\u001b[0m: list index out of range"
     ]
    }
   ],
   "source": [
    "re.findall(r\"[0-9]{14}\",  soup.find_all(\"tr\")[34].find_all(\"a\")[2].get(\"href\"))"
   ]
  },
  {
   "cell_type": "code",
   "execution_count": null,
   "metadata": {},
   "outputs": [],
   "source": [
    "len(soup.find_all(\"tr\")[34].find_all(\"a\"))"
   ]
  },
  {
   "cell_type": "code",
   "execution_count": null,
   "metadata": {},
   "outputs": [],
   "source": [
    " soup.find_all(\"tr\")[34].find_all(\"a\")"
   ]
  },
  {
   "cell_type": "code",
   "execution_count": 26,
   "metadata": {},
   "outputs": [
    {
     "data": {
      "text/html": [
       "<div>\n",
       "<style scoped>\n",
       "    .dataframe tbody tr th:only-of-type {\n",
       "        vertical-align: middle;\n",
       "    }\n",
       "\n",
       "    .dataframe tbody tr th {\n",
       "        vertical-align: top;\n",
       "    }\n",
       "\n",
       "    .dataframe thead th {\n",
       "        text-align: right;\n",
       "    }\n",
       "</style>\n",
       "<table border=\"1\" class=\"dataframe\">\n",
       "  <thead>\n",
       "    <tr style=\"text-align: right;\">\n",
       "      <th></th>\n",
       "      <th>Cat</th>\n",
       "      <th>Content</th>\n",
       "      <th>coID</th>\n",
       "      <th>comName</th>\n",
       "      <th>pubDate</th>\n",
       "      <th>pubTime</th>\n",
       "      <th>rcpNo</th>\n",
       "      <th>reqDate</th>\n",
       "    </tr>\n",
       "  </thead>\n",
       "  <tbody>\n",
       "    <tr>\n",
       "      <th>0</th>\n",
       "      <td>코넥스시장</td>\n",
       "      <td>감사보고서제출</td>\n",
       "      <td>01109690</td>\n",
       "      <td>도부마스크</td>\n",
       "      <td>2017.03.28</td>\n",
       "      <td>18:58</td>\n",
       "      <td>20170328601049</td>\n",
       "      <td>2017.03.28</td>\n",
       "    </tr>\n",
       "    <tr>\n",
       "      <th>1</th>\n",
       "      <td>코스닥시장</td>\n",
       "      <td>불성실공시법인지정예고(공시불이행)</td>\n",
       "      <td>00364403</td>\n",
       "      <td>쏠리드</td>\n",
       "      <td>2017.03.28</td>\n",
       "      <td>18:46</td>\n",
       "      <td>20170328901048</td>\n",
       "      <td>2017.03.28</td>\n",
       "    </tr>\n",
       "    <tr>\n",
       "      <th>2</th>\n",
       "      <td>코스닥시장</td>\n",
       "      <td>주권매매거래정지(불성실공시법인지정)</td>\n",
       "      <td>00308559</td>\n",
       "      <td>코디</td>\n",
       "      <td>2017.03.28</td>\n",
       "      <td>18:35</td>\n",
       "      <td>20170328901037</td>\n",
       "      <td>2017.03.28</td>\n",
       "    </tr>\n",
       "    <tr>\n",
       "      <th>3</th>\n",
       "      <td>코스닥시장</td>\n",
       "      <td>불성실공시법인지정(공시불이행)</td>\n",
       "      <td>00308559</td>\n",
       "      <td>코디</td>\n",
       "      <td>2017.03.28</td>\n",
       "      <td>18:35</td>\n",
       "      <td>20170328901047</td>\n",
       "      <td>2017.03.28</td>\n",
       "    </tr>\n",
       "    <tr>\n",
       "      <th>4</th>\n",
       "      <td>기타법인</td>\n",
       "      <td>주권매매거래정지(불성실공시법인지정)</td>\n",
       "      <td>00207223</td>\n",
       "      <td>위너지스</td>\n",
       "      <td>2017.03.28</td>\n",
       "      <td>18:29</td>\n",
       "      <td>20170328901039</td>\n",
       "      <td>2017.03.28</td>\n",
       "    </tr>\n",
       "    <tr>\n",
       "      <th>...</th>\n",
       "      <td>...</td>\n",
       "      <td>...</td>\n",
       "      <td>...</td>\n",
       "      <td>...</td>\n",
       "      <td>...</td>\n",
       "      <td>...</td>\n",
       "      <td>...</td>\n",
       "      <td>...</td>\n",
       "    </tr>\n",
       "    <tr>\n",
       "      <th>889</th>\n",
       "      <td>기타법인</td>\n",
       "      <td>임원의변동</td>\n",
       "      <td>00178806</td>\n",
       "      <td>바이더웨이</td>\n",
       "      <td>2017.03.28</td>\n",
       "      <td>07:00</td>\n",
       "      <td>20170327000959</td>\n",
       "      <td>2017.03.28</td>\n",
       "    </tr>\n",
       "    <tr>\n",
       "      <th>890</th>\n",
       "      <td>기타법인</td>\n",
       "      <td>[기재정정]감사보고서(2016.12)</td>\n",
       "      <td>01083000</td>\n",
       "      <td>케이엔에프인터내셔날</td>\n",
       "      <td>2017.03.28</td>\n",
       "      <td>07:00</td>\n",
       "      <td>20170327000967</td>\n",
       "      <td>2017.03.28</td>\n",
       "    </tr>\n",
       "    <tr>\n",
       "      <th>891</th>\n",
       "      <td>기타법인</td>\n",
       "      <td>감사보고서(2016.12)</td>\n",
       "      <td>01078868</td>\n",
       "      <td>케이피엑스글로벌</td>\n",
       "      <td>2017.03.28</td>\n",
       "      <td>07:00</td>\n",
       "      <td>20170327000958</td>\n",
       "      <td>2017.03.28</td>\n",
       "    </tr>\n",
       "    <tr>\n",
       "      <th>892</th>\n",
       "      <td>기타법인</td>\n",
       "      <td>동일인등출자계열회사와의상품ㆍ용역거래</td>\n",
       "      <td>00186513</td>\n",
       "      <td>코리아세븐</td>\n",
       "      <td>2017.03.28</td>\n",
       "      <td>07:00</td>\n",
       "      <td>20170327000962</td>\n",
       "      <td>2017.03.28</td>\n",
       "    </tr>\n",
       "    <tr>\n",
       "      <th>893</th>\n",
       "      <td>기타법인</td>\n",
       "      <td>감사보고서(2016.12)</td>\n",
       "      <td>00862826</td>\n",
       "      <td>코릴</td>\n",
       "      <td>2017.03.28</td>\n",
       "      <td>07:00</td>\n",
       "      <td>20170327000968</td>\n",
       "      <td>2017.03.28</td>\n",
       "    </tr>\n",
       "  </tbody>\n",
       "</table>\n",
       "<p>894 rows × 8 columns</p>\n",
       "</div>"
      ],
      "text/plain": [
       "       Cat               Content      coID     comName     pubDate pubTime  \\\n",
       "0    코넥스시장               감사보고서제출  01109690       도부마스크  2017.03.28   18:58   \n",
       "1    코스닥시장    불성실공시법인지정예고(공시불이행)  00364403         쏠리드  2017.03.28   18:46   \n",
       "2    코스닥시장   주권매매거래정지(불성실공시법인지정)  00308559          코디  2017.03.28   18:35   \n",
       "3    코스닥시장      불성실공시법인지정(공시불이행)  00308559          코디  2017.03.28   18:35   \n",
       "4     기타법인   주권매매거래정지(불성실공시법인지정)  00207223        위너지스  2017.03.28   18:29   \n",
       "..     ...                   ...       ...         ...         ...     ...   \n",
       "889   기타법인                 임원의변동  00178806       바이더웨이  2017.03.28   07:00   \n",
       "890   기타법인  [기재정정]감사보고서(2016.12)  01083000  케이엔에프인터내셔날  2017.03.28   07:00   \n",
       "891   기타법인        감사보고서(2016.12)  01078868    케이피엑스글로벌  2017.03.28   07:00   \n",
       "892   기타법인   동일인등출자계열회사와의상품ㆍ용역거래  00186513       코리아세븐  2017.03.28   07:00   \n",
       "893   기타법인        감사보고서(2016.12)  00862826          코릴  2017.03.28   07:00   \n",
       "\n",
       "              rcpNo     reqDate  \n",
       "0    20170328601049  2017.03.28  \n",
       "1    20170328901048  2017.03.28  \n",
       "2    20170328901037  2017.03.28  \n",
       "3    20170328901047  2017.03.28  \n",
       "4    20170328901039  2017.03.28  \n",
       "..              ...         ...  \n",
       "889  20170327000959  2017.03.28  \n",
       "890  20170327000967  2017.03.28  \n",
       "891  20170327000958  2017.03.28  \n",
       "892  20170327000962  2017.03.28  \n",
       "893  20170327000968  2017.03.28  \n",
       "\n",
       "[894 rows x 8 columns]"
      ]
     },
     "execution_count": 26,
     "metadata": {},
     "output_type": "execute_result"
    }
   ],
   "source": [
    "from bs4 import BeautifulSoup as bs\n",
    "import requests\n",
    "import pandas as pd\n",
    "import re\n",
    "\n",
    "resultDF=pd.DataFrame()\n",
    "tempDF=pd.DataFrame()\n",
    "\n",
    "tempDF=tempDF.append({\"Cat\":\"\",\"comName\":\"\",\"coID\":\"\",\"Content\":\"\",\"rcpNo\":\"\",\"pubTime\":\"\",\"pubDate\":\"\",\"reqDate\":\"\"},ignore_index=True)\n",
    "\n",
    "Cat_idx = tempDF.columns.get_loc(\"Cat\")\n",
    "comName_idx = tempDF.columns.get_loc(\"comName\")\n",
    "coID_idx = tempDF.columns.get_loc(\"coID\")\n",
    "Content_idx = tempDF.columns.get_loc(\"Content\")\n",
    "rcpNo_idx = tempDF.columns.get_loc(\"rcpNo\")\n",
    "pubTime_idx = tempDF.columns.get_loc(\"pubTime\")\n",
    "pubDate_idx = tempDF.columns.get_loc(\"pubDate\")\n",
    "reqDate_idx = tempDF.columns.get_loc(\"reqDate\")\n",
    "\n",
    "date=\"2017.03.28\"\n",
    "url_part1=\"http://dart.fss.or.kr/dsac001/mainAll.do?selectDate=\"\n",
    "url_part2=\"&sort=&series=&mdayCnt=0&currentPage=\"\n",
    "\n",
    "url = url_part1 + date + url_part2\n",
    "\n",
    "res = requests.get(url) \n",
    "_soup=bs(res.text, 'html.parser')\n",
    "\n",
    "totNum=_soup.find_all(\"p\")[8].text\n",
    "totNum=re.sub(r\"\\[.*\\] \\[총\",\"\",totNum)\n",
    "totNum=re.sub(r\"건\\]\",\"\",totNum)\n",
    "totNum = int(totNum)\n",
    "totNum\n",
    "totPage = (totNum//100)+1\n",
    "\n",
    "for k in range(1,totPage+1):\n",
    "    date=\"2017.03.28\"\n",
    "    url_part1=\"http://dart.fss.or.kr/dsac001/mainAll.do?selectDate=\"\n",
    "    url_part2=\"&sort=&series=&mdayCnt=0&currentPage=\"\n",
    "\n",
    "    url = url_part1 + date + url_part2 +str(k)\n",
    "\n",
    "    res = requests.get(url) \n",
    "    soup=bs(res.text, 'html.parser')\n",
    "\n",
    "\n",
    "    for i in range(1, len(soup.find_all(\"tr\"))):\n",
    "        tempDF.iat[0,Cat_idx]=soup.find_all(\"tr\")[i].find_all(\"td\")[1].find(\"img\").get(\"title\")\n",
    "        tempDF.iat[0,comName_idx]=soup.find_all(\"tr\")[i].find(\"a\").text.strip()\n",
    "\n",
    "        testStr=soup.find_all(\"tr\")[i].find(\"a\").get(\"href\")\n",
    "        tempDF.iat[0,coID_idx]=re.findall(r\"[0-9]{8}\",testStr)[0]\n",
    "\n",
    "        if len(soup.find_all(\"tr\")[i].find_all(\"a\"))==3:\n",
    "            test=soup.find_all(\"tr\")[i].find_all(\"a\")[2].text.strip()\n",
    "            test=test.replace(\"\\r\",\"\")\n",
    "            test=test.replace(\"\\n\",\"\")\n",
    "            test=test.replace(\"\\t\",\"\")\n",
    "            test=test.replace(\" \",\"\")\n",
    "            tempDF.iat[0,Content_idx]=Content=test\n",
    "\n",
    "            test_rcpNo=soup.find_all(\"tr\")[i].find_all(\"a\")[2].get(\"href\")\n",
    "            tempDF.iat[0,rcpNo_idx]=re.findall(r\"[0-9]{14}\",test_rcpNo)[0]\n",
    "\n",
    "        else:            \n",
    "            test=soup.find_all(\"tr\")[i].find_all(\"a\")[1].text.strip()\n",
    "            test=test.replace(\"\\r\",\"\")\n",
    "            test=test.replace(\"\\n\",\"\")\n",
    "            test=test.replace(\"\\t\",\"\")\n",
    "            test=test.replace(\" \",\"\")\n",
    "            tempDF.iat[0,Content_idx]=Content=test\n",
    "\n",
    "            test_rcpNo=soup.find_all(\"tr\")[i].find_all(\"a\")[1].get(\"href\")\n",
    "            tempDF.iat[0,rcpNo_idx]=re.findall(r\"[0-9]{14}\",test_rcpNo)[0]\n",
    "\n",
    "        tempDF.iat[0,pubTime_idx]=soup.find_all(\"tr\")[i].find_all(\"td\", class_=\"cen_txt\")[0].text.strip()\n",
    "        tempDF.iat[0,pubDate_idx]=date\n",
    "        tempDF.iat[0,reqDate_idx]=soup.find_all(\"tr\")[i].find_all(\"td\")[4].text\n",
    "\n",
    "        resultDF=resultDF.append(tempDF,ignore_index=True)\n",
    "\n",
    "        for j in range(0,len(tempDF.columns)):\n",
    "            tempDF.iat[0,j]=\"\"\n",
    "            \n",
    "resultDF"
   ]
  },
  {
   "cell_type": "code",
   "execution_count": 27,
   "metadata": {},
   "outputs": [
    {
     "data": {
      "text/html": [
       "<div>\n",
       "<style scoped>\n",
       "    .dataframe tbody tr th:only-of-type {\n",
       "        vertical-align: middle;\n",
       "    }\n",
       "\n",
       "    .dataframe tbody tr th {\n",
       "        vertical-align: top;\n",
       "    }\n",
       "\n",
       "    .dataframe thead th {\n",
       "        text-align: right;\n",
       "    }\n",
       "</style>\n",
       "<table border=\"1\" class=\"dataframe\">\n",
       "  <thead>\n",
       "    <tr style=\"text-align: right;\">\n",
       "      <th></th>\n",
       "      <th>Cat</th>\n",
       "      <th>Content</th>\n",
       "      <th>coID</th>\n",
       "      <th>comName</th>\n",
       "      <th>pubDate</th>\n",
       "      <th>pubTime</th>\n",
       "      <th>rcpNo</th>\n",
       "      <th>reqDate</th>\n",
       "    </tr>\n",
       "  </thead>\n",
       "  <tbody>\n",
       "    <tr>\n",
       "      <th>884</th>\n",
       "      <td>코스닥시장</td>\n",
       "      <td>[기재정정]주요사항보고서(타법인주식및출자증권양도결정)</td>\n",
       "      <td>00441128</td>\n",
       "      <td>아리온</td>\n",
       "      <td>2017.03.28</td>\n",
       "      <td>07:03</td>\n",
       "      <td>20170328000003</td>\n",
       "      <td>2017.03.28</td>\n",
       "    </tr>\n",
       "    <tr>\n",
       "      <th>885</th>\n",
       "      <td>코스닥시장</td>\n",
       "      <td>현금ㆍ현물배당결정</td>\n",
       "      <td>01169434</td>\n",
       "      <td>오가닉티코스메틱</td>\n",
       "      <td>2017.03.28</td>\n",
       "      <td>07:02</td>\n",
       "      <td>20170328900002</td>\n",
       "      <td>2017.03.28</td>\n",
       "    </tr>\n",
       "    <tr>\n",
       "      <th>886</th>\n",
       "      <td>코스닥시장</td>\n",
       "      <td>주주총회소집결의</td>\n",
       "      <td>01169434</td>\n",
       "      <td>오가닉티코스메틱</td>\n",
       "      <td>2017.03.28</td>\n",
       "      <td>07:01</td>\n",
       "      <td>20170328900021</td>\n",
       "      <td>2017.03.28</td>\n",
       "    </tr>\n",
       "    <tr>\n",
       "      <th>887</th>\n",
       "      <td>기타법인</td>\n",
       "      <td>감사보고서(2016.12)</td>\n",
       "      <td>01030266</td>\n",
       "      <td>메카니칼토탈솔루션</td>\n",
       "      <td>2017.03.28</td>\n",
       "      <td>07:00</td>\n",
       "      <td>20170327000963</td>\n",
       "      <td>2017.03.28</td>\n",
       "    </tr>\n",
       "    <tr>\n",
       "      <th>888</th>\n",
       "      <td>유가증권시장</td>\n",
       "      <td>특수관계인에대한출자</td>\n",
       "      <td>00112332</td>\n",
       "      <td>미래에셋생명</td>\n",
       "      <td>2017.03.28</td>\n",
       "      <td>07:00</td>\n",
       "      <td>20170327000957</td>\n",
       "      <td>2017.03.28</td>\n",
       "    </tr>\n",
       "    <tr>\n",
       "      <th>889</th>\n",
       "      <td>기타법인</td>\n",
       "      <td>임원의변동</td>\n",
       "      <td>00178806</td>\n",
       "      <td>바이더웨이</td>\n",
       "      <td>2017.03.28</td>\n",
       "      <td>07:00</td>\n",
       "      <td>20170327000959</td>\n",
       "      <td>2017.03.28</td>\n",
       "    </tr>\n",
       "    <tr>\n",
       "      <th>890</th>\n",
       "      <td>기타법인</td>\n",
       "      <td>[기재정정]감사보고서(2016.12)</td>\n",
       "      <td>01083000</td>\n",
       "      <td>케이엔에프인터내셔날</td>\n",
       "      <td>2017.03.28</td>\n",
       "      <td>07:00</td>\n",
       "      <td>20170327000967</td>\n",
       "      <td>2017.03.28</td>\n",
       "    </tr>\n",
       "    <tr>\n",
       "      <th>891</th>\n",
       "      <td>기타법인</td>\n",
       "      <td>감사보고서(2016.12)</td>\n",
       "      <td>01078868</td>\n",
       "      <td>케이피엑스글로벌</td>\n",
       "      <td>2017.03.28</td>\n",
       "      <td>07:00</td>\n",
       "      <td>20170327000958</td>\n",
       "      <td>2017.03.28</td>\n",
       "    </tr>\n",
       "    <tr>\n",
       "      <th>892</th>\n",
       "      <td>기타법인</td>\n",
       "      <td>동일인등출자계열회사와의상품ㆍ용역거래</td>\n",
       "      <td>00186513</td>\n",
       "      <td>코리아세븐</td>\n",
       "      <td>2017.03.28</td>\n",
       "      <td>07:00</td>\n",
       "      <td>20170327000962</td>\n",
       "      <td>2017.03.28</td>\n",
       "    </tr>\n",
       "    <tr>\n",
       "      <th>893</th>\n",
       "      <td>기타법인</td>\n",
       "      <td>감사보고서(2016.12)</td>\n",
       "      <td>00862826</td>\n",
       "      <td>코릴</td>\n",
       "      <td>2017.03.28</td>\n",
       "      <td>07:00</td>\n",
       "      <td>20170327000968</td>\n",
       "      <td>2017.03.28</td>\n",
       "    </tr>\n",
       "  </tbody>\n",
       "</table>\n",
       "</div>"
      ],
      "text/plain": [
       "        Cat                        Content      coID     comName     pubDate  \\\n",
       "884   코스닥시장  [기재정정]주요사항보고서(타법인주식및출자증권양도결정)  00441128         아리온  2017.03.28   \n",
       "885   코스닥시장                      현금ㆍ현물배당결정  01169434    오가닉티코스메틱  2017.03.28   \n",
       "886   코스닥시장                       주주총회소집결의  01169434    오가닉티코스메틱  2017.03.28   \n",
       "887    기타법인                 감사보고서(2016.12)  01030266   메카니칼토탈솔루션  2017.03.28   \n",
       "888  유가증권시장                     특수관계인에대한출자  00112332      미래에셋생명  2017.03.28   \n",
       "889    기타법인                          임원의변동  00178806       바이더웨이  2017.03.28   \n",
       "890    기타법인           [기재정정]감사보고서(2016.12)  01083000  케이엔에프인터내셔날  2017.03.28   \n",
       "891    기타법인                 감사보고서(2016.12)  01078868    케이피엑스글로벌  2017.03.28   \n",
       "892    기타법인            동일인등출자계열회사와의상품ㆍ용역거래  00186513       코리아세븐  2017.03.28   \n",
       "893    기타법인                 감사보고서(2016.12)  00862826          코릴  2017.03.28   \n",
       "\n",
       "    pubTime           rcpNo     reqDate  \n",
       "884   07:03  20170328000003  2017.03.28  \n",
       "885   07:02  20170328900002  2017.03.28  \n",
       "886   07:01  20170328900021  2017.03.28  \n",
       "887   07:00  20170327000963  2017.03.28  \n",
       "888   07:00  20170327000957  2017.03.28  \n",
       "889   07:00  20170327000959  2017.03.28  \n",
       "890   07:00  20170327000967  2017.03.28  \n",
       "891   07:00  20170327000958  2017.03.28  \n",
       "892   07:00  20170327000962  2017.03.28  \n",
       "893   07:00  20170327000968  2017.03.28  "
      ]
     },
     "execution_count": 27,
     "metadata": {},
     "output_type": "execute_result"
    }
   ],
   "source": [
    "#head 와 tail로 데이터가 정확한지 확인하기!!!!\n",
    "\n",
    "resultDF.tail(10) "
   ]
  },
  {
   "cell_type": "code",
   "execution_count": null,
   "metadata": {},
   "outputs": [],
   "source": []
  },
  {
   "cell_type": "code",
   "execution_count": null,
   "metadata": {},
   "outputs": [],
   "source": []
  },
  {
   "cell_type": "code",
   "execution_count": null,
   "metadata": {},
   "outputs": [],
   "source": []
  },
  {
   "cell_type": "code",
   "execution_count": null,
   "metadata": {},
   "outputs": [],
   "source": []
  },
  {
   "cell_type": "code",
   "execution_count": null,
   "metadata": {},
   "outputs": [],
   "source": []
  },
  {
   "cell_type": "code",
   "execution_count": null,
   "metadata": {},
   "outputs": [],
   "source": []
  },
  {
   "cell_type": "code",
   "execution_count": null,
   "metadata": {},
   "outputs": [],
   "source": []
  },
  {
   "cell_type": "code",
   "execution_count": null,
   "metadata": {},
   "outputs": [],
   "source": []
  }
 ],
 "metadata": {
  "kernelspec": {
   "display_name": "Python 3",
   "language": "python",
   "name": "python3"
  },
  "language_info": {
   "codemirror_mode": {
    "name": "ipython",
    "version": 3
   },
   "file_extension": ".py",
   "mimetype": "text/x-python",
   "name": "python",
   "nbconvert_exporter": "python",
   "pygments_lexer": "ipython3",
   "version": "3.7.6"
  }
 },
 "nbformat": 4,
 "nbformat_minor": 4
}
