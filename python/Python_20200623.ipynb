{
 "cells": [
  {
   "cell_type": "code",
   "execution_count": 2,
   "metadata": {},
   "outputs": [
    {
     "data": {
      "text/plain": [
       "4"
      ]
     },
     "execution_count": 2,
     "metadata": {},
     "output_type": "execute_result"
    }
   ],
   "source": [
    "sum([1,3])"
   ]
  },
  {
   "cell_type": "code",
   "execution_count": 5,
   "metadata": {},
   "outputs": [
    {
     "data": {
      "text/plain": [
       "73"
      ]
     },
     "execution_count": 5,
     "metadata": {},
     "output_type": "execute_result"
    }
   ],
   "source": [
    "sum([1,2,3,54,7,6])"
   ]
  },
  {
   "cell_type": "code",
   "execution_count": 6,
   "metadata": {},
   "outputs": [],
   "source": [
    "def sum2(a,b) :\n",
    "    result = a+ b\n",
    "    return(result)"
   ]
  },
  {
   "cell_type": "code",
   "execution_count": 8,
   "metadata": {},
   "outputs": [
    {
     "name": "stdout",
     "output_type": "stream",
     "text": [
      "40\n",
      "40\n"
     ]
    }
   ],
   "source": [
    "print(sum2(10,30))\n",
    "print(10+30)"
   ]
  },
  {
   "cell_type": "code",
   "execution_count": 25,
   "metadata": {},
   "outputs": [
    {
     "data": {
      "text/plain": [
       "30"
      ]
     },
     "execution_count": 25,
     "metadata": {},
     "output_type": "execute_result"
    }
   ],
   "source": [
    "(lambda x,y : x+y)(10,20) \n",
    "#lambda 함수!!!! => 한번하고 땡칠꺼야 그럼 lambda\n",
    "#다른 수를 대입하고 싶으면, 코드를 다시 작성해야하는 불편함\n",
    "#줄단위로 일괄정리할 때, 확 차이가 남!! "
   ]
  },
  {
   "cell_type": "code",
   "execution_count": 10,
   "metadata": {},
   "outputs": [],
   "source": [
    "def multiple(a,b) :\n",
    "    result = a * b\n",
    "    return(result)"
   ]
  },
  {
   "cell_type": "code",
   "execution_count": 12,
   "metadata": {},
   "outputs": [
    {
     "name": "stdout",
     "output_type": "stream",
     "text": [
      "4950\n"
     ]
    }
   ],
   "source": [
    "print(multiple(50,99))"
   ]
  },
  {
   "cell_type": "code",
   "execution_count": 14,
   "metadata": {},
   "outputs": [],
   "source": [
    "def sumrandom(*args) : #입력의 갯수가 몇개인지 모르기 때문에, \n",
    "    result = 0;\n",
    "    for i in args :\n",
    "        result +=i\n",
    "    return result"
   ]
  },
  {
   "cell_type": "code",
   "execution_count": 16,
   "metadata": {},
   "outputs": [
    {
     "name": "stdout",
     "output_type": "stream",
     "text": [
      "21\n",
      "285\n"
     ]
    }
   ],
   "source": [
    "print(sumrandom(1,2,3,4,5,6))\n",
    "print(sumrandom(11,22,33,44,54,55,66))"
   ]
  },
  {
   "cell_type": "code",
   "execution_count": 34,
   "metadata": {},
   "outputs": [
    {
     "data": {
      "text/plain": [
       "30"
      ]
     },
     "execution_count": 34,
     "metadata": {},
     "output_type": "execute_result"
    }
   ],
   "source": [
    "def myfunction(func, *args) : #입력의 갯수, 기능 설정 가능 \n",
    "    result = 0\n",
    "    if func ==\"sum\" :\n",
    "        for i in args :\n",
    "            result +=i\n",
    "        return result\n",
    "    elif func ==\"count\" :\n",
    "        return len(args)\n",
    "    else :\n",
    "        return(\"No Function!!\")\n",
    "    \n",
    "myfunction(\"sum\", 10,20)\n",
    "    "
   ]
  },
  {
   "cell_type": "code",
   "execution_count": 24,
   "metadata": {},
   "outputs": [
    {
     "name": "stdout",
     "output_type": "stream",
     "text": [
      "(60, 500, 0.2, -40)\n"
     ]
    }
   ],
   "source": [
    "def multifunc(a,b) :\n",
    "    return a+b, a*b, a/b, a-b\n",
    "print(multifunc(10,50)) #dirct handling 은 안돼!! 튜플로 결과값이 반환된다. "
   ]
  },
  {
   "cell_type": "code",
   "execution_count": 41,
   "metadata": {},
   "outputs": [
    {
     "data": {
      "text/plain": [
       "77"
      ]
     },
     "execution_count": 41,
     "metadata": {},
     "output_type": "execute_result"
    }
   ],
   "source": [
    "def myfucntion2(func, *args) :\n",
    "    if func == \"sel1\" :\n",
    "        sumofresult = 0\n",
    "        multipleofresult = 1\n",
    "        for i in args :\n",
    "            sumofresult +=i\n",
    "            multipleofresult *=i\n",
    "        return sumofresult, multipleofresult\n",
    "    elif func == \"sel2\" :\n",
    "        result = 0\n",
    "        result = args[0] + args[len(args)-1]\n",
    "        return result\n",
    "    else : \n",
    "        print(\"Check sel parameter\")\n",
    "        \n",
    "myfucntion2(\"sel2\", 22,33,44,55)"
   ]
  }
 ],
 "metadata": {
  "kernelspec": {
   "display_name": "Python 3",
   "language": "python",
   "name": "python3"
  },
  "language_info": {
   "codemirror_mode": {
    "name": "ipython",
    "version": 3
   },
   "file_extension": ".py",
   "mimetype": "text/x-python",
   "name": "python",
   "nbconvert_exporter": "python",
   "pygments_lexer": "ipython3",
   "version": "3.7.6"
  }
 },
 "nbformat": 4,
 "nbformat_minor": 4
}
