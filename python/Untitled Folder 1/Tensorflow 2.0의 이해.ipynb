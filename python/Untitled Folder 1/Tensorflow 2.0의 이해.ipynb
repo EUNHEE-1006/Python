{
 "cells": [
  {
   "cell_type": "code",
   "execution_count": 1,
   "metadata": {},
   "outputs": [
    {
     "data": {
      "text/plain": [
       "'2.3.0'"
      ]
     },
     "execution_count": 1,
     "metadata": {},
     "output_type": "execute_result"
    }
   ],
   "source": [
    "import tensorflow as tf\n",
    "tf.__version__"
   ]
  },
  {
   "cell_type": "code",
   "execution_count": 4,
   "metadata": {},
   "outputs": [
    {
     "data": {
      "text/plain": [
       "<module 'tensorflow.keras.datasets.mnist' from 'C:\\\\Users\\\\acorn-511\\\\anaconda3\\\\lib\\\\site-packages\\\\tensorflow\\\\keras\\\\datasets\\\\mnist\\\\__init__.py'>"
      ]
     },
     "execution_count": 4,
     "metadata": {},
     "output_type": "execute_result"
    }
   ],
   "source": [
    "mnist = tf.keras.datasets.mnist\n",
    "mnist"
   ]
  },
  {
   "cell_type": "code",
   "execution_count": 5,
   "metadata": {},
   "outputs": [],
   "source": [
    "(x_train, y_train), (x_test, y_test) = mnist.load_data()\n",
    "x_train, x_test = x_train/255, x_test/255"
   ]
  },
  {
   "cell_type": "code",
   "execution_count": 6,
   "metadata": {},
   "outputs": [
    {
     "data": {
      "text/plain": [
       "(60000, 28, 28)"
      ]
     },
     "execution_count": 6,
     "metadata": {},
     "output_type": "execute_result"
    }
   ],
   "source": [
    "x_train.shape # 60000 개 데이터 학습 "
   ]
  },
  {
   "cell_type": "code",
   "execution_count": 9,
   "metadata": {},
   "outputs": [],
   "source": [
    "# Keras는 layer를 중심으로 모델을 쌓아나가는 구조 \n",
    "\n",
    "# 1단계) NN의 전체적인 구조 설계 --> 설계도 작성... 레이어 중심으로...\n",
    "model = tf.keras.models.Sequential(\n",
    "    [\n",
    "        tf.keras.layers.Flatten(input_shape=(28, 28)), # input layer : 형태만 갖춘 것 \n",
    "        tf.keras.layers.Dense(128, activation=\"relu\"), # hidden layer 1  : 실제 연산이 이루어지는 부분 \n",
    "        # 첫번째 노드의 갯수 : 128, 활성함수 : relu\n",
    "        \n",
    "        tf.keras.layers.Dropout(0.2),   # overfitting 피하기 위해서 dropout을 통해서 연결에 대한 제한을 함. : 0.2%\n",
    "        tf.keras.layers.Dense(10, activation='softmax') # output layer\n",
    "        # 마지막 노드의 갯수 : 10, 활성함수 : softmax \n",
    "        # output layer 을 어떻게 쓰느냐에 따라 분류/회귀를 나눠야해 직접!!\n",
    "        # softmax : 확률값을 위해, 학습용이 아님!! \n",
    "    ]\n",
    ")"
   ]
  },
  {
   "cell_type": "code",
   "execution_count": 10,
   "metadata": {},
   "outputs": [],
   "source": [
    "# 어떤 방식으로 학습할거냐, 모델을 어떻게 돌릴거냐 \n",
    "model.compile(optimizer = 'Adamax', # 어떤 방법으로  파라미터의 최적화를 할지,,, :GD/.SGD etc\n",
    "             loss = 'sparse_categorical_crossentropy',# 내가 설계한 인공신경망에 대한 cost 함수를 무엇으로 설계할지 세팅\n",
    "             metrics = ['accuracy'] # 평가기준 \n",
    "             ) "
   ]
  },
  {
   "cell_type": "code",
   "execution_count": 13,
   "metadata": {
    "scrolled": true
   },
   "outputs": [
    {
     "name": "stdout",
     "output_type": "stream",
     "text": [
      "Epoch 1/3\n",
      "1875/1875 [==============================] - 1s 645us/step - loss: 0.4345 - accuracy: 0.8767\n",
      "Epoch 2/3\n",
      "1875/1875 [==============================] - 1s 645us/step - loss: 0.2379 - accuracy: 0.9324\n",
      "Epoch 3/3\n",
      "1875/1875 [==============================] - 1s 682us/step - loss: 0.1902 - accuracy: 0.9455\n"
     ]
    },
    {
     "data": {
      "text/plain": [
       "<tensorflow.python.keras.callbacks.History at 0x133aee4f7f0>"
      ]
     },
     "execution_count": 13,
     "metadata": {},
     "output_type": "execute_result"
    }
   ],
   "source": [
    "model.fit(x_train, y_train, epochs = 3, verbose=1)"
   ]
  },
  {
   "cell_type": "code",
   "execution_count": 14,
   "metadata": {},
   "outputs": [
    {
     "name": "stdout",
     "output_type": "stream",
     "text": [
      "Model: \"sequential\"\n",
      "_________________________________________________________________\n",
      "Layer (type)                 Output Shape              Param #   \n",
      "=================================================================\n",
      "flatten (Flatten)            (None, 784)               0         \n",
      "_________________________________________________________________\n",
      "dense (Dense)                (None, 128)               100480    \n",
      "_________________________________________________________________\n",
      "dropout (Dropout)            (None, 128)               0         \n",
      "_________________________________________________________________\n",
      "dense_1 (Dense)              (None, 10)                1290      \n",
      "=================================================================\n",
      "Total params: 101,770\n",
      "Trainable params: 101,770\n",
      "Non-trainable params: 0\n",
      "_________________________________________________________________\n"
     ]
    }
   ],
   "source": [
    "model.summary()\n",
    "# 784개 노드 = 28 x 28\n",
    "# 128개 노드 \n",
    "# 100480 = 784*128+128(cost 상수값)"
   ]
  },
  {
   "cell_type": "code",
   "execution_count": 15,
   "metadata": {},
   "outputs": [],
   "source": [
    "model.save('test.h5')"
   ]
  },
  {
   "cell_type": "code",
   "execution_count": 16,
   "metadata": {},
   "outputs": [
    {
     "name": "stdout",
     "output_type": "stream",
     "text": [
      "Model: \"sequential\"\n",
      "_________________________________________________________________\n",
      "Layer (type)                 Output Shape              Param #   \n",
      "=================================================================\n",
      "flatten (Flatten)            (None, 784)               0         \n",
      "_________________________________________________________________\n",
      "dense (Dense)                (None, 128)               100480    \n",
      "_________________________________________________________________\n",
      "dropout (Dropout)            (None, 128)               0         \n",
      "_________________________________________________________________\n",
      "dense_1 (Dense)              (None, 10)                1290      \n",
      "=================================================================\n",
      "Total params: 101,770\n",
      "Trainable params: 101,770\n",
      "Non-trainable params: 0\n",
      "_________________________________________________________________\n"
     ]
    }
   ],
   "source": [
    "model_new = tf.keras.models.load_model('test.h5')\n",
    "model_new.summary()"
   ]
  },
  {
   "cell_type": "code",
   "execution_count": 18,
   "metadata": {},
   "outputs": [
    {
     "name": "stdout",
     "output_type": "stream",
     "text": [
      "313/313 [==============================] - 0s 762us/step - loss: 0.1487 - accuracy: 0.9567\n"
     ]
    },
    {
     "data": {
      "text/plain": [
       "[0.14872096478939056, 0.9567000269889832]"
      ]
     },
     "execution_count": 18,
     "metadata": {},
     "output_type": "execute_result"
    }
   ],
   "source": [
    "    model.evaluate(x_test, y_test) #=accuracy_score(y_test, x_test)"
   ]
  },
  {
   "cell_type": "code",
   "execution_count": 17,
   "metadata": {},
   "outputs": [
    {
     "data": {
      "text/plain": [
       "(10000, 28, 28)"
      ]
     },
     "execution_count": 17,
     "metadata": {},
     "output_type": "execute_result"
    }
   ],
   "source": [
    "x_test.shape # 10000 / 32  : 313개 먼저 돌리고,,다음 돌리고\n"
   ]
  },
  {
   "cell_type": "code",
   "execution_count": 21,
   "metadata": {},
   "outputs": [
    {
     "data": {
      "text/plain": [
       "1.0000001003265977"
      ]
     },
     "execution_count": 21,
     "metadata": {},
     "output_type": "execute_result"
    }
   ],
   "source": [
    "sum(model.predict(x_test)[0])"
   ]
  },
  {
   "cell_type": "code",
   "execution_count": 22,
   "metadata": {},
   "outputs": [
    {
     "data": {
      "text/plain": [
       "array([1.2369048e-05, 4.0962476e-07, 2.5065700e-04, 1.1566401e-03,\n",
       "       4.1704791e-07, 1.4481791e-05, 7.6043234e-09, 9.9844736e-01,\n",
       "       7.6346141e-06, 1.1012486e-04], dtype=float32)"
      ]
     },
     "execution_count": 22,
     "metadata": {},
     "output_type": "execute_result"
    }
   ],
   "source": [
    "model.predict(x_test)[0] # 이 중에 가장 큰 값을 찾아야해 "
   ]
  },
  {
   "cell_type": "code",
   "execution_count": 23,
   "metadata": {},
   "outputs": [
    {
     "name": "stdout",
     "output_type": "stream",
     "text": [
      "WARNING:tensorflow:From <ipython-input-23-2d137c63af36>:1: Sequential.predict_classes (from tensorflow.python.keras.engine.sequential) is deprecated and will be removed after 2021-01-01.\n",
      "Instructions for updating:\n",
      "Please use instead:* `np.argmax(model.predict(x), axis=-1)`,   if your model does multi-class classification   (e.g. if it uses a `softmax` last-layer activation).* `(model.predict(x) > 0.5).astype(\"int32\")`,   if your model does binary classification   (e.g. if it uses a `sigmoid` last-layer activation).\n"
     ]
    },
    {
     "data": {
      "text/plain": [
       "array([7, 2, 1, ..., 4, 5, 6], dtype=int64)"
      ]
     },
     "execution_count": 23,
     "metadata": {},
     "output_type": "execute_result"
    }
   ],
   "source": [
    "model.predict_classes(x_test) # 첫번째 테스트 결과는 7입니다. (확률이 가장 높으니까 )"
   ]
  },
  {
   "cell_type": "code",
   "execution_count": 24,
   "metadata": {},
   "outputs": [],
   "source": [
    "import numpy as np"
   ]
  },
  {
   "cell_type": "code",
   "execution_count": 26,
   "metadata": {},
   "outputs": [
    {
     "data": {
      "text/plain": [
       "array([7, 2, 1, ..., 4, 5, 6], dtype=int64)"
      ]
     },
     "execution_count": 26,
     "metadata": {},
     "output_type": "execute_result"
    }
   ],
   "source": [
    "np.argmax(model.predict(x_test), axis=-1)"
   ]
  },
  {
   "cell_type": "code",
   "execution_count": 29,
   "metadata": {},
   "outputs": [],
   "source": [
    "import math\n",
    "def sigmoid(x) :\n",
    "    return 1/ (1+math.exp(-x))"
   ]
  },
  {
   "cell_type": "code",
   "execution_count": 30,
   "metadata": {},
   "outputs": [
    {
     "name": "stdout",
     "output_type": "stream",
     "text": [
      "0.2796146723996323\n"
     ]
    }
   ],
   "source": [
    "x = 1\n",
    "y = 0\n",
    "w = tf.random.normal([1], 0, 1)\n",
    "output = sigmoid(x*w)\n",
    "print(output)"
   ]
  },
  {
   "cell_type": "code",
   "execution_count": 32,
   "metadata": {},
   "outputs": [
    {
     "name": "stdout",
     "output_type": "stream",
     "text": [
      "99 번째-Error :  -0.0055884301949655 // model output :  0.0055884301949655\n",
      "199 번째-Error :  -0.0038652027873142063 // model output :  0.0038652027873142063\n",
      "299 번째-Error :  -0.002953712245394339 // model output :  0.002953712245394339\n",
      "399 번째-Error :  -0.0023898885636197574 // model output :  0.0023898885636197574\n",
      "499 번째-Error :  -0.0020067262631998563 // model output :  0.0020067262631998563\n",
      "599 번째-Error :  -0.0017294019744384834 // model output :  0.0017294019744384834\n",
      "699 번째-Error :  -0.0015193947432560304 // model output :  0.0015193947432560304\n",
      "799 번째-Error :  -0.001354848637574148 // model output :  0.001354848637574148\n",
      "899 번째-Error :  -0.001222451641985039 // model output :  0.001222451641985039\n",
      "999 번째-Error :  -0.0011136205409845027 // model output :  0.0011136205409845027\n"
     ]
    }
   ],
   "source": [
    "# 경사하강법\n",
    "for i in range(1000) :\n",
    "    output = sigmoid(x * w)\n",
    "    error = y-output\n",
    "    w = w + x*0.8*error\n",
    "    # 로그체크를 위해서\n",
    "    if i % 100 ==99 :\n",
    "        print(i, '번째-Error : ', error, '// model output : ', output)"
   ]
  },
  {
   "cell_type": "code",
   "execution_count": 36,
   "metadata": {},
   "outputs": [
    {
     "name": "stdout",
     "output_type": "stream",
     "text": [
      "99 번째-Error :  0.09700665723689539 // model output :  0.9029933427631046\n",
      "199 번째-Error :  0.05090049196876478 // model output :  0.9490995080312352\n",
      "299 번째-Error :  0.0341873072079063 // model output :  0.9658126927920937\n",
      "399 번째-Error :  0.025661215225874168 // model output :  0.9743387847741258\n",
      "499 번째-Error :  0.020512262277471383 // model output :  0.9794877377225286\n",
      "599 번째-Error :  0.017072582167981687 // model output :  0.9829274178320183\n",
      "699 번째-Error :  0.014614921569248374 // model output :  0.9853850784307516\n",
      "799 번째-Error :  0.012772480764361105 // model output :  0.9872275192356389\n",
      "899 번째-Error :  0.011340555464749436 // model output :  0.9886594445352506\n",
      "999 번째-Error :  0.01019608663800986 // model output :  0.9898039133619901\n"
     ]
    }
   ],
   "source": [
    "# 학습이 이루어지지 않는다. : x = 0 이니까, 그래서 상수항(b, 바이어스)을 넣는다. 업데이트가 되지 않으니까 \n",
    "# 상수항은 이전 layer 당 하나씩\n",
    "x = 0\n",
    "y = 1\n",
    "w = tf.random.normal([1], 0, 1) # w : 입력에 대한 가중치 \n",
    "b = tf.random.normal([1], 0, 1) # b : 바이어스(상수항)\n",
    "# 노드마다 가중치와 상수항 모두가 존재한다. \n",
    "for i in range(1000) :\n",
    "    output = sigmoid(x*w + 1*b)\n",
    "    error = y-output\n",
    "    w = w + x*0.1*error\n",
    "    b = b + 1*0.1*error\n",
    "    \n",
    "    if i % 100 == 99 :\n",
    "        print(i, '번째-Error : ', error, '// model output : ', output)"
   ]
  },
  {
   "cell_type": "code",
   "execution_count": 44,
   "metadata": {},
   "outputs": [],
   "source": [
    "# 위까지는 하나의 노드만으로, 이제는 xor 연산을 위해 여러 노드로,,,\n",
    "x = np.array([\n",
    "    [1,1],\n",
    "    [1,0],\n",
    "    [0,1],\n",
    "    [0,0]\n",
    "])\n",
    "y = np.array([\n",
    "    [0],\n",
    "    [1],\n",
    "    [1],\n",
    "    [0]\n",
    "])"
   ]
  },
  {
   "cell_type": "code",
   "execution_count": 45,
   "metadata": {},
   "outputs": [
    {
     "data": {
      "text/plain": [
       "(4, 2)"
      ]
     },
     "execution_count": 45,
     "metadata": {},
     "output_type": "execute_result"
    }
   ],
   "source": [
    "x.shape # 4개의 데이터, 2개씩 "
   ]
  },
  {
   "cell_type": "code",
   "execution_count": 41,
   "metadata": {},
   "outputs": [
    {
     "data": {
      "text/plain": [
       "(4, 1)"
      ]
     },
     "execution_count": 41,
     "metadata": {},
     "output_type": "execute_result"
    }
   ],
   "source": [
    "y.shape"
   ]
  },
  {
   "cell_type": "code",
   "execution_count": 70,
   "metadata": {},
   "outputs": [],
   "source": [
    "tf.random.set_seed(1234) # random 값 고정을 위함\n",
    "\n",
    "\n",
    "model_xor = tf.keras.Sequential(\n",
    "[\n",
    "  tf.keras.layers.Dense(units=2, activation = 'sigmoid', input_shape=(2,)),\n",
    "  tf.keras.layers.Dense(units=1, activation = 'sigmoid')\n",
    "    \n",
    "])"
   ]
  },
  {
   "cell_type": "code",
   "execution_count": 71,
   "metadata": {},
   "outputs": [
    {
     "name": "stdout",
     "output_type": "stream",
     "text": [
      "Model: \"sequential_5\"\n",
      "_________________________________________________________________\n",
      "Layer (type)                 Output Shape              Param #   \n",
      "=================================================================\n",
      "dense_11 (Dense)             (None, 2)                 6         \n",
      "_________________________________________________________________\n",
      "dense_12 (Dense)             (None, 1)                 3         \n",
      "=================================================================\n",
      "Total params: 9\n",
      "Trainable params: 9\n",
      "Non-trainable params: 0\n",
      "_________________________________________________________________\n"
     ]
    }
   ],
   "source": [
    "model_xor.compile(\n",
    "    optimizer = tf.keras.optimizers.SGD(lr=0.1),\n",
    "    loss = 'mse')\n",
    "model_xor.summary()"
   ]
  },
  {
   "cell_type": "code",
   "execution_count": 72,
   "metadata": {},
   "outputs": [
    {
     "name": "stdout",
     "output_type": "stream",
     "text": [
      "Epoch 1/200\n",
      "4/4 [==============================] - 0s 748us/step - loss: 0.2779\n",
      "Epoch 2/200\n",
      "4/4 [==============================] - 0s 499us/step - loss: 0.2751\n",
      "Epoch 3/200\n",
      "4/4 [==============================] - 0s 751us/step - loss: 0.2726\n",
      "Epoch 4/200\n",
      "4/4 [==============================] - 0s 468us/step - loss: 0.2704\n",
      "Epoch 5/200\n",
      "4/4 [==============================] - 0s 454us/step - loss: 0.2683\n",
      "Epoch 6/200\n",
      "4/4 [==============================] - 0s 495us/step - loss: 0.2666\n",
      "Epoch 7/200\n",
      "4/4 [==============================] - 0s 499us/step - loss: 0.2651\n",
      "Epoch 8/200\n",
      "4/4 [==============================] - 0s 748us/step - loss: 0.2637\n",
      "Epoch 9/200\n",
      "4/4 [==============================] - 0s 520us/step - loss: 0.2623\n",
      "Epoch 10/200\n",
      "4/4 [==============================] - 0s 483us/step - loss: 0.2612\n",
      "Epoch 11/200\n",
      "4/4 [==============================] - 0s 499us/step - loss: 0.2603\n",
      "Epoch 12/200\n",
      "4/4 [==============================] - 0s 784us/step - loss: 0.2595\n",
      "Epoch 13/200\n",
      "4/4 [==============================] - 0s 729us/step - loss: 0.2588\n",
      "Epoch 14/200\n",
      "4/4 [==============================] - 0s 185us/step - loss: 0.2582\n",
      "Epoch 15/200\n",
      "4/4 [==============================] - 0s 249us/step - loss: 0.2576\n",
      "Epoch 16/200\n",
      "4/4 [==============================] - 0s 490us/step - loss: 0.2572\n",
      "Epoch 17/200\n",
      "4/4 [==============================] - 0s 481us/step - loss: 0.2567\n",
      "Epoch 18/200\n",
      "4/4 [==============================] - 0s 522us/step - loss: 0.2564\n",
      "Epoch 19/200\n",
      "4/4 [==============================] - 0s 748us/step - loss: 0.2560\n",
      "Epoch 20/200\n",
      "4/4 [==============================] - 0s 483us/step - loss: 0.2558\n",
      "Epoch 21/200\n",
      "4/4 [==============================] - 0s 499us/step - loss: 0.2556\n",
      "Epoch 22/200\n",
      "4/4 [==============================] - 0s 485us/step - loss: 0.2554\n",
      "Epoch 23/200\n",
      "4/4 [==============================] - 0s 491us/step - loss: 0.2552\n",
      "Epoch 24/200\n",
      "4/4 [==============================] - 0s 499us/step - loss: 0.2550\n",
      "Epoch 25/200\n",
      "4/4 [==============================] - 0s 748us/step - loss: 0.2548\n",
      "Epoch 26/200\n",
      "4/4 [==============================] - 0s 742us/step - loss: 0.2547\n",
      "Epoch 27/200\n",
      "4/4 [==============================] - 0s 479us/step - loss: 0.2546\n",
      "Epoch 28/200\n",
      "4/4 [==============================] - 0s 756us/step - loss: 0.2545\n",
      "Epoch 29/200\n",
      "4/4 [==============================] - 0s 499us/step - loss: 0.2544\n",
      "Epoch 30/200\n",
      "4/4 [==============================] - 0s 499us/step - loss: 0.2544\n",
      "Epoch 31/200\n",
      "4/4 [==============================] - 0s 499us/step - loss: 0.2543\n",
      "Epoch 32/200\n",
      "4/4 [==============================] - 0s 482us/step - loss: 0.2542\n",
      "Epoch 33/200\n",
      "4/4 [==============================] - 0s 499us/step - loss: 0.2542\n",
      "Epoch 34/200\n",
      "4/4 [==============================] - 0s 748us/step - loss: 0.2542\n",
      "Epoch 35/200\n",
      "4/4 [==============================] - 0s 482us/step - loss: 0.2541\n",
      "Epoch 36/200\n",
      "4/4 [==============================] - 0s 748us/step - loss: 0.2541\n",
      "Epoch 37/200\n",
      "4/4 [==============================] - 0s 529us/step - loss: 0.2541\n",
      "Epoch 38/200\n",
      "4/4 [==============================] - 0s 487us/step - loss: 0.2540\n",
      "Epoch 39/200\n",
      "4/4 [==============================] - 0s 482us/step - loss: 0.2540\n",
      "Epoch 40/200\n",
      "4/4 [==============================] - 0s 531us/step - loss: 0.2540\n",
      "Epoch 41/200\n",
      "4/4 [==============================] - 0s 499us/step - loss: 0.2539\n",
      "Epoch 42/200\n",
      "4/4 [==============================] - 0s 251us/step - loss: 0.2539\n",
      "Epoch 43/200\n",
      "4/4 [==============================] - 0s 748us/step - loss: 0.2539\n",
      "Epoch 44/200\n",
      "4/4 [==============================] - 0s 489us/step - loss: 0.2539\n",
      "Epoch 45/200\n",
      "4/4 [==============================] - 0s 499us/step - loss: 0.2539\n",
      "Epoch 46/200\n",
      "4/4 [==============================] - 0s 498us/step - loss: 0.2539\n",
      "Epoch 47/200\n",
      "4/4 [==============================] - 0s 748us/step - loss: 0.2538\n",
      "Epoch 48/200\n",
      "4/4 [==============================] - 0s 508us/step - loss: 0.2538\n",
      "Epoch 49/200\n",
      "4/4 [==============================] - 0s 748us/step - loss: 0.2538\n",
      "Epoch 50/200\n",
      "4/4 [==============================] - 0s 485us/step - loss: 0.2538\n",
      "Epoch 51/200\n",
      "4/4 [==============================] - 0s 499us/step - loss: 0.2538\n",
      "Epoch 52/200\n",
      "4/4 [==============================] - 0s 499us/step - loss: 0.2537\n",
      "Epoch 53/200\n",
      "4/4 [==============================] - 0s 730us/step - loss: 0.2538\n",
      "Epoch 54/200\n",
      "4/4 [==============================] - 0s 748us/step - loss: 0.2538\n",
      "Epoch 55/200\n",
      "4/4 [==============================] - 0s 478us/step - loss: 0.2538\n",
      "Epoch 56/200\n",
      "4/4 [==============================] - 0s 499us/step - loss: 0.2538\n",
      "Epoch 57/200\n",
      "4/4 [==============================] - 0s 748us/step - loss: 0.2537\n",
      "Epoch 58/200\n",
      "4/4 [==============================] - 0s 748us/step - loss: 0.2537\n",
      "Epoch 59/200\n",
      "4/4 [==============================] - 0s 740us/step - loss: 0.2537\n",
      "Epoch 60/200\n",
      "4/4 [==============================] - 0s 503us/step - loss: 0.2536\n",
      "Epoch 61/200\n",
      "4/4 [==============================] - 0s 493us/step - loss: 0.2537\n",
      "Epoch 62/200\n",
      "4/4 [==============================] - 0s 476us/step - loss: 0.2537\n",
      "Epoch 63/200\n",
      "4/4 [==============================] - 0s 490us/step - loss: 0.2536\n",
      "Epoch 64/200\n",
      "4/4 [==============================] - 0s 499us/step - loss: 0.2536\n",
      "Epoch 65/200\n",
      "4/4 [==============================] - 0s 756us/step - loss: 0.2536\n",
      "Epoch 66/200\n",
      "4/4 [==============================] - 0s 732us/step - loss: 0.2537\n",
      "Epoch 67/200\n",
      "4/4 [==============================] - 0s 759us/step - loss: 0.2537\n",
      "Epoch 68/200\n",
      "4/4 [==============================] - 0s 499us/step - loss: 0.2537\n",
      "Epoch 69/200\n",
      "4/4 [==============================] - 0s 499us/step - loss: 0.2536\n",
      "Epoch 70/200\n",
      "4/4 [==============================] - 0s 485us/step - loss: 0.2536\n",
      "Epoch 71/200\n",
      "4/4 [==============================] - 0s 471us/step - loss: 0.2536\n",
      "Epoch 72/200\n",
      "4/4 [==============================] - 0s 489us/step - loss: 0.2536\n",
      "Epoch 73/200\n",
      "4/4 [==============================] - 0s 499us/step - loss: 0.2536\n",
      "Epoch 74/200\n",
      "4/4 [==============================] - 0s 534us/step - loss: 0.2536\n",
      "Epoch 75/200\n",
      "4/4 [==============================] - 0s 748us/step - loss: 0.2536\n",
      "Epoch 76/200\n",
      "4/4 [==============================] - 0s 748us/step - loss: 0.2536\n",
      "Epoch 77/200\n",
      "4/4 [==============================] - 0s 748us/step - loss: 0.2536\n",
      "Epoch 78/200\n",
      "4/4 [==============================] - 0s 498us/step - loss: 0.2535\n",
      "Epoch 79/200\n",
      "4/4 [==============================] - 0s 499us/step - loss: 0.2536\n",
      "Epoch 80/200\n",
      "4/4 [==============================] - 0s 534us/step - loss: 0.2536\n",
      "Epoch 81/200\n",
      "4/4 [==============================] - 0s 517us/step - loss: 0.2536\n",
      "Epoch 82/200\n",
      "4/4 [==============================] - 0s 494us/step - loss: 0.2536\n",
      "Epoch 83/200\n",
      "4/4 [==============================] - 0s 508us/step - loss: 0.2535\n",
      "Epoch 84/200\n",
      "4/4 [==============================] - 0s 746us/step - loss: 0.2535\n",
      "Epoch 85/200\n",
      "4/4 [==============================] - 0s 748us/step - loss: 0.2535\n",
      "Epoch 86/200\n",
      "4/4 [==============================] - 0s 498us/step - loss: 0.2535\n",
      "Epoch 87/200\n",
      "4/4 [==============================] - 0s 483us/step - loss: 0.2534\n",
      "Epoch 88/200\n",
      "4/4 [==============================] - 0s 499us/step - loss: 0.2534\n",
      "Epoch 89/200\n",
      "4/4 [==============================] - 0s 499us/step - loss: 0.2535\n",
      "Epoch 90/200\n",
      "4/4 [==============================] - 0s 499us/step - loss: 0.2535\n",
      "Epoch 91/200\n",
      "4/4 [==============================] - 0s 738us/step - loss: 0.2534\n",
      "Epoch 92/200\n",
      "4/4 [==============================] - 0s 499us/step - loss: 0.2534\n",
      "Epoch 93/200\n",
      "4/4 [==============================] - 0s 529us/step - loss: 0.2535\n",
      "Epoch 94/200\n",
      "4/4 [==============================] - 0s 499us/step - loss: 0.2535\n",
      "Epoch 95/200\n",
      "4/4 [==============================] - 0s 795us/step - loss: 0.2535\n",
      "Epoch 96/200\n",
      "4/4 [==============================] - 0s 748us/step - loss: 0.2534\n",
      "Epoch 97/200\n",
      "4/4 [==============================] - 0s 748us/step - loss: 0.2534\n",
      "Epoch 98/200\n",
      "4/4 [==============================] - 0s 753us/step - loss: 0.2534\n",
      "Epoch 99/200\n",
      "4/4 [==============================] - 0s 731us/step - loss: 0.2534\n",
      "Epoch 100/200\n",
      "4/4 [==============================] - 0s 766us/step - loss: 0.2534\n",
      "Epoch 101/200\n",
      "4/4 [==============================] - 0s 499us/step - loss: 0.2534\n",
      "Epoch 102/200\n",
      "4/4 [==============================] - 0s 748us/step - loss: 0.2533\n",
      "Epoch 103/200\n",
      "4/4 [==============================] - 0s 499us/step - loss: 0.2534\n",
      "Epoch 104/200\n",
      "4/4 [==============================] - 0s 493us/step - loss: 0.2533\n",
      "Epoch 105/200\n",
      "4/4 [==============================] - 0s 748us/step - loss: 0.2534\n",
      "Epoch 106/200\n",
      "4/4 [==============================] - 0s 501us/step - loss: 0.2534\n",
      "Epoch 107/200\n",
      "4/4 [==============================] - 0s 483us/step - loss: 0.2534\n",
      "Epoch 108/200\n",
      "4/4 [==============================] - 0s 724us/step - loss: 0.2533\n",
      "Epoch 109/200\n",
      "4/4 [==============================] - 0s 499us/step - loss: 0.2533\n",
      "Epoch 110/200\n",
      "4/4 [==============================] - 0s 523us/step - loss: 0.2533\n",
      "Epoch 111/200\n",
      "4/4 [==============================] - 0s 499us/step - loss: 0.2533\n",
      "Epoch 112/200\n",
      "4/4 [==============================] - 0s 515us/step - loss: 0.2532\n",
      "Epoch 113/200\n",
      "4/4 [==============================] - 0s 499us/step - loss: 0.2533\n",
      "Epoch 114/200\n",
      "4/4 [==============================] - 0s 734us/step - loss: 0.2533\n",
      "Epoch 115/200\n",
      "4/4 [==============================] - 0s 503us/step - loss: 0.2532\n",
      "Epoch 116/200\n",
      "4/4 [==============================] - 0s 748us/step - loss: 0.2533\n",
      "Epoch 117/200\n",
      "4/4 [==============================] - 0s 748us/step - loss: 0.2532\n",
      "Epoch 118/200\n",
      "4/4 [==============================] - 0s 485us/step - loss: 0.2532\n",
      "Epoch 119/200\n",
      "4/4 [==============================] - 0s 499us/step - loss: 0.2532\n",
      "Epoch 120/200\n",
      "4/4 [==============================] - 0s 727us/step - loss: 0.2532\n",
      "Epoch 121/200\n",
      "4/4 [==============================] - 0s 748us/step - loss: 0.2532\n",
      "Epoch 122/200\n",
      "4/4 [==============================] - 0s 744us/step - loss: 0.2531\n",
      "Epoch 123/200\n",
      "4/4 [==============================] - 0s 748us/step - loss: 0.2532\n",
      "Epoch 124/200\n",
      "4/4 [==============================] - 0s 469us/step - loss: 0.2532\n",
      "Epoch 125/200\n",
      "4/4 [==============================] - 0s 485us/step - loss: 0.2532\n",
      "Epoch 126/200\n",
      "4/4 [==============================] - 0s 499us/step - loss: 0.2532\n",
      "Epoch 127/200\n",
      "4/4 [==============================] - 0s 498us/step - loss: 0.2532\n",
      "Epoch 128/200\n",
      "4/4 [==============================] - 0s 499us/step - loss: 0.2532\n",
      "Epoch 129/200\n",
      "4/4 [==============================] - 0s 756us/step - loss: 0.2531\n",
      "Epoch 130/200\n",
      "4/4 [==============================] - 0s 734us/step - loss: 0.2531\n",
      "Epoch 131/200\n",
      "4/4 [==============================] - 0s 748us/step - loss: 0.2531\n",
      "Epoch 132/200\n",
      "4/4 [==============================] - 0s 751us/step - loss: 0.2531\n",
      "Epoch 133/200\n",
      "4/4 [==============================] - 0s 500us/step - loss: 0.2531\n",
      "Epoch 134/200\n",
      "4/4 [==============================] - 0s 467us/step - loss: 0.2531\n",
      "Epoch 135/200\n",
      "4/4 [==============================] - 0s 499us/step - loss: 0.2531\n",
      "Epoch 136/200\n",
      "4/4 [==============================] - 0s 748us/step - loss: 0.2530\n",
      "Epoch 137/200\n",
      "4/4 [==============================] - 0s 499us/step - loss: 0.2531\n",
      "Epoch 138/200\n",
      "4/4 [==============================] - 0s 748us/step - loss: 0.2530\n",
      "Epoch 139/200\n",
      "4/4 [==============================] - 0s 499us/step - loss: 0.2530\n",
      "Epoch 140/200\n",
      "4/4 [==============================] - 0s 249us/step - loss: 0.2530\n",
      "Epoch 141/200\n",
      "4/4 [==============================] - 0s 460us/step - loss: 0.2529\n",
      "Epoch 142/200\n",
      "4/4 [==============================] - 0s 485us/step - loss: 0.2530\n",
      "Epoch 143/200\n",
      "4/4 [==============================] - 0s 499us/step - loss: 0.2530\n",
      "Epoch 144/200\n",
      "4/4 [==============================] - 0s 498us/step - loss: 0.2530\n",
      "Epoch 145/200\n",
      "4/4 [==============================] - 0s 499us/step - loss: 0.2529\n",
      "Epoch 146/200\n",
      "4/4 [==============================] - 0s 499us/step - loss: 0.2529\n",
      "Epoch 147/200\n",
      "4/4 [==============================] - 0s 731us/step - loss: 0.2530\n",
      "Epoch 148/200\n",
      "4/4 [==============================] - 0s 499us/step - loss: 0.2530\n",
      "Epoch 149/200\n",
      "4/4 [==============================] - 0s 490us/step - loss: 0.2529\n",
      "Epoch 150/200\n",
      "4/4 [==============================] - 0s 499us/step - loss: 0.2529\n",
      "Epoch 151/200\n",
      "4/4 [==============================] - 0s 748us/step - loss: 0.2529\n",
      "Epoch 152/200\n",
      "4/4 [==============================] - 0s 498us/step - loss: 0.2529\n",
      "Epoch 153/200\n",
      "4/4 [==============================] - 0s 499us/step - loss: 0.2529\n",
      "Epoch 154/200\n",
      "4/4 [==============================] - 0s 499us/step - loss: 0.2528\n",
      "Epoch 155/200\n",
      "4/4 [==============================] - 0s 732us/step - loss: 0.2529\n",
      "Epoch 156/200\n",
      "4/4 [==============================] - 0s 748us/step - loss: 0.2529\n",
      "Epoch 157/200\n",
      "4/4 [==============================] - 0s 764us/step - loss: 0.2528\n",
      "Epoch 158/200\n",
      "4/4 [==============================] - 0s 748us/step - loss: 0.2528\n",
      "Epoch 159/200\n",
      "4/4 [==============================] - 0s 748us/step - loss: 0.2528\n",
      "Epoch 160/200\n",
      "4/4 [==============================] - 0s 483us/step - loss: 0.2528\n",
      "Epoch 161/200\n",
      "4/4 [==============================] - 0s 499us/step - loss: 0.2528\n",
      "Epoch 162/200\n",
      "4/4 [==============================] - 0s 499us/step - loss: 0.2528\n",
      "Epoch 163/200\n",
      "4/4 [==============================] - 0s 499us/step - loss: 0.2527\n",
      "Epoch 164/200\n",
      "4/4 [==============================] - 0s 499us/step - loss: 0.2528\n",
      "Epoch 165/200\n",
      "4/4 [==============================] - 0s 499us/step - loss: 0.2528\n",
      "Epoch 166/200\n",
      "4/4 [==============================] - 0s 499us/step - loss: 0.2528\n",
      "Epoch 167/200\n",
      "4/4 [==============================] - 0s 249us/step - loss: 0.2527\n",
      "Epoch 168/200\n",
      "4/4 [==============================] - 0s 748us/step - loss: 0.2527\n",
      "Epoch 169/200\n",
      "4/4 [==============================] - 0s 507us/step - loss: 0.2526\n",
      "Epoch 170/200\n",
      "4/4 [==============================] - 0s 499us/step - loss: 0.2527\n",
      "Epoch 171/200\n",
      "4/4 [==============================] - 0s 499us/step - loss: 0.2527\n",
      "Epoch 172/200\n",
      "4/4 [==============================] - 0s 499us/step - loss: 0.2527\n",
      "Epoch 173/200\n",
      "4/4 [==============================] - 0s 748us/step - loss: 0.2527\n",
      "Epoch 174/200\n",
      "4/4 [==============================] - 0s 748us/step - loss: 0.2527\n",
      "Epoch 175/200\n",
      "4/4 [==============================] - 0s 748us/step - loss: 0.2526\n",
      "Epoch 176/200\n",
      "4/4 [==============================] - 0s 748us/step - loss: 0.2526\n",
      "Epoch 177/200\n",
      "4/4 [==============================] - 0s 499us/step - loss: 0.2525\n",
      "Epoch 178/200\n",
      "4/4 [==============================] - 0s 499us/step - loss: 0.2526\n",
      "Epoch 179/200\n",
      "4/4 [==============================] - 0s 499us/step - loss: 0.2525\n",
      "Epoch 180/200\n",
      "4/4 [==============================] - 0s 499us/step - loss: 0.2526\n",
      "Epoch 181/200\n",
      "4/4 [==============================] - 0s 508us/step - loss: 0.2525\n",
      "Epoch 182/200\n",
      "4/4 [==============================] - 0s 748us/step - loss: 0.2526\n",
      "Epoch 183/200\n",
      "4/4 [==============================] - 0s 748us/step - loss: 0.2525\n",
      "Epoch 184/200\n",
      "4/4 [==============================] - 0s 748us/step - loss: 0.2525\n",
      "Epoch 185/200\n",
      "4/4 [==============================] - 0s 499us/step - loss: 0.2525\n",
      "Epoch 186/200\n",
      "4/4 [==============================] - 0s 503us/step - loss: 0.2525\n",
      "Epoch 187/200\n",
      "4/4 [==============================] - 0s 748us/step - loss: 0.2525\n",
      "Epoch 188/200\n",
      "4/4 [==============================] - 0s 763us/step - loss: 0.2524\n",
      "Epoch 189/200\n",
      "4/4 [==============================] - 0s 748us/step - loss: 0.2525\n",
      "Epoch 190/200\n",
      "4/4 [==============================] - 0s 482us/step - loss: 0.2525\n",
      "Epoch 191/200\n",
      "4/4 [==============================] - 0s 498us/step - loss: 0.2524\n",
      "Epoch 192/200\n",
      "4/4 [==============================] - ETA: 0s - loss: 0.249 - 0s 499us/step - loss: 0.2524\n",
      "Epoch 193/200\n",
      "4/4 [==============================] - 0s 763us/step - loss: 0.2523\n",
      "Epoch 194/200\n",
      "4/4 [==============================] - 0s 504us/step - loss: 0.2523\n",
      "Epoch 195/200\n",
      "4/4 [==============================] - 0s 748us/step - loss: 0.2524\n",
      "Epoch 196/200\n",
      "4/4 [==============================] - 0s 748us/step - loss: 0.2524\n",
      "Epoch 197/200\n",
      "4/4 [==============================] - 0s 748us/step - loss: 0.2524\n",
      "Epoch 198/200\n",
      "4/4 [==============================] - 0s 499us/step - loss: 0.2524\n",
      "Epoch 199/200\n",
      "4/4 [==============================] - 0s 499us/step - loss: 0.2523\n",
      "Epoch 200/200\n",
      "4/4 [==============================] - 0s 499us/step - loss: 0.2522\n"
     ]
    }
   ],
   "source": [
    "xor_history = model_xor.fit(x, y, epochs=200, batch_size=1)"
   ]
  },
  {
   "cell_type": "code",
   "execution_count": 73,
   "metadata": {},
   "outputs": [
    {
     "data": {
      "text/plain": [
       "<tf.Tensor: shape=(4, 1), dtype=float32, numpy=\n",
       "array([[0.53019017],\n",
       "       [0.50113887],\n",
       "       [0.50783604],\n",
       "       [0.468396  ]], dtype=float32)>"
      ]
     },
     "execution_count": 73,
     "metadata": {},
     "output_type": "execute_result"
    }
   ],
   "source": [
    "# 학습이 적당한 parameter를 찾는 과정인데,, --> 처음에 랜덤으로 돌아가니까 돌릴 때마다 값이 달라짐,,,, \n",
    "model_xor(x)\n",
    "# <tf.Tensor: shape=(4, 1), dtype=float32, numpy=\n",
    "# array([[0.15781581],\n",
    "#        [0.8744976 ],\n",
    "#        [0.8749975 ],\n",
    "#        [0.13108557]], dtype=float32)>\n",
    "\n",
    "# <tf.Tensor: shape=(4, 1), dtype=float32, numpy=\n",
    "# array([[0.11124814],\n",
    "#        [0.89549387],\n",
    "#        [0.8956084 ],\n",
    "#        [0.07979321]], dtype=float32)>\n",
    "\n",
    "\n",
    "# learning rate 와 epoch가 중요해 -> 아래 사항은 충분히 학습시키지 못한 결과,,,,, \n",
    "\n",
    "# <tf.Tensor: shape=(4, 1), dtype=float32, numpy=\n",
    "# array([[0.53019017],\n",
    "#        [0.50113887],\n",
    "#        [0.50783604],\n",
    "#        [0.468396  ]], dtype=float32)>"
   ]
  },
  {
   "cell_type": "code",
   "execution_count": 58,
   "metadata": {},
   "outputs": [
    {
     "name": "stdout",
     "output_type": "stream",
     "text": [
      "<tf.Variable 'dense_2/kernel:0' shape=(2, 2) dtype=float32, numpy=\n",
      "array([[-3.388888 ,  5.914673 ],\n",
      "       [-3.40386  ,  6.0240407]], dtype=float32)>\n",
      "<tf.Variable 'dense_2/bias:0' shape=(2,) dtype=float32, numpy=array([ 5.0208592, -2.4286249], dtype=float32)>\n",
      "<tf.Variable 'dense_3/kernel:0' shape=(2, 1) dtype=float32, numpy=\n",
      "array([[5.4579897],\n",
      "       [5.2735796]], dtype=float32)>\n",
      "<tf.Variable 'dense_3/bias:0' shape=(1,) dtype=float32, numpy=array([-7.740846], dtype=float32)>\n"
     ]
    }
   ],
   "source": [
    "for weight in model_xor.weights :\n",
    "    print(weight)"
   ]
  },
  {
   "cell_type": "code",
   "execution_count": null,
   "metadata": {},
   "outputs": [],
   "source": []
  },
  {
   "cell_type": "code",
   "execution_count": null,
   "metadata": {},
   "outputs": [],
   "source": []
  },
  {
   "cell_type": "code",
   "execution_count": null,
   "metadata": {},
   "outputs": [],
   "source": []
  },
  {
   "cell_type": "code",
   "execution_count": null,
   "metadata": {},
   "outputs": [],
   "source": []
  },
  {
   "cell_type": "code",
   "execution_count": null,
   "metadata": {},
   "outputs": [],
   "source": []
  },
  {
   "cell_type": "code",
   "execution_count": null,
   "metadata": {},
   "outputs": [],
   "source": []
  }
 ],
 "metadata": {
  "kernelspec": {
   "display_name": "Python 3",
   "language": "python",
   "name": "python3"
  },
  "language_info": {
   "codemirror_mode": {
    "name": "ipython",
    "version": 3
   },
   "file_extension": ".py",
   "mimetype": "text/x-python",
   "name": "python",
   "nbconvert_exporter": "python",
   "pygments_lexer": "ipython3",
   "version": "3.8.3"
  }
 },
 "nbformat": 4,
 "nbformat_minor": 4
}
