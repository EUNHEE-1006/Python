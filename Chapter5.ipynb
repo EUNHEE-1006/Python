{
 "cells": [
  {
   "cell_type": "markdown",
   "metadata": {
    "colab_type": "text",
    "id": "BCq2UCUvEkhh"
   },
   "source": [
    "<시작하세요! 텐서플로 2.0 프로그래밍> 예제코드입니다.\n",
    "\n",
    "- 예제 코드를 실행하기 위해서는 [파일] > [드라이브에 사본 저장]으로 본인의 계정에 사본을 만든 다음 실행하면 됩니다.\n",
    "- 예제 코드는 [깃허브 저장소](https://github.com/wikibook/tf2)에서도 동일하게 제공됩니다. 예제에 대한 질문이나 책에 대한 질문은 깃허브 저장소의 [Issues](https://github.com/wikibook/tf2/issues)에 올려주세요.\n",
    "- 각 장의 예제 파일은 처음부터 끝까지 실행하는 상황을 가정하고 작성되었습니다. 혹시 세션이 다운되는 등의 이유로 실행이 되지 않는 경우가 있다면, 필요한 라이브러리를 import 하신 후에 실행하시면 됩니다. (tensorflow, numpy, pandas 등)"
   ]
  },
  {
   "cell_type": "markdown",
   "metadata": {
    "colab_type": "text",
    "id": "uhcsaDFfh0fp"
   },
   "source": [
    "# 5.1 이항 분류"
   ]
  },
  {
   "cell_type": "code",
   "execution_count": 1,
   "metadata": {
    "colab": {},
    "colab_type": "code",
    "id": "p6PRuUGky7Gi"
   },
   "outputs": [],
   "source": [
    "# 텐서플로 2 버전 선택\n",
    "try:\n",
    "    # %tensorflow_version only exists in Colab.\n",
    "    %tensorflow_version 2.x\n",
    "except Exception:\n",
    "    pass"
   ]
  },
  {
   "cell_type": "code",
   "execution_count": 2,
   "metadata": {
    "colab": {
     "base_uri": "https://localhost:8080/",
     "height": 305
    },
    "colab_type": "code",
    "id": "dG7D-IRGhtp_",
    "outputId": "f2508fc1-962f-4533-96e7-dc01807911a9"
   },
   "outputs": [
    {
     "name": "stdout",
     "output_type": "stream",
     "text": [
      "   fixed acidity  volatile acidity  citric acid  residual sugar  chlorides  \\\n",
      "0            7.4              0.70         0.00             1.9      0.076   \n",
      "1            7.8              0.88         0.00             2.6      0.098   \n",
      "2            7.8              0.76         0.04             2.3      0.092   \n",
      "3           11.2              0.28         0.56             1.9      0.075   \n",
      "4            7.4              0.70         0.00             1.9      0.076   \n",
      "\n",
      "   free sulfur dioxide  total sulfur dioxide  density    pH  sulphates  \\\n",
      "0                 11.0                  34.0   0.9978  3.51       0.56   \n",
      "1                 25.0                  67.0   0.9968  3.20       0.68   \n",
      "2                 15.0                  54.0   0.9970  3.26       0.65   \n",
      "3                 17.0                  60.0   0.9980  3.16       0.58   \n",
      "4                 11.0                  34.0   0.9978  3.51       0.56   \n",
      "\n",
      "   alcohol  quality  \n",
      "0      9.4        5  \n",
      "1      9.8        5  \n",
      "2      9.8        5  \n",
      "3      9.8        6  \n",
      "4      9.4        5  \n",
      "   fixed acidity  volatile acidity  citric acid  residual sugar  chlorides  \\\n",
      "0            7.0              0.27         0.36            20.7      0.045   \n",
      "1            6.3              0.30         0.34             1.6      0.049   \n",
      "2            8.1              0.28         0.40             6.9      0.050   \n",
      "3            7.2              0.23         0.32             8.5      0.058   \n",
      "4            7.2              0.23         0.32             8.5      0.058   \n",
      "\n",
      "   free sulfur dioxide  total sulfur dioxide  density    pH  sulphates  \\\n",
      "0                 45.0                 170.0   1.0010  3.00       0.45   \n",
      "1                 14.0                 132.0   0.9940  3.30       0.49   \n",
      "2                 30.0                  97.0   0.9951  3.26       0.44   \n",
      "3                 47.0                 186.0   0.9956  3.19       0.40   \n",
      "4                 47.0                 186.0   0.9956  3.19       0.40   \n",
      "\n",
      "   alcohol  quality  \n",
      "0      8.8        6  \n",
      "1      9.5        6  \n",
      "2     10.1        6  \n",
      "3      9.9        6  \n",
      "4      9.9        6  \n"
     ]
    }
   ],
   "source": [
    "# 5.1 와인 데이터셋 불러오기\n",
    "import pandas as pd\n",
    "red = pd.read_csv('http://archive.ics.uci.edu/ml/machine-learning-databases/wine-quality/winequality-red.csv', sep=';')\n",
    "white = pd.read_csv('http://archive.ics.uci.edu/ml/machine-learning-databases/wine-quality/winequality-white.csv', sep=';')\n",
    "print(red.head())\n",
    "print(white.head())"
   ]
  },
  {
   "cell_type": "code",
   "execution_count": 3,
   "metadata": {
    "colab": {
     "base_uri": "https://localhost:8080/",
     "height": 395
    },
    "colab_type": "code",
    "id": "q1ddlvU_fcK0",
    "outputId": "81a3ae33-98c7-4700-ccf2-15207a0b380b"
   },
   "outputs": [],
   "source": [
    "# 5.2 와인 데이터셋 합치기\n",
    "red['type'] = 0\n",
    "white['type'] = 1\n",
    "wine = pd.concat([red, white]) #정답지와 합친 것,,,"
   ]
  },
  {
   "cell_type": "code",
   "execution_count": 4,
   "metadata": {},
   "outputs": [
    {
     "data": {
      "text/html": [
       "<div>\n",
       "<style scoped>\n",
       "    .dataframe tbody tr th:only-of-type {\n",
       "        vertical-align: middle;\n",
       "    }\n",
       "\n",
       "    .dataframe tbody tr th {\n",
       "        vertical-align: top;\n",
       "    }\n",
       "\n",
       "    .dataframe thead th {\n",
       "        text-align: right;\n",
       "    }\n",
       "</style>\n",
       "<table border=\"1\" class=\"dataframe\">\n",
       "  <thead>\n",
       "    <tr style=\"text-align: right;\">\n",
       "      <th></th>\n",
       "      <th>fixed acidity</th>\n",
       "      <th>volatile acidity</th>\n",
       "      <th>citric acid</th>\n",
       "      <th>residual sugar</th>\n",
       "      <th>chlorides</th>\n",
       "      <th>free sulfur dioxide</th>\n",
       "      <th>total sulfur dioxide</th>\n",
       "      <th>density</th>\n",
       "      <th>pH</th>\n",
       "      <th>sulphates</th>\n",
       "      <th>alcohol</th>\n",
       "      <th>quality</th>\n",
       "      <th>type</th>\n",
       "    </tr>\n",
       "  </thead>\n",
       "  <tbody>\n",
       "    <tr>\n",
       "      <th>0</th>\n",
       "      <td>7.4</td>\n",
       "      <td>0.70</td>\n",
       "      <td>0.00</td>\n",
       "      <td>1.9</td>\n",
       "      <td>0.076</td>\n",
       "      <td>11.0</td>\n",
       "      <td>34.0</td>\n",
       "      <td>0.99780</td>\n",
       "      <td>3.51</td>\n",
       "      <td>0.56</td>\n",
       "      <td>9.4</td>\n",
       "      <td>5</td>\n",
       "      <td>0</td>\n",
       "    </tr>\n",
       "    <tr>\n",
       "      <th>1</th>\n",
       "      <td>7.8</td>\n",
       "      <td>0.88</td>\n",
       "      <td>0.00</td>\n",
       "      <td>2.6</td>\n",
       "      <td>0.098</td>\n",
       "      <td>25.0</td>\n",
       "      <td>67.0</td>\n",
       "      <td>0.99680</td>\n",
       "      <td>3.20</td>\n",
       "      <td>0.68</td>\n",
       "      <td>9.8</td>\n",
       "      <td>5</td>\n",
       "      <td>0</td>\n",
       "    </tr>\n",
       "    <tr>\n",
       "      <th>2</th>\n",
       "      <td>7.8</td>\n",
       "      <td>0.76</td>\n",
       "      <td>0.04</td>\n",
       "      <td>2.3</td>\n",
       "      <td>0.092</td>\n",
       "      <td>15.0</td>\n",
       "      <td>54.0</td>\n",
       "      <td>0.99700</td>\n",
       "      <td>3.26</td>\n",
       "      <td>0.65</td>\n",
       "      <td>9.8</td>\n",
       "      <td>5</td>\n",
       "      <td>0</td>\n",
       "    </tr>\n",
       "    <tr>\n",
       "      <th>3</th>\n",
       "      <td>11.2</td>\n",
       "      <td>0.28</td>\n",
       "      <td>0.56</td>\n",
       "      <td>1.9</td>\n",
       "      <td>0.075</td>\n",
       "      <td>17.0</td>\n",
       "      <td>60.0</td>\n",
       "      <td>0.99800</td>\n",
       "      <td>3.16</td>\n",
       "      <td>0.58</td>\n",
       "      <td>9.8</td>\n",
       "      <td>6</td>\n",
       "      <td>0</td>\n",
       "    </tr>\n",
       "    <tr>\n",
       "      <th>4</th>\n",
       "      <td>7.4</td>\n",
       "      <td>0.70</td>\n",
       "      <td>0.00</td>\n",
       "      <td>1.9</td>\n",
       "      <td>0.076</td>\n",
       "      <td>11.0</td>\n",
       "      <td>34.0</td>\n",
       "      <td>0.99780</td>\n",
       "      <td>3.51</td>\n",
       "      <td>0.56</td>\n",
       "      <td>9.4</td>\n",
       "      <td>5</td>\n",
       "      <td>0</td>\n",
       "    </tr>\n",
       "    <tr>\n",
       "      <th>...</th>\n",
       "      <td>...</td>\n",
       "      <td>...</td>\n",
       "      <td>...</td>\n",
       "      <td>...</td>\n",
       "      <td>...</td>\n",
       "      <td>...</td>\n",
       "      <td>...</td>\n",
       "      <td>...</td>\n",
       "      <td>...</td>\n",
       "      <td>...</td>\n",
       "      <td>...</td>\n",
       "      <td>...</td>\n",
       "      <td>...</td>\n",
       "    </tr>\n",
       "    <tr>\n",
       "      <th>4893</th>\n",
       "      <td>6.2</td>\n",
       "      <td>0.21</td>\n",
       "      <td>0.29</td>\n",
       "      <td>1.6</td>\n",
       "      <td>0.039</td>\n",
       "      <td>24.0</td>\n",
       "      <td>92.0</td>\n",
       "      <td>0.99114</td>\n",
       "      <td>3.27</td>\n",
       "      <td>0.50</td>\n",
       "      <td>11.2</td>\n",
       "      <td>6</td>\n",
       "      <td>1</td>\n",
       "    </tr>\n",
       "    <tr>\n",
       "      <th>4894</th>\n",
       "      <td>6.6</td>\n",
       "      <td>0.32</td>\n",
       "      <td>0.36</td>\n",
       "      <td>8.0</td>\n",
       "      <td>0.047</td>\n",
       "      <td>57.0</td>\n",
       "      <td>168.0</td>\n",
       "      <td>0.99490</td>\n",
       "      <td>3.15</td>\n",
       "      <td>0.46</td>\n",
       "      <td>9.6</td>\n",
       "      <td>5</td>\n",
       "      <td>1</td>\n",
       "    </tr>\n",
       "    <tr>\n",
       "      <th>4895</th>\n",
       "      <td>6.5</td>\n",
       "      <td>0.24</td>\n",
       "      <td>0.19</td>\n",
       "      <td>1.2</td>\n",
       "      <td>0.041</td>\n",
       "      <td>30.0</td>\n",
       "      <td>111.0</td>\n",
       "      <td>0.99254</td>\n",
       "      <td>2.99</td>\n",
       "      <td>0.46</td>\n",
       "      <td>9.4</td>\n",
       "      <td>6</td>\n",
       "      <td>1</td>\n",
       "    </tr>\n",
       "    <tr>\n",
       "      <th>4896</th>\n",
       "      <td>5.5</td>\n",
       "      <td>0.29</td>\n",
       "      <td>0.30</td>\n",
       "      <td>1.1</td>\n",
       "      <td>0.022</td>\n",
       "      <td>20.0</td>\n",
       "      <td>110.0</td>\n",
       "      <td>0.98869</td>\n",
       "      <td>3.34</td>\n",
       "      <td>0.38</td>\n",
       "      <td>12.8</td>\n",
       "      <td>7</td>\n",
       "      <td>1</td>\n",
       "    </tr>\n",
       "    <tr>\n",
       "      <th>4897</th>\n",
       "      <td>6.0</td>\n",
       "      <td>0.21</td>\n",
       "      <td>0.38</td>\n",
       "      <td>0.8</td>\n",
       "      <td>0.020</td>\n",
       "      <td>22.0</td>\n",
       "      <td>98.0</td>\n",
       "      <td>0.98941</td>\n",
       "      <td>3.26</td>\n",
       "      <td>0.32</td>\n",
       "      <td>11.8</td>\n",
       "      <td>6</td>\n",
       "      <td>1</td>\n",
       "    </tr>\n",
       "  </tbody>\n",
       "</table>\n",
       "<p>6497 rows × 13 columns</p>\n",
       "</div>"
      ],
      "text/plain": [
       "      fixed acidity  volatile acidity  citric acid  residual sugar  chlorides  \\\n",
       "0               7.4              0.70         0.00             1.9      0.076   \n",
       "1               7.8              0.88         0.00             2.6      0.098   \n",
       "2               7.8              0.76         0.04             2.3      0.092   \n",
       "3              11.2              0.28         0.56             1.9      0.075   \n",
       "4               7.4              0.70         0.00             1.9      0.076   \n",
       "...             ...               ...          ...             ...        ...   \n",
       "4893            6.2              0.21         0.29             1.6      0.039   \n",
       "4894            6.6              0.32         0.36             8.0      0.047   \n",
       "4895            6.5              0.24         0.19             1.2      0.041   \n",
       "4896            5.5              0.29         0.30             1.1      0.022   \n",
       "4897            6.0              0.21         0.38             0.8      0.020   \n",
       "\n",
       "      free sulfur dioxide  total sulfur dioxide  density    pH  sulphates  \\\n",
       "0                    11.0                  34.0  0.99780  3.51       0.56   \n",
       "1                    25.0                  67.0  0.99680  3.20       0.68   \n",
       "2                    15.0                  54.0  0.99700  3.26       0.65   \n",
       "3                    17.0                  60.0  0.99800  3.16       0.58   \n",
       "4                    11.0                  34.0  0.99780  3.51       0.56   \n",
       "...                   ...                   ...      ...   ...        ...   \n",
       "4893                 24.0                  92.0  0.99114  3.27       0.50   \n",
       "4894                 57.0                 168.0  0.99490  3.15       0.46   \n",
       "4895                 30.0                 111.0  0.99254  2.99       0.46   \n",
       "4896                 20.0                 110.0  0.98869  3.34       0.38   \n",
       "4897                 22.0                  98.0  0.98941  3.26       0.32   \n",
       "\n",
       "      alcohol  quality  type  \n",
       "0         9.4        5     0  \n",
       "1         9.8        5     0  \n",
       "2         9.8        5     0  \n",
       "3         9.8        6     0  \n",
       "4         9.4        5     0  \n",
       "...       ...      ...   ...  \n",
       "4893     11.2        6     1  \n",
       "4894      9.6        5     1  \n",
       "4895      9.4        6     1  \n",
       "4896     12.8        7     1  \n",
       "4897     11.8        6     1  \n",
       "\n",
       "[6497 rows x 13 columns]"
      ]
     },
     "execution_count": 4,
     "metadata": {},
     "output_type": "execute_result"
    }
   ],
   "source": [
    "wine"
   ]
  },
  {
   "cell_type": "code",
   "execution_count": 5,
   "metadata": {},
   "outputs": [
    {
     "data": {
      "text/plain": [
       "1    4898\n",
       "0    1599\n",
       "Name: type, dtype: int64"
      ]
     },
     "execution_count": 5,
     "metadata": {},
     "output_type": "execute_result"
    }
   ],
   "source": [
    "wine['type'].value_counts()"
   ]
  },
  {
   "cell_type": "code",
   "execution_count": 6,
   "metadata": {},
   "outputs": [
    {
     "data": {
      "text/html": [
       "<div>\n",
       "<style scoped>\n",
       "    .dataframe tbody tr th:only-of-type {\n",
       "        vertical-align: middle;\n",
       "    }\n",
       "\n",
       "    .dataframe tbody tr th {\n",
       "        vertical-align: top;\n",
       "    }\n",
       "\n",
       "    .dataframe thead th {\n",
       "        text-align: right;\n",
       "    }\n",
       "</style>\n",
       "<table border=\"1\" class=\"dataframe\">\n",
       "  <thead>\n",
       "    <tr style=\"text-align: right;\">\n",
       "      <th></th>\n",
       "      <th>fixed acidity</th>\n",
       "      <th>volatile acidity</th>\n",
       "      <th>citric acid</th>\n",
       "      <th>residual sugar</th>\n",
       "      <th>chlorides</th>\n",
       "      <th>free sulfur dioxide</th>\n",
       "      <th>total sulfur dioxide</th>\n",
       "      <th>density</th>\n",
       "      <th>pH</th>\n",
       "      <th>sulphates</th>\n",
       "      <th>alcohol</th>\n",
       "      <th>quality</th>\n",
       "      <th>type</th>\n",
       "    </tr>\n",
       "  </thead>\n",
       "  <tbody>\n",
       "    <tr>\n",
       "      <th>4893</th>\n",
       "      <td>0.198347</td>\n",
       "      <td>0.086667</td>\n",
       "      <td>0.174699</td>\n",
       "      <td>0.015337</td>\n",
       "      <td>0.049834</td>\n",
       "      <td>0.079861</td>\n",
       "      <td>0.198157</td>\n",
       "      <td>0.077694</td>\n",
       "      <td>0.426357</td>\n",
       "      <td>0.157303</td>\n",
       "      <td>0.463768</td>\n",
       "      <td>0.500000</td>\n",
       "      <td>1.0</td>\n",
       "    </tr>\n",
       "    <tr>\n",
       "      <th>4894</th>\n",
       "      <td>0.231405</td>\n",
       "      <td>0.160000</td>\n",
       "      <td>0.216867</td>\n",
       "      <td>0.113497</td>\n",
       "      <td>0.063123</td>\n",
       "      <td>0.194444</td>\n",
       "      <td>0.373272</td>\n",
       "      <td>0.150183</td>\n",
       "      <td>0.333333</td>\n",
       "      <td>0.134831</td>\n",
       "      <td>0.231884</td>\n",
       "      <td>0.333333</td>\n",
       "      <td>1.0</td>\n",
       "    </tr>\n",
       "    <tr>\n",
       "      <th>4895</th>\n",
       "      <td>0.223140</td>\n",
       "      <td>0.106667</td>\n",
       "      <td>0.114458</td>\n",
       "      <td>0.009202</td>\n",
       "      <td>0.053156</td>\n",
       "      <td>0.100694</td>\n",
       "      <td>0.241935</td>\n",
       "      <td>0.104685</td>\n",
       "      <td>0.209302</td>\n",
       "      <td>0.134831</td>\n",
       "      <td>0.202899</td>\n",
       "      <td>0.500000</td>\n",
       "      <td>1.0</td>\n",
       "    </tr>\n",
       "    <tr>\n",
       "      <th>4896</th>\n",
       "      <td>0.140496</td>\n",
       "      <td>0.140000</td>\n",
       "      <td>0.180723</td>\n",
       "      <td>0.007669</td>\n",
       "      <td>0.021595</td>\n",
       "      <td>0.065972</td>\n",
       "      <td>0.239631</td>\n",
       "      <td>0.030461</td>\n",
       "      <td>0.480620</td>\n",
       "      <td>0.089888</td>\n",
       "      <td>0.695652</td>\n",
       "      <td>0.666667</td>\n",
       "      <td>1.0</td>\n",
       "    </tr>\n",
       "    <tr>\n",
       "      <th>4897</th>\n",
       "      <td>0.181818</td>\n",
       "      <td>0.086667</td>\n",
       "      <td>0.228916</td>\n",
       "      <td>0.003067</td>\n",
       "      <td>0.018272</td>\n",
       "      <td>0.072917</td>\n",
       "      <td>0.211982</td>\n",
       "      <td>0.044342</td>\n",
       "      <td>0.418605</td>\n",
       "      <td>0.056180</td>\n",
       "      <td>0.550725</td>\n",
       "      <td>0.500000</td>\n",
       "      <td>1.0</td>\n",
       "    </tr>\n",
       "  </tbody>\n",
       "</table>\n",
       "</div>"
      ],
      "text/plain": [
       "      fixed acidity  volatile acidity  citric acid  residual sugar  chlorides  \\\n",
       "4893       0.198347          0.086667     0.174699        0.015337   0.049834   \n",
       "4894       0.231405          0.160000     0.216867        0.113497   0.063123   \n",
       "4895       0.223140          0.106667     0.114458        0.009202   0.053156   \n",
       "4896       0.140496          0.140000     0.180723        0.007669   0.021595   \n",
       "4897       0.181818          0.086667     0.228916        0.003067   0.018272   \n",
       "\n",
       "      free sulfur dioxide  total sulfur dioxide   density        pH  \\\n",
       "4893             0.079861              0.198157  0.077694  0.426357   \n",
       "4894             0.194444              0.373272  0.150183  0.333333   \n",
       "4895             0.100694              0.241935  0.104685  0.209302   \n",
       "4896             0.065972              0.239631  0.030461  0.480620   \n",
       "4897             0.072917              0.211982  0.044342  0.418605   \n",
       "\n",
       "      sulphates   alcohol   quality  type  \n",
       "4893   0.157303  0.463768  0.500000   1.0  \n",
       "4894   0.134831  0.231884  0.333333   1.0  \n",
       "4895   0.134831  0.202899  0.500000   1.0  \n",
       "4896   0.089888  0.695652  0.666667   1.0  \n",
       "4897   0.056180  0.550725  0.500000   1.0  "
      ]
     },
     "execution_count": 6,
     "metadata": {},
     "output_type": "execute_result"
    }
   ],
   "source": [
    "wine_norm = (wine - wine.min()) / (wine.max()-wine.min())\n",
    "wine_norm.tail()"
   ]
  },
  {
   "cell_type": "code",
   "execution_count": 7,
   "metadata": {},
   "outputs": [],
   "source": [
    "import numpy as np\n",
    "wine_shuffle = wine_norm.sample(frac=1)\n",
    "wine_np = wine_shuffle.to_numpy()"
   ]
  },
  {
   "cell_type": "code",
   "execution_count": null,
   "metadata": {},
   "outputs": [],
   "source": []
  },
  {
   "cell_type": "code",
   "execution_count": null,
   "metadata": {},
   "outputs": [],
   "source": []
  },
  {
   "cell_type": "code",
   "execution_count": null,
   "metadata": {},
   "outputs": [],
   "source": []
  },
  {
   "cell_type": "code",
   "execution_count": null,
   "metadata": {},
   "outputs": [],
   "source": []
  },
  {
   "cell_type": "code",
   "execution_count": null,
   "metadata": {},
   "outputs": [],
   "source": []
  },
  {
   "cell_type": "code",
   "execution_count": 8,
   "metadata": {},
   "outputs": [],
   "source": [
    "import tensorflow as tf"
   ]
  },
  {
   "cell_type": "code",
   "execution_count": 9,
   "metadata": {
    "scrolled": false
   },
   "outputs": [
    {
     "name": "stdout",
     "output_type": "stream",
     "text": [
      "[0.1322314  0.14       0.22891566 0.00920245 0.03322259 0.10416667\n",
      " 0.29032258 0.0354733  0.43410853 0.07865169 0.63768116 0.5       ]\n",
      "1.0\n",
      "[0.23140496 0.13333333 0.18072289 0.18865031 0.03986711 0.10416667\n",
      " 0.39400922 0.14806246 0.31007752 0.09550562 0.46376812 0.5       ]\n",
      "1.0\n"
     ]
    }
   ],
   "source": [
    "train_idx = int(len(wine_np)*0.8)\n",
    "train_X, train_y = wine_np[: train_idx, :-1], wine_np[:train_idx, -1]\n",
    "test_X, test_y = wine_np[train_idx:, :-1], wine_np[train_idx:, -1]\n",
    "print(train_X[0])\n",
    "print(train_y[0])\n",
    "print(test_X[0])\n",
    "print(test_y[0])"
   ]
  },
  {
   "cell_type": "code",
   "execution_count": 10,
   "metadata": {},
   "outputs": [
    {
     "data": {
      "text/plain": [
       "array([0., 1.], dtype=float32)"
      ]
     },
     "execution_count": 10,
     "metadata": {},
     "output_type": "execute_result"
    }
   ],
   "source": [
    "# 아웃풋 레이어(정답지)를 y에 맞게 바꿔줘야 함 => 원핫인코딩 (특히 multiclass인 경우에)\n",
    "# 1-->0,1\n",
    "# 0-->1.0\n",
    "train_y = tf.keras.utils.to_categorical(train_y, num_classes =2) #num_classes : 분류하고자 하는 정답지의 수만큼!! \n",
    "train_y[0]"
   ]
  },
  {
   "cell_type": "code",
   "execution_count": 11,
   "metadata": {},
   "outputs": [
    {
     "data": {
      "text/plain": [
       "array([0., 1.], dtype=float32)"
      ]
     },
     "execution_count": 11,
     "metadata": {},
     "output_type": "execute_result"
    }
   ],
   "source": [
    "test_y = tf.keras.utils.to_categorical(test_y, num_classes =2) #num_classes : 분류하고자 하는 정답지의 수만큼!! \n",
    "test_y[0]"
   ]
  },
  {
   "cell_type": "code",
   "execution_count": 12,
   "metadata": {},
   "outputs": [
    {
     "data": {
      "text/plain": [
       "(12,)"
      ]
     },
     "execution_count": 12,
     "metadata": {},
     "output_type": "execute_result"
    }
   ],
   "source": [
    "train_X[0].shape"
   ]
  },
  {
   "cell_type": "code",
   "execution_count": 13,
   "metadata": {},
   "outputs": [
    {
     "data": {
      "text/plain": [
       "(5197, 12)"
      ]
     },
     "execution_count": 13,
     "metadata": {},
     "output_type": "execute_result"
    }
   ],
   "source": [
    "train_X.shape #5197데이터 갯수, 12컬럼."
   ]
  },
  {
   "cell_type": "code",
   "execution_count": null,
   "metadata": {},
   "outputs": [],
   "source": []
  },
  {
   "cell_type": "code",
   "execution_count": null,
   "metadata": {},
   "outputs": [],
   "source": []
  },
  {
   "cell_type": "code",
   "execution_count": 14,
   "metadata": {},
   "outputs": [
    {
     "name": "stdout",
     "output_type": "stream",
     "text": [
      "Model: \"sequential\"\n",
      "_________________________________________________________________\n",
      "Layer (type)                 Output Shape              Param #   \n",
      "=================================================================\n",
      "dense (Dense)                (None, 48)                624       \n",
      "_________________________________________________________________\n",
      "dense_1 (Dense)              (None, 24)                1176      \n",
      "_________________________________________________________________\n",
      "dense_2 (Dense)              (None, 12)                300       \n",
      "_________________________________________________________________\n",
      "dense_3 (Dense)              (None, 2)                 26        \n",
      "=================================================================\n",
      "Total params: 2,126\n",
      "Trainable params: 2,126\n",
      "Non-trainable params: 0\n",
      "_________________________________________________________________\n"
     ]
    }
   ],
   "source": [
    "model = tf.keras.Sequential([\n",
    "    tf.keras.layers.Dense(units = 48, activation='relu', input_shape= (12,)),\n",
    "    tf.keras.layers.Dense(units=24, activation='relu'),\n",
    "    tf.keras.layers.Dense(units=12, activation='relu'),\n",
    "    tf.keras.layers.Dense(units=2, activation='softmax'),\n",
    "    \n",
    "])\n",
    "\n",
    "model.compile(\n",
    "    optimizer = tf.keras.optimizers.Adam(lr=0.07),# =optimizer = 'Adam' 으로 할 수 있으나, 정확성 떨어짐.\n",
    "    loss = 'categorical_crossentropy',\n",
    "    metrics = ['accuracy']    \n",
    ")\n",
    "model.summary()"
   ]
  },
  {
   "cell_type": "code",
   "execution_count": 15,
   "metadata": {},
   "outputs": [
    {
     "name": "stdout",
     "output_type": "stream",
     "text": [
      "Epoch 1/25\n",
      "122/122 [==============================] - 0s 2ms/step - loss: 0.1407 - accuracy: 0.9425 - val_loss: 0.0589 - val_accuracy: 0.9808\n",
      "Epoch 2/25\n",
      "122/122 [==============================] - 0s 1ms/step - loss: 0.0544 - accuracy: 0.9851 - val_loss: 0.0730 - val_accuracy: 0.9746\n",
      "Epoch 3/25\n",
      "122/122 [==============================] - 0s 1ms/step - loss: 0.0498 - accuracy: 0.9877 - val_loss: 0.0372 - val_accuracy: 0.9908\n",
      "Epoch 4/25\n",
      "122/122 [==============================] - 0s 1ms/step - loss: 0.0475 - accuracy: 0.9872 - val_loss: 0.0447 - val_accuracy: 0.9869\n",
      "Epoch 5/25\n",
      "122/122 [==============================] - 0s 1ms/step - loss: 0.0474 - accuracy: 0.9879 - val_loss: 0.0331 - val_accuracy: 0.9923\n",
      "Epoch 6/25\n",
      "122/122 [==============================] - 0s 1ms/step - loss: 0.0479 - accuracy: 0.9879 - val_loss: 0.0312 - val_accuracy: 0.9908\n",
      "Epoch 7/25\n",
      "122/122 [==============================] - 0s 1ms/step - loss: 0.0462 - accuracy: 0.9882 - val_loss: 0.0308 - val_accuracy: 0.9900\n",
      "Epoch 8/25\n",
      "122/122 [==============================] - 0s 1ms/step - loss: 0.0407 - accuracy: 0.9902 - val_loss: 0.0903 - val_accuracy: 0.9677\n",
      "Epoch 9/25\n",
      "122/122 [==============================] - 0s 1ms/step - loss: 0.0813 - accuracy: 0.9769 - val_loss: 0.0404 - val_accuracy: 0.9900\n",
      "Epoch 10/25\n",
      "122/122 [==============================] - 0s 1ms/step - loss: 0.0402 - accuracy: 0.9897 - val_loss: 0.0302 - val_accuracy: 0.9900\n",
      "Epoch 11/25\n",
      "122/122 [==============================] - 0s 2ms/step - loss: 0.0450 - accuracy: 0.9874 - val_loss: 0.0623 - val_accuracy: 0.9854\n",
      "Epoch 12/25\n",
      "122/122 [==============================] - 0s 1ms/step - loss: 0.0438 - accuracy: 0.9890 - val_loss: 0.0313 - val_accuracy: 0.9908\n",
      "Epoch 13/25\n",
      "122/122 [==============================] - 0s 1ms/step - loss: 0.0469 - accuracy: 0.9879 - val_loss: 0.0410 - val_accuracy: 0.9908\n",
      "Epoch 14/25\n",
      "122/122 [==============================] - 0s 1ms/step - loss: 0.0424 - accuracy: 0.9895 - val_loss: 0.0402 - val_accuracy: 0.9862\n",
      "Epoch 15/25\n",
      "122/122 [==============================] - 0s 1ms/step - loss: 0.0387 - accuracy: 0.9895 - val_loss: 0.0291 - val_accuracy: 0.9908\n",
      "Epoch 16/25\n",
      "122/122 [==============================] - 0s 1ms/step - loss: 0.0418 - accuracy: 0.9900 - val_loss: 0.0449 - val_accuracy: 0.9908\n",
      "Epoch 17/25\n",
      "122/122 [==============================] - 0s 1ms/step - loss: 0.0362 - accuracy: 0.9910 - val_loss: 0.0334 - val_accuracy: 0.9938\n",
      "Epoch 18/25\n",
      "122/122 [==============================] - 0s 1ms/step - loss: 0.0389 - accuracy: 0.9892 - val_loss: 0.0438 - val_accuracy: 0.9923\n",
      "Epoch 19/25\n",
      "122/122 [==============================] - 0s 1ms/step - loss: 0.0408 - accuracy: 0.9900 - val_loss: 0.0366 - val_accuracy: 0.9900\n",
      "Epoch 20/25\n",
      "122/122 [==============================] - 0s 1ms/step - loss: 0.0492 - accuracy: 0.9885 - val_loss: 0.0627 - val_accuracy: 0.9846\n",
      "Epoch 21/25\n",
      "122/122 [==============================] - 0s 1ms/step - loss: 0.0403 - accuracy: 0.9887 - val_loss: 0.0269 - val_accuracy: 0.9915\n",
      "Epoch 22/25\n",
      "122/122 [==============================] - 0s 990us/step - loss: 0.0421 - accuracy: 0.9895 - val_loss: 0.0444 - val_accuracy: 0.9900\n",
      "Epoch 23/25\n",
      "122/122 [==============================] - 0s 858us/step - loss: 0.0412 - accuracy: 0.9908 - val_loss: 0.0430 - val_accuracy: 0.9892\n",
      "Epoch 24/25\n",
      "122/122 [==============================] - 0s 1ms/step - loss: 0.0395 - accuracy: 0.9900 - val_loss: 0.0428 - val_accuracy: 0.9915\n",
      "Epoch 25/25\n",
      "122/122 [==============================] - 0s 1ms/step - loss: 0.0345 - accuracy: 0.9926 - val_loss: 0.0439 - val_accuracy: 0.9923\n"
     ]
    },
    {
     "data": {
      "text/plain": [
       "<tensorflow.python.keras.callbacks.History at 0x1be04c643d0>"
      ]
     },
     "execution_count": 15,
     "metadata": {},
     "output_type": "execute_result"
    }
   ],
   "source": [
    "model.fit(train_X, train_y, epochs=25, batch_size=32, validation_split=0.25) \n",
    "# validation : train_X, train_y에서 1/4만큼 킾해놓고, 검증용으로 씀!! (새로운 데이터를 위함)"
   ]
  },
  {
   "cell_type": "code",
   "execution_count": 16,
   "metadata": {},
   "outputs": [
    {
     "name": "stdout",
     "output_type": "stream",
     "text": [
      " 1/41 [..............................] - ETA: 0s - loss: 0.2614 - accuracy: 0.9688WARNING:tensorflow:Callbacks method `on_test_batch_end` is slow compared to the batch time (batch time: 0.0000s vs `on_test_batch_end` time: 0.0010s). Check your callbacks.\n",
      "41/41 [==============================] - 0s 707us/step - loss: 0.0563 - accuracy: 0.9908\n"
     ]
    },
    {
     "data": {
      "text/plain": [
       "[0.05632642284035683, 0.9907692074775696]"
      ]
     },
     "execution_count": 16,
     "metadata": {},
     "output_type": "execute_result"
    }
   ],
   "source": [
    "model.evaluate(test_X, test_y)"
   ]
  },
  {
   "cell_type": "code",
   "execution_count": null,
   "metadata": {},
   "outputs": [],
   "source": []
  },
  {
   "cell_type": "code",
   "execution_count": null,
   "metadata": {},
   "outputs": [],
   "source": []
  },
  {
   "cell_type": "code",
   "execution_count": null,
   "metadata": {},
   "outputs": [],
   "source": []
  },
  {
   "cell_type": "code",
   "execution_count": null,
   "metadata": {},
   "outputs": [],
   "source": []
  },
  {
   "cell_type": "code",
   "execution_count": null,
   "metadata": {},
   "outputs": [],
   "source": []
  },
  {
   "cell_type": "code",
   "execution_count": null,
   "metadata": {},
   "outputs": [],
   "source": []
  },
  {
   "cell_type": "code",
   "execution_count": null,
   "metadata": {},
   "outputs": [],
   "source": []
  },
  {
   "cell_type": "code",
   "execution_count": null,
   "metadata": {},
   "outputs": [],
   "source": []
  },
  {
   "cell_type": "code",
   "execution_count": null,
   "metadata": {},
   "outputs": [],
   "source": []
  },
  {
   "cell_type": "code",
   "execution_count": null,
   "metadata": {},
   "outputs": [],
   "source": []
  },
  {
   "cell_type": "code",
   "execution_count": null,
   "metadata": {},
   "outputs": [],
   "source": []
  },
  {
   "cell_type": "code",
   "execution_count": null,
   "metadata": {},
   "outputs": [],
   "source": []
  },
  {
   "cell_type": "code",
   "execution_count": 17,
   "metadata": {
    "colab": {
     "base_uri": "https://localhost:8080/",
     "height": 319
    },
    "colab_type": "code",
    "id": "bCt4AfOCfcIA",
    "outputId": "b363eff8-6cbb-4689-f835-68a3f164cd47"
   },
   "outputs": [
    {
     "data": {
      "image/png": "[encoded data removed]",
      "text/plain": [
       "<Figure size 432x288 with 1 Axes>"
      ]
     },
     "metadata": {
      "needs_background": "light"
     },
     "output_type": "display_data"
    },
    {
     "name": "stdout",
     "output_type": "stream",
     "text": [
      "1    4898\n",
      "0    1599\n",
      "Name: type, dtype: int64\n"
     ]
    }
   ],
   "source": [
    "# 5.3 레드 와인과 화이트 와인 type 히스토그램\n",
    "import matplotlib.pyplot as plt\n",
    "plt.hist(wine['type'])\n",
    "plt.xticks([0, 1])\n",
    "plt.show()\n",
    "\n",
    "print(wine['type'].value_counts())"
   ]
  },
  {
   "cell_type": "code",
   "execution_count": 18,
   "metadata": {
    "colab": {
     "base_uri": "https://localhost:8080/",
     "height": 395
    },
    "colab_type": "code",
    "id": "L3G-uSOQhvxf",
    "outputId": "08c74367-32ae-4efd-8f16-248b03d4e289"
   },
   "outputs": [
    {
     "name": "stdout",
     "output_type": "stream",
     "text": [
      "<class 'pandas.core.frame.DataFrame'>\n",
      "Int64Index: 6497 entries, 0 to 4897\n",
      "Data columns (total 13 columns):\n",
      " #   Column                Non-Null Count  Dtype  \n",
      "---  ------                --------------  -----  \n",
      " 0   fixed acidity         6497 non-null   float64\n",
      " 1   volatile acidity      6497 non-null   float64\n",
      " 2   citric acid           6497 non-null   float64\n",
      " 3   residual sugar        6497 non-null   float64\n",
      " 4   chlorides             6497 non-null   float64\n",
      " 5   free sulfur dioxide   6497 non-null   float64\n",
      " 6   total sulfur dioxide  6497 non-null   float64\n",
      " 7   density               6497 non-null   float64\n",
      " 8   pH                    6497 non-null   float64\n",
      " 9   sulphates             6497 non-null   float64\n",
      " 10  alcohol               6497 non-null   float64\n",
      " 11  quality               6497 non-null   int64  \n",
      " 12  type                  6497 non-null   int64  \n",
      "dtypes: float64(11), int64(2)\n",
      "memory usage: 710.6 KB\n",
      "None\n"
     ]
    }
   ],
   "source": [
    "# 5.4 데이터 요약 정보 확인\n",
    "print(wine.info())"
   ]
  },
  {
   "cell_type": "code",
   "execution_count": 19,
   "metadata": {
    "colab": {
     "base_uri": "https://localhost:8080/",
     "height": 359
    },
    "colab_type": "code",
    "id": "c96JRczWhvpD",
    "outputId": "abed738c-cfab-49b1-d292-69d962c8c706"
   },
   "outputs": [
    {
     "name": "stdout",
     "output_type": "stream",
     "text": [
      "   fixed acidity  volatile acidity  citric acid  residual sugar  chlorides  \\\n",
      "0       0.297521          0.413333     0.000000        0.019939   0.111296   \n",
      "1       0.330579          0.533333     0.000000        0.030675   0.147841   \n",
      "2       0.330579          0.453333     0.024096        0.026074   0.137874   \n",
      "3       0.611570          0.133333     0.337349        0.019939   0.109635   \n",
      "4       0.297521          0.413333     0.000000        0.019939   0.111296   \n",
      "\n",
      "   free sulfur dioxide  total sulfur dioxide   density        pH  sulphates  \\\n",
      "0             0.034722              0.064516  0.206092  0.612403   0.191011   \n",
      "1             0.083333              0.140553  0.186813  0.372093   0.258427   \n",
      "2             0.048611              0.110599  0.190669  0.418605   0.241573   \n",
      "3             0.055556              0.124424  0.209948  0.341085   0.202247   \n",
      "4             0.034722              0.064516  0.206092  0.612403   0.191011   \n",
      "\n",
      "    alcohol   quality  type  \n",
      "0  0.202899  0.333333   0.0  \n",
      "1  0.260870  0.333333   0.0  \n",
      "2  0.260870  0.333333   0.0  \n",
      "3  0.260870  0.500000   0.0  \n",
      "4  0.202899  0.333333   0.0  \n",
      "       fixed acidity  volatile acidity  citric acid  residual sugar  \\\n",
      "count    6497.000000       6497.000000  6497.000000     6497.000000   \n",
      "mean        0.282257          0.173111     0.191948        0.074283   \n",
      "std         0.107143          0.109758     0.087541        0.072972   \n",
      "min         0.000000          0.000000     0.000000        0.000000   \n",
      "25%         0.214876          0.100000     0.150602        0.018405   \n",
      "50%         0.264463          0.140000     0.186747        0.036810   \n",
      "75%         0.322314          0.213333     0.234940        0.115031   \n",
      "max         1.000000          1.000000     1.000000        1.000000   \n",
      "\n",
      "         chlorides  free sulfur dioxide  total sulfur dioxide      density  \\\n",
      "count  6497.000000          6497.000000           6497.000000  6497.000000   \n",
      "mean      0.078129             0.102518              0.252868     0.146262   \n",
      "std       0.058195             0.061630              0.130235     0.057811   \n",
      "min       0.000000             0.000000              0.000000     0.000000   \n",
      "25%       0.048173             0.055556              0.163594     0.100829   \n",
      "50%       0.063123             0.097222              0.258065     0.149990   \n",
      "75%       0.093023             0.138889              0.345622     0.190476   \n",
      "max       1.000000             1.000000              1.000000     1.000000   \n",
      "\n",
      "                pH    sulphates      alcohol      quality         type  \n",
      "count  6497.000000  6497.000000  6497.000000  6497.000000  6497.000000  \n",
      "mean      0.386435     0.174870     0.361131     0.469730     0.753886  \n",
      "std       0.124641     0.083599     0.172857     0.145543     0.430779  \n",
      "min       0.000000     0.000000     0.000000     0.000000     0.000000  \n",
      "25%       0.302326     0.117978     0.217391     0.333333     1.000000  \n",
      "50%       0.379845     0.162921     0.333333     0.500000     1.000000  \n",
      "75%       0.465116     0.213483     0.478261     0.500000     1.000000  \n",
      "max       1.000000     1.000000     1.000000     1.000000     1.000000  \n"
     ]
    }
   ],
   "source": [
    "# 5.5 데이터 정규화\n",
    "wine_norm = (wine - wine.min()) / (wine.max() - wine.min())\n",
    "print(wine_norm.head())\n",
    "print(wine_norm.describe())"
   ]
  },
  {
   "cell_type": "code",
   "execution_count": 20,
   "metadata": {
    "colab": {
     "base_uri": "https://localhost:8080/",
     "height": 431
    },
    "colab_type": "code",
    "id": "2p1n7sQ-fb5M",
    "outputId": "1be05a9b-f2e7-4815-8c4b-02f387ac2929"
   },
   "outputs": [
    {
     "name": "stdout",
     "output_type": "stream",
     "text": [
      "      fixed acidity  volatile acidity  citric acid  residual sugar  chlorides  \\\n",
      "1781       0.190083          0.160000     0.222892        0.018405   0.069767   \n",
      "4711       0.132231          0.083333     0.096386        0.183282   0.069767   \n",
      "2676       0.314050          0.013333     0.198795        0.006135   0.036545   \n",
      "4642       0.157025          0.106667     0.180723        0.010736   0.034884   \n",
      "1199       0.297521          0.113333     0.222892        0.096626   0.018272   \n",
      "\n",
      "      free sulfur dioxide  total sulfur dioxide   density        pH  \\\n",
      "1781             0.041667              0.447005  0.142472  0.596899   \n",
      "4711             0.104167              0.251152  0.164450  0.527132   \n",
      "2676             0.111111              0.200461  0.073838  0.263566   \n",
      "4642             0.083333              0.211982  0.049547  0.503876   \n",
      "1199             0.045139              0.200461  0.130904  0.217054   \n",
      "\n",
      "      sulphates   alcohol   quality  type  \n",
      "1781   0.123596  0.362319  0.166667   1.0  \n",
      "4711   0.089888  0.405797  0.500000   1.0  \n",
      "2676   0.258427  0.463768  0.500000   1.0  \n",
      "4642   0.117978  0.637681  0.666667   1.0  \n",
      "1199   0.146067  0.391304  0.666667   1.0  \n",
      "[[0.19008264 0.16       0.22289157 0.01840491 0.06976744 0.04166667\n",
      "  0.44700461 0.14247156 0.59689922 0.12359551 0.36231884 0.16666667\n",
      "  1.        ]\n",
      " [0.1322314  0.08333333 0.09638554 0.18328221 0.06976744 0.10416667\n",
      "  0.25115207 0.16444959 0.52713178 0.08988764 0.4057971  0.5\n",
      "  1.        ]\n",
      " [0.31404959 0.01333333 0.19879518 0.00613497 0.03654485 0.11111111\n",
      "  0.20046083 0.07383844 0.26356589 0.25842697 0.46376812 0.5\n",
      "  1.        ]\n",
      " [0.15702479 0.10666667 0.18072289 0.0107362  0.03488372 0.08333333\n",
      "  0.21198157 0.04954694 0.50387597 0.11797753 0.63768116 0.66666667\n",
      "  1.        ]\n",
      " [0.29752066 0.11333333 0.22289157 0.09662577 0.01827243 0.04513889\n",
      "  0.20046083 0.13090418 0.21705426 0.14606742 0.39130435 0.66666667\n",
      "  1.        ]]\n"
     ]
    }
   ],
   "source": [
    "# 5.6 데이터 섞은 후 numpy array로 변환\n",
    "import numpy as np\n",
    "wine_shuffle = wine_norm.sample(frac=1)\n",
    "print(wine_shuffle.head())\n",
    "wine_np = wine_shuffle.to_numpy()\n",
    "print(wine_np[:5])"
   ]
  },
  {
   "cell_type": "code",
   "execution_count": 21,
   "metadata": {
    "colab": {
     "base_uri": "https://localhost:8080/",
     "height": 161
    },
    "colab_type": "code",
    "id": "nVyMBeF9rhAb",
    "outputId": "d65bd15e-98fc-4a3f-de17-74497749ac94"
   },
   "outputs": [
    {
     "name": "stdout",
     "output_type": "stream",
     "text": [
      "[0.19008264 0.16       0.22289157 0.01840491 0.06976744 0.04166667\n",
      " 0.44700461 0.14247156 0.59689922 0.12359551 0.36231884 0.16666667]\n",
      "1.0\n",
      "[0.17355372 0.17333333 0.15060241 0.02147239 0.05481728 0.03819444\n",
      " 0.23963134 0.06227106 0.23255814 0.17977528 0.49275362 0.5       ]\n",
      "1.0\n",
      "[0. 1.]\n",
      "[0. 1.]\n"
     ]
    }
   ],
   "source": [
    "# 5.7 train 데이터와 test 데이터로 분리\n",
    "import tensorflow as tf\n",
    "train_idx = int(len(wine_np) * 0.8)\n",
    "train_X, train_Y = wine_np[:train_idx, :-1], wine_np[:train_idx, -1]\n",
    "test_X, test_Y = wine_np[train_idx:, :-1], wine_np[train_idx:, -1]\n",
    "print(train_X[0])\n",
    "print(train_Y[0])\n",
    "print(test_X[0])\n",
    "print(test_Y[0])\n",
    "train_Y = tf.keras.utils.to_categorical(train_Y, num_classes=2)\n",
    "test_Y = tf.keras.utils.to_categorical(test_Y, num_classes=2)\n",
    "print(train_Y[0])\n",
    "print(test_Y[0])"
   ]
  },
  {
   "cell_type": "code",
   "execution_count": 22,
   "metadata": {
    "colab": {
     "base_uri": "https://localhost:8080/",
     "height": 305
    },
    "colab_type": "code",
    "id": "U-X6IrxDxXzd",
    "outputId": "fed03de3-5560-4358-a3aa-770e17137827"
   },
   "outputs": [
    {
     "name": "stdout",
     "output_type": "stream",
     "text": [
      "Model: \"sequential_1\"\n",
      "_________________________________________________________________\n",
      "Layer (type)                 Output Shape              Param #   \n",
      "=================================================================\n",
      "dense_4 (Dense)              (None, 48)                624       \n",
      "_________________________________________________________________\n",
      "dense_5 (Dense)              (None, 24)                1176      \n",
      "_________________________________________________________________\n",
      "dense_6 (Dense)              (None, 12)                300       \n",
      "_________________________________________________________________\n",
      "dense_7 (Dense)              (None, 2)                 26        \n",
      "=================================================================\n",
      "Total params: 2,126\n",
      "Trainable params: 2,126\n",
      "Non-trainable params: 0\n",
      "_________________________________________________________________\n"
     ]
    }
   ],
   "source": [
    "# 5.8 와인 데이터셋 분류 모델 생성\n",
    "import tensorflow as tf\n",
    "model = tf.keras.Sequential([\n",
    "    tf.keras.layers.Dense(units=48, activation='relu', input_shape=(12,)),\n",
    "    tf.keras.layers.Dense(units=24, activation='relu'),\n",
    "    tf.keras.layers.Dense(units=12, activation='relu'),\n",
    "    tf.keras.layers.Dense(units=2, activation='softmax')\n",
    "])\n",
    "\n",
    "model.compile(optimizer=tf.keras.optimizers.Adam(lr=0.07), loss='categorical_crossentropy', metrics=['accuracy'])\n",
    "\n",
    "model.summary()"
   ]
  },
  {
   "cell_type": "code",
   "execution_count": 23,
   "metadata": {
    "colab": {
     "base_uri": "https://localhost:8080/",
     "height": 279
    },
    "colab_type": "code",
    "id": "lMqy51ry5htm",
    "outputId": "e9332fb3-d14d-4998-da81-72f761fce2f4"
   },
   "outputs": [
    {
     "data": {
      "image/png": "[encoded data removed]",
      "text/plain": [
       "<Figure size 432x288 with 1 Axes>"
      ]
     },
     "metadata": {
      "needs_background": "light"
     },
     "output_type": "display_data"
    }
   ],
   "source": [
    "# 그림 5.5 출력 코드\n",
    "import matplotlib.pyplot as plt\n",
    "import math\n",
    "import numpy as np\n",
    "x = np.arange(-2, 2, 0.01)\n",
    "e_x = math.e ** x\n",
    "\n",
    "plt.axhline(0, color='gray')\n",
    "plt.axvline(0, color='gray')\n",
    "plt.plot(x, x, 'b-', label='y=x')\n",
    "plt.plot(x, e_x, 'g.', label='y=e^x')\n",
    "plt.xlabel('X')\n",
    "plt.ylabel('Y')\n",
    "plt.legend()\n",
    "plt.show()"
   ]
  },
  {
   "cell_type": "code",
   "execution_count": 24,
   "metadata": {
    "colab": {
     "base_uri": "https://localhost:8080/",
     "height": 935
    },
    "colab_type": "code",
    "id": "hNXtNSwUxXr4",
    "outputId": "4c1bcd7b-bb00-4303-e58a-c9bea05a8031"
   },
   "outputs": [
    {
     "name": "stdout",
     "output_type": "stream",
     "text": [
      "Epoch 1/25\n",
      "122/122 [==============================] - 0s 2ms/step - loss: 0.1345 - accuracy: 0.9448 - val_loss: 0.0529 - val_accuracy: 0.9862\n",
      "Epoch 2/25\n",
      "122/122 [==============================] - 0s 948us/step - loss: 0.0532 - accuracy: 0.9828 - val_loss: 0.0499 - val_accuracy: 0.9877\n",
      "Epoch 3/25\n",
      "122/122 [==============================] - 0s 1ms/step - loss: 0.0492 - accuracy: 0.9872 - val_loss: 0.0389 - val_accuracy: 0.9854\n",
      "Epoch 4/25\n",
      "122/122 [==============================] - 0s 1ms/step - loss: 0.0436 - accuracy: 0.9877 - val_loss: 0.0364 - val_accuracy: 0.9877\n",
      "Epoch 5/25\n",
      "122/122 [==============================] - 0s 875us/step - loss: 0.0378 - accuracy: 0.9885 - val_loss: 0.0319 - val_accuracy: 0.9846\n",
      "Epoch 6/25\n",
      "122/122 [==============================] - 0s 1ms/step - loss: 0.0447 - accuracy: 0.9879 - val_loss: 0.0872 - val_accuracy: 0.9792\n",
      "Epoch 7/25\n",
      "122/122 [==============================] - 0s 1ms/step - loss: 0.0377 - accuracy: 0.9910 - val_loss: 0.0334 - val_accuracy: 0.9885\n",
      "Epoch 8/25\n",
      "122/122 [==============================] - 0s 956us/step - loss: 0.0359 - accuracy: 0.9902 - val_loss: 0.0324 - val_accuracy: 0.9892\n",
      "Epoch 9/25\n",
      "122/122 [==============================] - 0s 1ms/step - loss: 0.0377 - accuracy: 0.9915 - val_loss: 0.0625 - val_accuracy: 0.9808\n",
      "Epoch 10/25\n",
      "122/122 [==============================] - 0s 1ms/step - loss: 0.0365 - accuracy: 0.9913 - val_loss: 0.0367 - val_accuracy: 0.9892\n",
      "Epoch 11/25\n",
      "122/122 [==============================] - 0s 1ms/step - loss: 0.0305 - accuracy: 0.9920 - val_loss: 0.0355 - val_accuracy: 0.9908\n",
      "Epoch 12/25\n",
      "122/122 [==============================] - 0s 1ms/step - loss: 0.0320 - accuracy: 0.9908 - val_loss: 0.0371 - val_accuracy: 0.9885\n",
      "Epoch 13/25\n",
      "122/122 [==============================] - 0s 1ms/step - loss: 0.0314 - accuracy: 0.9926 - val_loss: 0.0300 - val_accuracy: 0.9931\n",
      "Epoch 14/25\n",
      "122/122 [==============================] - 0s 1ms/step - loss: 0.0441 - accuracy: 0.9872 - val_loss: 0.0815 - val_accuracy: 0.9777\n",
      "Epoch 15/25\n",
      "122/122 [==============================] - 0s 973us/step - loss: 0.0354 - accuracy: 0.9905 - val_loss: 0.0360 - val_accuracy: 0.9915\n",
      "Epoch 16/25\n",
      "122/122 [==============================] - 0s 1ms/step - loss: 0.0357 - accuracy: 0.9928 - val_loss: 0.0316 - val_accuracy: 0.9915\n",
      "Epoch 17/25\n",
      "122/122 [==============================] - 0s 1ms/step - loss: 0.0392 - accuracy: 0.9892 - val_loss: 0.1660 - val_accuracy: 0.9738\n",
      "Epoch 18/25\n",
      "122/122 [==============================] - 0s 1ms/step - loss: 0.0366 - accuracy: 0.9918 - val_loss: 0.0340 - val_accuracy: 0.9915\n",
      "Epoch 19/25\n",
      "122/122 [==============================] - 0s 1ms/step - loss: 0.0262 - accuracy: 0.9941 - val_loss: 0.0473 - val_accuracy: 0.9854\n",
      "Epoch 20/25\n",
      "122/122 [==============================] - 0s 1ms/step - loss: 0.0240 - accuracy: 0.9938 - val_loss: 0.0293 - val_accuracy: 0.9923\n",
      "Epoch 21/25\n",
      "122/122 [==============================] - 0s 1ms/step - loss: 0.0228 - accuracy: 0.9956 - val_loss: 0.0423 - val_accuracy: 0.9915\n",
      "Epoch 22/25\n",
      "122/122 [==============================] - 0s 1ms/step - loss: 0.0304 - accuracy: 0.9936 - val_loss: 0.0536 - val_accuracy: 0.9877\n",
      "Epoch 23/25\n",
      "122/122 [==============================] - 0s 1ms/step - loss: 0.0263 - accuracy: 0.9936 - val_loss: 0.0580 - val_accuracy: 0.9877\n",
      "Epoch 24/25\n",
      "122/122 [==============================] - 0s 1ms/step - loss: 0.0961 - accuracy: 0.9790 - val_loss: 0.3573 - val_accuracy: 0.8762\n",
      "Epoch 25/25\n",
      "122/122 [==============================] - 0s 1ms/step - loss: 0.0683 - accuracy: 0.9854 - val_loss: 0.0655 - val_accuracy: 0.9854\n"
     ]
    }
   ],
   "source": [
    "# 5.9 와인 데이터셋 분류 모델 학습\n",
    "history = model.fit(train_X, train_Y, epochs=25, batch_size=32, validation_split=0.25)"
   ]
  },
  {
   "cell_type": "code",
   "execution_count": 25,
   "metadata": {
    "colab": {
     "base_uri": "https://localhost:8080/",
     "height": 283
    },
    "colab_type": "code",
    "id": "hsI7XviYXZ39",
    "outputId": "5176b51c-bedb-44ed-d00e-73de4fdbeb95"
   },
   "outputs": [
    {
     "data": {
      "image/png": "[encoded data removed]",
      "text/plain": [
       "<Figure size 864x288 with 2 Axes>"
      ]
     },
     "metadata": {
      "needs_background": "light"
     },
     "output_type": "display_data"
    }
   ],
   "source": [
    "# 5.10 분류 모델 학습 결과 시각화\n",
    "import matplotlib.pyplot as plt\n",
    "plt.figure(figsize=(12, 4))\n",
    "\n",
    "plt.subplot(1, 2, 1)\n",
    "plt.plot(history.history['loss'], 'b-', label='loss')\n",
    "plt.plot(history.history['val_loss'], 'r--', label='val_loss')\n",
    "plt.xlabel('Epoch')\n",
    "plt.legend()\n",
    "\n",
    "plt.subplot(1, 2, 2)\n",
    "plt.plot(history.history['accuracy'], 'g-', label='accuracy')\n",
    "plt.plot(history.history['val_accuracy'], 'k--', label='val_accuracy')\n",
    "plt.xlabel('Epoch')\n",
    "plt.ylim(0.7, 1)\n",
    "plt.legend()\n",
    "\n",
    "plt.show()"
   ]
  },
  {
   "cell_type": "code",
   "execution_count": 26,
   "metadata": {
    "colab": {
     "base_uri": "https://localhost:8080/",
     "height": 73
    },
    "colab_type": "code",
    "id": "MyFEtZSw19Ol",
    "outputId": "3a624ca8-d9dd-4498-f7b5-2e5f0ba5b257"
   },
   "outputs": [
    {
     "name": "stdout",
     "output_type": "stream",
     "text": [
      "41/41 [==============================] - 0s 584us/step - loss: 0.0473 - accuracy: 0.9908\n"
     ]
    },
    {
     "data": {
      "text/plain": [
       "[0.04730064421892166, 0.9907692074775696]"
      ]
     },
     "execution_count": 26,
     "metadata": {},
     "output_type": "execute_result"
    }
   ],
   "source": [
    "# 5.11 분류 모델 평가\n",
    "model.evaluate(test_X, test_Y)"
   ]
  },
  {
   "cell_type": "markdown",
   "metadata": {
    "colab_type": "text",
    "id": "UgwdVhcFIB97"
   },
   "source": [
    "#5.2 다항 분류"
   ]
  },
  {
   "cell_type": "code",
   "execution_count": 27,
   "metadata": {
    "colab": {
     "base_uri": "https://localhost:8080/",
     "height": 323
    },
    "colab_type": "code",
    "id": "ML2KLPtsu480",
    "outputId": "88fd5292-c467-4730-f7e3-6780dd1cc366"
   },
   "outputs": [
    {
     "name": "stdout",
     "output_type": "stream",
     "text": [
      "count    6497.000000\n",
      "mean        5.818378\n",
      "std         0.873255\n",
      "min         3.000000\n",
      "25%         5.000000\n",
      "50%         6.000000\n",
      "75%         6.000000\n",
      "max         9.000000\n",
      "Name: quality, dtype: float64\n",
      "6    2836\n",
      "5    2138\n",
      "7    1079\n",
      "4     216\n",
      "8     193\n",
      "3      30\n",
      "9       5\n",
      "Name: quality, dtype: int64\n"
     ]
    }
   ],
   "source": [
    "# 5.12 품질 데이터 확인\n",
    "print(wine['quality'].describe())\n",
    "print(wine['quality'].value_counts())"
   ]
  },
  {
   "cell_type": "code",
   "execution_count": 28,
   "metadata": {
    "colab": {
     "base_uri": "https://localhost:8080/",
     "height": 265
    },
    "colab_type": "code",
    "id": "388geJrTID5v",
    "outputId": "9255334b-21fb-426b-9939-1627579cbcd9"
   },
   "outputs": [
    {
     "data": {
      "image/png": "[encoded data removed]",
      "text/plain": [
       "<Figure size 432x288 with 1 Axes>"
      ]
     },
     "metadata": {
      "needs_background": "light"
     },
     "output_type": "display_data"
    }
   ],
   "source": [
    "# 5.13 품질 히스토그램 시각화\n",
    "import matplotlib.pyplot as plt\n",
    "plt.hist(wine['quality'], bins=7, rwidth=0.8)\n",
    "plt.show()"
   ]
  },
  {
   "cell_type": "code",
   "execution_count": 29,
   "metadata": {
    "colab": {
     "base_uri": "https://localhost:8080/",
     "height": 251
    },
    "colab_type": "code",
    "id": "X3M81v8wtcvQ",
    "outputId": "11560155-fcce-4a9e-f4f8-36c6e08ca055"
   },
   "outputs": [
    {
     "name": "stdout",
     "output_type": "stream",
     "text": [
      "count    6497.000000\n",
      "mean        0.829614\n",
      "std         0.731124\n",
      "min         0.000000\n",
      "25%         0.000000\n",
      "50%         1.000000\n",
      "75%         1.000000\n",
      "max         2.000000\n",
      "Name: new_quality, dtype: float64\n",
      "1.0    2836\n",
      "0.0    2384\n",
      "2.0    1277\n",
      "Name: new_quality, dtype: int64\n"
     ]
    }
   ],
   "source": [
    "# 5.14 품질을 3개의 범주(좋음, 보통, 나쁨)로 재분류\n",
    "wine.loc[wine['quality'] <= 5, 'new_quality'] = 0\n",
    "wine.loc[wine['quality'] == 6, 'new_quality'] = 1\n",
    "wine.loc[wine['quality'] >= 7, 'new_quality'] = 2\n",
    "\n",
    "print(wine['new_quality'].describe())\n",
    "print(wine['new_quality'].value_counts())"
   ]
  },
  {
   "cell_type": "code",
   "execution_count": 30,
   "metadata": {
    "colab": {},
    "colab_type": "code",
    "id": "luLAFx2rv2Sc"
   },
   "outputs": [],
   "source": [
    "# 5.15 데이터 정규화 및 train, test 데이터 분리\n",
    "del wine['quality']\n",
    "wine_backup = wine.copy()\n",
    "wine_norm = (wine - wine.min()) / (wine.max() - wine.min())\n",
    "wine_norm['new_quality'] = wine_backup['new_quality']\n",
    "wine_shuffle = wine_norm.sample(frac=1)\n",
    "wine_np = wine_shuffle.to_numpy()\n",
    "\n",
    "train_idx = int(len(wine_np) * 0.8)\n",
    "train_X, train_Y = wine_np[:train_idx, :-1], wine_np[:train_idx, -1]\n",
    "test_X, test_Y = wine_np[train_idx:, :-1], wine_np[train_idx:, -1]\n",
    "train_Y = tf.keras.utils.to_categorical(train_Y, num_classes=3)\n",
    "test_Y = tf.keras.utils.to_categorical(test_Y, num_classes=3)"
   ]
  },
  {
   "cell_type": "code",
   "execution_count": 31,
   "metadata": {
    "colab": {
     "base_uri": "https://localhost:8080/",
     "height": 917
    },
    "colab_type": "code",
    "id": "IwbAl3-oyZag",
    "outputId": "df873697-66b3-40ae-d477-09b4c9b04dea"
   },
   "outputs": [
    {
     "name": "stdout",
     "output_type": "stream",
     "text": [
      "Epoch 1/25\n",
      "122/122 [==============================] - 0s 2ms/step - loss: 1.0018 - accuracy: 0.4806 - val_loss: 0.9005 - val_accuracy: 0.5185\n",
      "Epoch 2/25\n",
      "122/122 [==============================] - 0s 1ms/step - loss: 0.8916 - accuracy: 0.5558 - val_loss: 0.8515 - val_accuracy: 0.5608\n",
      "Epoch 3/25\n",
      "122/122 [==============================] - 0s 1ms/step - loss: 0.8798 - accuracy: 0.5697 - val_loss: 0.8671 - val_accuracy: 0.5623\n",
      "Epoch 4/25\n",
      "122/122 [==============================] - 0s 1ms/step - loss: 0.8701 - accuracy: 0.5722 - val_loss: 0.8489 - val_accuracy: 0.5815\n",
      "Epoch 5/25\n",
      "122/122 [==============================] - 0s 1ms/step - loss: 0.8681 - accuracy: 0.5761 - val_loss: 0.8337 - val_accuracy: 0.5885\n",
      "Epoch 6/25\n",
      "122/122 [==============================] - 0s 1ms/step - loss: 0.8621 - accuracy: 0.5753 - val_loss: 0.8347 - val_accuracy: 0.5862\n",
      "Epoch 7/25\n",
      "122/122 [==============================] - 0s 1ms/step - loss: 0.8560 - accuracy: 0.5846 - val_loss: 0.8322 - val_accuracy: 0.6000\n",
      "Epoch 8/25\n",
      "122/122 [==============================] - 0s 1ms/step - loss: 0.8540 - accuracy: 0.5892 - val_loss: 0.8252 - val_accuracy: 0.6015\n",
      "Epoch 9/25\n",
      "122/122 [==============================] - 0s 1ms/step - loss: 0.8483 - accuracy: 0.5876 - val_loss: 0.8600 - val_accuracy: 0.5715\n",
      "Epoch 10/25\n",
      "122/122 [==============================] - 0s 1ms/step - loss: 0.8435 - accuracy: 0.5866 - val_loss: 0.8210 - val_accuracy: 0.5969\n",
      "Epoch 11/25\n",
      "122/122 [==============================] - 0s 1ms/step - loss: 0.8408 - accuracy: 0.5925 - val_loss: 0.8153 - val_accuracy: 0.6100\n",
      "Epoch 12/25\n",
      "122/122 [==============================] - 0s 1ms/step - loss: 0.8387 - accuracy: 0.5907 - val_loss: 0.8436 - val_accuracy: 0.5838\n",
      "Epoch 13/25\n",
      "122/122 [==============================] - 0s 1ms/step - loss: 0.8357 - accuracy: 0.5899 - val_loss: 0.8290 - val_accuracy: 0.6054\n",
      "Epoch 14/25\n",
      "122/122 [==============================] - 0s 1ms/step - loss: 0.8290 - accuracy: 0.6038 - val_loss: 0.8481 - val_accuracy: 0.5915\n",
      "Epoch 15/25\n",
      "122/122 [==============================] - 0s 1ms/step - loss: 0.8325 - accuracy: 0.5982 - val_loss: 0.8120 - val_accuracy: 0.6038\n",
      "Epoch 16/25\n",
      "122/122 [==============================] - 0s 1ms/step - loss: 0.8269 - accuracy: 0.5948 - val_loss: 0.8200 - val_accuracy: 0.5931\n",
      "Epoch 17/25\n",
      "122/122 [==============================] - 0s 834us/step - loss: 0.8234 - accuracy: 0.5984 - val_loss: 0.8328 - val_accuracy: 0.6015\n",
      "Epoch 18/25\n",
      "122/122 [==============================] - 0s 1ms/step - loss: 0.8176 - accuracy: 0.6087 - val_loss: 0.8100 - val_accuracy: 0.6108\n",
      "Epoch 19/25\n",
      "122/122 [==============================] - 0s 1ms/step - loss: 0.8109 - accuracy: 0.6071 - val_loss: 0.8242 - val_accuracy: 0.6008\n",
      "Epoch 20/25\n",
      "122/122 [==============================] - 0s 1ms/step - loss: 0.8119 - accuracy: 0.6012 - val_loss: 0.8137 - val_accuracy: 0.6092\n",
      "Epoch 21/25\n",
      "122/122 [==============================] - 0s 1ms/step - loss: 0.8092 - accuracy: 0.6107 - val_loss: 0.8098 - val_accuracy: 0.6054\n",
      "Epoch 22/25\n",
      "122/122 [==============================] - 0s 1ms/step - loss: 0.8066 - accuracy: 0.6082 - val_loss: 0.8061 - val_accuracy: 0.6062\n",
      "Epoch 23/25\n",
      "122/122 [==============================] - 0s 1ms/step - loss: 0.8064 - accuracy: 0.6069 - val_loss: 0.8138 - val_accuracy: 0.6046\n",
      "Epoch 24/25\n",
      "122/122 [==============================] - 0s 1ms/step - loss: 0.8086 - accuracy: 0.6074 - val_loss: 0.8184 - val_accuracy: 0.5977\n",
      "Epoch 25/25\n",
      "122/122 [==============================] - 0s 1ms/step - loss: 0.8042 - accuracy: 0.6151 - val_loss: 0.8114 - val_accuracy: 0.6100\n"
     ]
    }
   ],
   "source": [
    "# 5.16 와인 데이터셋 다항 분류 모델 생성 및 학습\n",
    "model = tf.keras.Sequential([\n",
    "    tf.keras.layers.Dense(units=48, activation='relu', input_shape=(12,)),\n",
    "    tf.keras.layers.Dense(units=24, activation='relu'),\n",
    "    tf.keras.layers.Dense(units=12, activation='relu'),\n",
    "    tf.keras.layers.Dense(units=3, activation='softmax')\n",
    "])\n",
    "\n",
    "model.compile(optimizer=tf.keras.optimizers.Adam(lr=0.003), loss='categorical_crossentropy', metrics=['accuracy'])\n",
    "\n",
    "history = model.fit(train_X, train_Y, epochs=25, batch_size=32, validation_split=0.25)"
   ]
  },
  {
   "cell_type": "code",
   "execution_count": 32,
   "metadata": {
    "colab": {
     "base_uri": "https://localhost:8080/",
     "height": 283
    },
    "colab_type": "code",
    "id": "KxKz62bRymuu",
    "outputId": "10f019c4-df80-403c-ba64-69c28447c0dd"
   },
   "outputs": [
    {
     "data": {
      "image/png": "[encoded data removed]",
      "text/plain": [
       "<Figure size 864x288 with 2 Axes>"
      ]
     },
     "metadata": {
      "needs_background": "light"
     },
     "output_type": "display_data"
    }
   ],
   "source": [
    "# 5.17 다항 분류 모델 학습 결과 시각화\n",
    "import matplotlib.pyplot as plt\n",
    "plt.figure(figsize=(12, 4))\n",
    "\n",
    "plt.subplot(1, 2, 1)\n",
    "plt.plot(history.history['loss'], 'b-', label='loss')\n",
    "plt.plot(history.history['val_loss'], 'r--', label='val_loss')\n",
    "plt.xlabel('Epoch')\n",
    "plt.legend()\n",
    "\n",
    "plt.subplot(1, 2, 2)\n",
    "plt.plot(history.history['accuracy'], 'g-', label='accuracy')\n",
    "plt.plot(history.history['val_accuracy'], 'k--', label='val_accuracy')\n",
    "plt.xlabel('Epoch')\n",
    "plt.ylim(0.5, 0.7)\n",
    "plt.legend()\n",
    "\n",
    "plt.show()"
   ]
  },
  {
   "cell_type": "code",
   "execution_count": 33,
   "metadata": {
    "colab": {
     "base_uri": "https://localhost:8080/",
     "height": 53
    },
    "colab_type": "code",
    "id": "Z9HwDTedynEK",
    "outputId": "ea8f1c68-4306-4504-f5e0-04521264d516"
   },
   "outputs": [
    {
     "name": "stdout",
     "output_type": "stream",
     "text": [
      "41/41 [==============================] - 0s 511us/step - loss: 0.8136 - accuracy: 0.5946\n"
     ]
    },
    {
     "data": {
      "text/plain": [
       "[0.8136043548583984, 0.5946153998374939]"
      ]
     },
     "execution_count": 33,
     "metadata": {},
     "output_type": "execute_result"
    }
   ],
   "source": [
    "# 5.18 다항 분류 모델 평가\n",
    "model.evaluate(test_X, test_Y)"
   ]
  },
  {
   "cell_type": "markdown",
   "metadata": {
    "colab_type": "text",
    "id": "Lv58_w5cIEJC"
   },
   "source": [
    "#5.3 Fashion MNIST"
   ]
  },
  {
   "cell_type": "code",
   "execution_count": 34,
   "metadata": {
    "colab": {
     "base_uri": "https://localhost:8080/",
     "height": 179
    },
    "colab_type": "code",
    "id": "CRAtra4MIHy8",
    "outputId": "32093cee-a6f9-43da-c128-6d1cc08a71a2"
   },
   "outputs": [
    {
     "name": "stdout",
     "output_type": "stream",
     "text": [
      "Downloading data from https://storage.googleapis.com/tensorflow/tf-keras-datasets/train-labels-idx1-ubyte.gz\n",
      "32768/29515 [=================================] - 0s 0us/step\n",
      "Downloading data from https://storage.googleapis.com/tensorflow/tf-keras-datasets/train-images-idx3-ubyte.gz\n",
      "26427392/26421880 [==============================] - 2s 0us/step\n",
      "Downloading data from https://storage.googleapis.com/tensorflow/tf-keras-datasets/t10k-labels-idx1-ubyte.gz\n",
      "8192/5148 [===============================================] - 0s 0us/step\n",
      "Downloading data from https://storage.googleapis.com/tensorflow/tf-keras-datasets/t10k-images-idx3-ubyte.gz\n",
      "4423680/4422102 [==============================] - 0s 0us/step\n",
      "60000 10000\n"
     ]
    }
   ],
   "source": [
    "# 5.19 Fashion MNIST 데이터셋 불러오기\n",
    "fashion_mnist = tf.keras.datasets.fashion_mnist\n",
    "(train_X, train_Y), (test_X, test_Y) = fashion_mnist.load_data()\n",
    "\n",
    "print(len(train_X), len(test_X))"
   ]
  },
  {
   "cell_type": "code",
   "execution_count": 35,
   "metadata": {
    "colab": {
     "base_uri": "https://localhost:8080/",
     "height": 283
    },
    "colab_type": "code",
    "id": "otHQI8i39n1w",
    "outputId": "40c27e7f-df8d-456d-8096-d6ca574f0ef3"
   },
   "outputs": [
    {
     "data": {
      "image/png": "[encoded data removed]",
      "text/plain": [
       "<Figure size 432x288 with 2 Axes>"
      ]
     },
     "metadata": {
      "needs_background": "light"
     },
     "output_type": "display_data"
    },
    {
     "name": "stdout",
     "output_type": "stream",
     "text": [
      "9\n"
     ]
    }
   ],
   "source": [
    "# 5.20 데이터 확인\n",
    "import matplotlib.pyplot as plt\n",
    "plt.imshow(train_X[0], cmap='gray')\n",
    "plt.colorbar()\n",
    "plt.show()\n",
    "\n",
    "print(train_Y[0])"
   ]
  },
  {
   "cell_type": "code",
   "execution_count": 36,
   "metadata": {
    "colab": {
     "base_uri": "https://localhost:8080/",
     "height": 1000
    },
    "colab_type": "code",
    "id": "x_77OWMp9oLx",
    "outputId": "83d6f2b6-ad63-4ed7-ab3a-8922caf265d7"
   },
   "outputs": [
    {
     "name": "stdout",
     "output_type": "stream",
     "text": [
      "[[0.         0.         0.         0.         0.         0.\n",
      "  0.         0.         0.         0.         0.         0.\n",
      "  0.         0.         0.         0.         0.         0.\n",
      "  0.         0.         0.         0.         0.         0.\n",
      "  0.         0.         0.         0.        ]\n",
      " [0.         0.         0.         0.         0.         0.\n",
      "  0.         0.         0.         0.         0.         0.\n",
      "  0.         0.         0.         0.         0.         0.\n",
      "  0.         0.         0.         0.         0.         0.\n",
      "  0.         0.         0.         0.        ]\n",
      " [0.         0.         0.         0.         0.         0.\n",
      "  0.         0.         0.         0.         0.         0.\n",
      "  0.         0.         0.         0.         0.         0.\n",
      "  0.         0.         0.         0.         0.         0.\n",
      "  0.         0.         0.         0.        ]\n",
      " [0.         0.         0.         0.         0.         0.\n",
      "  0.         0.         0.         0.         0.         0.\n",
      "  0.00392157 0.         0.         0.05098039 0.28627451 0.\n",
      "  0.         0.00392157 0.01568627 0.         0.         0.\n",
      "  0.         0.00392157 0.00392157 0.        ]\n",
      " [0.         0.         0.         0.         0.         0.\n",
      "  0.         0.         0.         0.         0.         0.\n",
      "  0.01176471 0.         0.14117647 0.53333333 0.49803922 0.24313725\n",
      "  0.21176471 0.         0.         0.         0.00392157 0.01176471\n",
      "  0.01568627 0.         0.         0.01176471]\n",
      " [0.         0.         0.         0.         0.         0.\n",
      "  0.         0.         0.         0.         0.         0.\n",
      "  0.02352941 0.         0.4        0.8        0.69019608 0.5254902\n",
      "  0.56470588 0.48235294 0.09019608 0.         0.         0.\n",
      "  0.         0.04705882 0.03921569 0.        ]\n",
      " [0.         0.         0.         0.         0.         0.\n",
      "  0.         0.         0.         0.         0.         0.\n",
      "  0.         0.         0.60784314 0.9254902  0.81176471 0.69803922\n",
      "  0.41960784 0.61176471 0.63137255 0.42745098 0.25098039 0.09019608\n",
      "  0.30196078 0.50980392 0.28235294 0.05882353]\n",
      " [0.         0.         0.         0.         0.         0.\n",
      "  0.         0.         0.         0.         0.         0.00392157\n",
      "  0.         0.27058824 0.81176471 0.8745098  0.85490196 0.84705882\n",
      "  0.84705882 0.63921569 0.49803922 0.4745098  0.47843137 0.57254902\n",
      "  0.55294118 0.34509804 0.6745098  0.25882353]\n",
      " [0.         0.         0.         0.         0.         0.\n",
      "  0.         0.         0.         0.00392157 0.00392157 0.00392157\n",
      "  0.         0.78431373 0.90980392 0.90980392 0.91372549 0.89803922\n",
      "  0.8745098  0.8745098  0.84313725 0.83529412 0.64313725 0.49803922\n",
      "  0.48235294 0.76862745 0.89803922 0.        ]\n",
      " [0.         0.         0.         0.         0.         0.\n",
      "  0.         0.         0.         0.         0.         0.\n",
      "  0.         0.71764706 0.88235294 0.84705882 0.8745098  0.89411765\n",
      "  0.92156863 0.89019608 0.87843137 0.87058824 0.87843137 0.86666667\n",
      "  0.8745098  0.96078431 0.67843137 0.        ]\n",
      " [0.         0.         0.         0.         0.         0.\n",
      "  0.         0.         0.         0.         0.         0.\n",
      "  0.         0.75686275 0.89411765 0.85490196 0.83529412 0.77647059\n",
      "  0.70588235 0.83137255 0.82352941 0.82745098 0.83529412 0.8745098\n",
      "  0.8627451  0.95294118 0.79215686 0.        ]\n",
      " [0.         0.         0.         0.         0.         0.\n",
      "  0.         0.         0.         0.00392157 0.01176471 0.\n",
      "  0.04705882 0.85882353 0.8627451  0.83137255 0.85490196 0.75294118\n",
      "  0.6627451  0.89019608 0.81568627 0.85490196 0.87843137 0.83137255\n",
      "  0.88627451 0.77254902 0.81960784 0.20392157]\n",
      " [0.         0.         0.         0.         0.         0.\n",
      "  0.         0.         0.         0.         0.02352941 0.\n",
      "  0.38823529 0.95686275 0.87058824 0.8627451  0.85490196 0.79607843\n",
      "  0.77647059 0.86666667 0.84313725 0.83529412 0.87058824 0.8627451\n",
      "  0.96078431 0.46666667 0.65490196 0.21960784]\n",
      " [0.         0.         0.         0.         0.         0.\n",
      "  0.         0.         0.         0.01568627 0.         0.\n",
      "  0.21568627 0.9254902  0.89411765 0.90196078 0.89411765 0.94117647\n",
      "  0.90980392 0.83529412 0.85490196 0.8745098  0.91764706 0.85098039\n",
      "  0.85098039 0.81960784 0.36078431 0.        ]\n",
      " [0.         0.         0.00392157 0.01568627 0.02352941 0.02745098\n",
      "  0.00784314 0.         0.         0.         0.         0.\n",
      "  0.92941176 0.88627451 0.85098039 0.8745098  0.87058824 0.85882353\n",
      "  0.87058824 0.86666667 0.84705882 0.8745098  0.89803922 0.84313725\n",
      "  0.85490196 1.         0.30196078 0.        ]\n",
      " [0.         0.01176471 0.         0.         0.         0.\n",
      "  0.         0.         0.         0.24313725 0.56862745 0.8\n",
      "  0.89411765 0.81176471 0.83529412 0.86666667 0.85490196 0.81568627\n",
      "  0.82745098 0.85490196 0.87843137 0.8745098  0.85882353 0.84313725\n",
      "  0.87843137 0.95686275 0.62352941 0.        ]\n",
      " [0.         0.         0.         0.         0.07058824 0.17254902\n",
      "  0.32156863 0.41960784 0.74117647 0.89411765 0.8627451  0.87058824\n",
      "  0.85098039 0.88627451 0.78431373 0.80392157 0.82745098 0.90196078\n",
      "  0.87843137 0.91764706 0.69019608 0.7372549  0.98039216 0.97254902\n",
      "  0.91372549 0.93333333 0.84313725 0.        ]\n",
      " [0.         0.22352941 0.73333333 0.81568627 0.87843137 0.86666667\n",
      "  0.87843137 0.81568627 0.8        0.83921569 0.81568627 0.81960784\n",
      "  0.78431373 0.62352941 0.96078431 0.75686275 0.80784314 0.8745098\n",
      "  1.         1.         0.86666667 0.91764706 0.86666667 0.82745098\n",
      "  0.8627451  0.90980392 0.96470588 0.        ]\n",
      " [0.01176471 0.79215686 0.89411765 0.87843137 0.86666667 0.82745098\n",
      "  0.82745098 0.83921569 0.80392157 0.80392157 0.80392157 0.8627451\n",
      "  0.94117647 0.31372549 0.58823529 1.         0.89803922 0.86666667\n",
      "  0.7372549  0.60392157 0.74901961 0.82352941 0.8        0.81960784\n",
      "  0.87058824 0.89411765 0.88235294 0.        ]\n",
      " [0.38431373 0.91372549 0.77647059 0.82352941 0.87058824 0.89803922\n",
      "  0.89803922 0.91764706 0.97647059 0.8627451  0.76078431 0.84313725\n",
      "  0.85098039 0.94509804 0.25490196 0.28627451 0.41568627 0.45882353\n",
      "  0.65882353 0.85882353 0.86666667 0.84313725 0.85098039 0.8745098\n",
      "  0.8745098  0.87843137 0.89803922 0.11372549]\n",
      " [0.29411765 0.8        0.83137255 0.8        0.75686275 0.80392157\n",
      "  0.82745098 0.88235294 0.84705882 0.7254902  0.77254902 0.80784314\n",
      "  0.77647059 0.83529412 0.94117647 0.76470588 0.89019608 0.96078431\n",
      "  0.9372549  0.8745098  0.85490196 0.83137255 0.81960784 0.87058824\n",
      "  0.8627451  0.86666667 0.90196078 0.2627451 ]\n",
      " [0.18823529 0.79607843 0.71764706 0.76078431 0.83529412 0.77254902\n",
      "  0.7254902  0.74509804 0.76078431 0.75294118 0.79215686 0.83921569\n",
      "  0.85882353 0.86666667 0.8627451  0.9254902  0.88235294 0.84705882\n",
      "  0.78039216 0.80784314 0.72941176 0.70980392 0.69411765 0.6745098\n",
      "  0.70980392 0.80392157 0.80784314 0.45098039]\n",
      " [0.         0.47843137 0.85882353 0.75686275 0.70196078 0.67058824\n",
      "  0.71764706 0.76862745 0.8        0.82352941 0.83529412 0.81176471\n",
      "  0.82745098 0.82352941 0.78431373 0.76862745 0.76078431 0.74901961\n",
      "  0.76470588 0.74901961 0.77647059 0.75294118 0.69019608 0.61176471\n",
      "  0.65490196 0.69411765 0.82352941 0.36078431]\n",
      " [0.         0.         0.29019608 0.74117647 0.83137255 0.74901961\n",
      "  0.68627451 0.6745098  0.68627451 0.70980392 0.7254902  0.7372549\n",
      "  0.74117647 0.7372549  0.75686275 0.77647059 0.8        0.81960784\n",
      "  0.82352941 0.82352941 0.82745098 0.7372549  0.7372549  0.76078431\n",
      "  0.75294118 0.84705882 0.66666667 0.        ]\n",
      " [0.00784314 0.         0.         0.         0.25882353 0.78431373\n",
      "  0.87058824 0.92941176 0.9372549  0.94901961 0.96470588 0.95294118\n",
      "  0.95686275 0.86666667 0.8627451  0.75686275 0.74901961 0.70196078\n",
      "  0.71372549 0.71372549 0.70980392 0.69019608 0.65098039 0.65882353\n",
      "  0.38823529 0.22745098 0.         0.        ]\n",
      " [0.         0.         0.         0.         0.         0.\n",
      "  0.         0.15686275 0.23921569 0.17254902 0.28235294 0.16078431\n",
      "  0.1372549  0.         0.         0.         0.         0.\n",
      "  0.         0.         0.         0.         0.         0.\n",
      "  0.         0.         0.         0.        ]\n",
      " [0.         0.         0.         0.         0.         0.\n",
      "  0.         0.         0.         0.         0.         0.\n",
      "  0.         0.         0.         0.         0.         0.\n",
      "  0.         0.         0.         0.         0.         0.\n",
      "  0.         0.         0.         0.        ]\n",
      " [0.         0.         0.         0.         0.         0.\n",
      "  0.         0.         0.         0.         0.         0.\n",
      "  0.         0.         0.         0.         0.         0.\n",
      "  0.         0.         0.         0.         0.         0.\n",
      "  0.         0.         0.         0.        ]]\n"
     ]
    }
   ],
   "source": [
    "# 5.21 데이터 정규화\n",
    "train_X = train_X / 255.0\n",
    "test_X = test_X / 255.0\n",
    "\n",
    "print(train_X[0])"
   ]
  },
  {
   "cell_type": "code",
   "execution_count": 37,
   "metadata": {
    "colab": {
     "base_uri": "https://localhost:8080/",
     "height": 269
    },
    "colab_type": "code",
    "id": "0dwbsb8aD1Jx",
    "outputId": "f1b7ee92-2c5d-4fb4-e55a-2a1094d91eb7"
   },
   "outputs": [
    {
     "name": "stdout",
     "output_type": "stream",
     "text": [
      "Model: \"sequential_3\"\n",
      "_________________________________________________________________\n",
      "Layer (type)                 Output Shape              Param #   \n",
      "=================================================================\n",
      "flatten (Flatten)            (None, 784)               0         \n",
      "_________________________________________________________________\n",
      "dense_12 (Dense)             (None, 128)               100480    \n",
      "_________________________________________________________________\n",
      "dense_13 (Dense)             (None, 10)                1290      \n",
      "=================================================================\n",
      "Total params: 101,770\n",
      "Trainable params: 101,770\n",
      "Non-trainable params: 0\n",
      "_________________________________________________________________\n"
     ]
    }
   ],
   "source": [
    "# 5.22 Fashion MNIST 분류 모델\n",
    "model = tf.keras.Sequential([\n",
    "    tf.keras.layers.Flatten(input_shape=(28,28)),\n",
    "    tf.keras.layers.Dense(units=128, activation='relu'),\n",
    "    tf.keras.layers.Dense(units=10, activation='softmax')\n",
    "])\n",
    "\n",
    "model.compile(optimizer=tf.keras.optimizers.Adam(), \n",
    "              loss='sparse_categorical_crossentropy', \n",
    "              metrics=['accuracy'])\n",
    "\n",
    "model.summary()"
   ]
  },
  {
   "cell_type": "code",
   "execution_count": 38,
   "metadata": {
    "colab": {
     "base_uri": "https://localhost:8080/",
     "height": 935
    },
    "colab_type": "code",
    "id": "X6FCAvgtHJPz",
    "outputId": "92e13255-09be-4bcd-8b4d-f4620cc6497e"
   },
   "outputs": [
    {
     "name": "stdout",
     "output_type": "stream",
     "text": [
      "Epoch 1/25\n",
      "1407/1407 [==============================] - 1s 992us/step - loss: 0.5261 - accuracy: 0.8154 - val_loss: 0.4138 - val_accuracy: 0.8543\n",
      "Epoch 2/25\n",
      "1407/1407 [==============================] - 2s 1ms/step - loss: 0.3943 - accuracy: 0.8588 - val_loss: 0.3841 - val_accuracy: 0.8598\n",
      "Epoch 3/25\n",
      "1407/1407 [==============================] - 2s 1ms/step - loss: 0.3511 - accuracy: 0.8725 - val_loss: 0.3630 - val_accuracy: 0.8727\n",
      "Epoch 4/25\n",
      "1407/1407 [==============================] - 1s 796us/step - loss: 0.3224 - accuracy: 0.8816 - val_loss: 0.3486 - val_accuracy: 0.8733\n",
      "Epoch 5/25\n",
      "1407/1407 [==============================] - 1s 892us/step - loss: 0.3043 - accuracy: 0.8882 - val_loss: 0.3550 - val_accuracy: 0.8701\n",
      "Epoch 6/25\n",
      "1407/1407 [==============================] - 2s 1ms/step - loss: 0.2881 - accuracy: 0.8941 - val_loss: 0.3229 - val_accuracy: 0.8827\n",
      "Epoch 7/25\n",
      "1407/1407 [==============================] - 1s 771us/step - loss: 0.2767 - accuracy: 0.8969 - val_loss: 0.3217 - val_accuracy: 0.8843\n",
      "Epoch 8/25\n",
      "1407/1407 [==============================] - 2s 1ms/step - loss: 0.2615 - accuracy: 0.9047 - val_loss: 0.3358 - val_accuracy: 0.8788\n",
      "Epoch 9/25\n",
      "1407/1407 [==============================] - 1s 946us/step - loss: 0.2513 - accuracy: 0.9065 - val_loss: 0.3418 - val_accuracy: 0.8776\n",
      "Epoch 10/25\n",
      "1407/1407 [==============================] - 2s 1ms/step - loss: 0.2429 - accuracy: 0.9090 - val_loss: 0.3425 - val_accuracy: 0.8797\n",
      "Epoch 11/25\n",
      "1407/1407 [==============================] - 1s 834us/step - loss: 0.2330 - accuracy: 0.9116 - val_loss: 0.3156 - val_accuracy: 0.8879\n",
      "Epoch 12/25\n",
      "1407/1407 [==============================] - 1s 814us/step - loss: 0.2233 - accuracy: 0.9167 - val_loss: 0.3296 - val_accuracy: 0.8847\n",
      "Epoch 13/25\n",
      "1407/1407 [==============================] - 2s 1ms/step - loss: 0.2171 - accuracy: 0.9176 - val_loss: 0.3263 - val_accuracy: 0.8902\n",
      "Epoch 14/25\n",
      "1407/1407 [==============================] - 1s 725us/step - loss: 0.2103 - accuracy: 0.9200 - val_loss: 0.3169 - val_accuracy: 0.8905\n",
      "Epoch 15/25\n",
      "1407/1407 [==============================] - 2s 1ms/step - loss: 0.2013 - accuracy: 0.9250 - val_loss: 0.3232 - val_accuracy: 0.8906\n",
      "Epoch 16/25\n",
      "1407/1407 [==============================] - 1s 871us/step - loss: 0.1996 - accuracy: 0.9250 - val_loss: 0.3654 - val_accuracy: 0.8785\n",
      "Epoch 17/25\n",
      "1407/1407 [==============================] - 1s 1ms/step - loss: 0.1903 - accuracy: 0.9291 - val_loss: 0.3217 - val_accuracy: 0.8920\n",
      "Epoch 18/25\n",
      "1407/1407 [==============================] - 1s 1ms/step - loss: 0.1859 - accuracy: 0.9301 - val_loss: 0.3441 - val_accuracy: 0.8867\n",
      "Epoch 19/25\n",
      "1407/1407 [==============================] - 1s 1ms/step - loss: 0.1811 - accuracy: 0.9323 - val_loss: 0.3300 - val_accuracy: 0.8920\n",
      "Epoch 20/25\n",
      "1407/1407 [==============================] - 1s 1ms/step - loss: 0.1779 - accuracy: 0.9328 - val_loss: 0.3708 - val_accuracy: 0.8817\n",
      "Epoch 21/25\n",
      "1407/1407 [==============================] - 2s 1ms/step - loss: 0.1729 - accuracy: 0.9349 - val_loss: 0.3621 - val_accuracy: 0.8857\n",
      "Epoch 22/25\n",
      "1407/1407 [==============================] - 1s 1ms/step - loss: 0.1668 - accuracy: 0.9378 - val_loss: 0.3393 - val_accuracy: 0.8894\n",
      "Epoch 23/25\n",
      "1407/1407 [==============================] - 1s 1ms/step - loss: 0.1627 - accuracy: 0.9388 - val_loss: 0.3532 - val_accuracy: 0.8904\n",
      "Epoch 24/25\n",
      "1407/1407 [==============================] - 2s 1ms/step - loss: 0.1609 - accuracy: 0.9400 - val_loss: 0.3573 - val_accuracy: 0.8901\n",
      "Epoch 25/25\n",
      "1407/1407 [==============================] - 1s 1ms/step - loss: 0.1536 - accuracy: 0.9427 - val_loss: 0.3610 - val_accuracy: 0.8872\n"
     ]
    }
   ],
   "source": [
    "# 5.23 Fashion MNIST 분류 모델 학습\n",
    "history = model.fit(train_X, train_Y, epochs=25, validation_split=0.25)"
   ]
  },
  {
   "cell_type": "code",
   "execution_count": 39,
   "metadata": {
    "colab": {
     "base_uri": "https://localhost:8080/",
     "height": 283
    },
    "colab_type": "code",
    "id": "2uKxk7XSIQdq",
    "outputId": "4d82a4c3-740f-46bd-ab9a-1e9eec8d149a"
   },
   "outputs": [
    {
     "data": {
      "image/png": "[encoded data removed]",
      "text/plain": [
       "<Figure size 864x288 with 2 Axes>"
      ]
     },
     "metadata": {
      "needs_background": "light"
     },
     "output_type": "display_data"
    }
   ],
   "source": [
    "# 5.24 Fashion MNIST 분류 모델 학습 결과 시각화\n",
    "import matplotlib.pyplot as plt\n",
    "plt.figure(figsize=(12, 4))\n",
    "\n",
    "plt.subplot(1, 2, 1)\n",
    "plt.plot(history.history['loss'], 'b-', label='loss')\n",
    "plt.plot(history.history['val_loss'], 'r--', label='val_loss')\n",
    "plt.xlabel('Epoch')\n",
    "plt.legend()\n",
    "\n",
    "plt.subplot(1, 2, 2)\n",
    "plt.plot(history.history['accuracy'], 'g-', label='accuracy')\n",
    "plt.plot(history.history['val_accuracy'], 'k--', label='val_accuracy')\n",
    "plt.xlabel('Epoch')\n",
    "plt.ylim(0.7, 1)\n",
    "plt.legend()\n",
    "\n",
    "plt.show()"
   ]
  },
  {
   "cell_type": "code",
   "execution_count": 40,
   "metadata": {
    "colab": {
     "base_uri": "https://localhost:8080/",
     "height": 73
    },
    "colab_type": "code",
    "id": "BdfhmqdlIQz0",
    "outputId": "fe8fef42-093c-4f89-a999-ae6999c41352"
   },
   "outputs": [
    {
     "name": "stdout",
     "output_type": "stream",
     "text": [
      "313/313 [==============================] - 0s 759us/step - loss: 0.4049 - accuracy: 0.8820\n"
     ]
    },
    {
     "data": {
      "text/plain": [
       "[0.40489012002944946, 0.8820000290870667]"
      ]
     },
     "execution_count": 40,
     "metadata": {},
     "output_type": "execute_result"
    }
   ],
   "source": [
    "# 5.25 Fashion MNIST 분류 모델 평가\n",
    "model.evaluate(test_X, test_Y)"
   ]
  }
 ],
 "metadata": {
  "colab": {
   "collapsed_sections": [],
   "name": "Chapter5.ipynb",
   "provenance": [],
   "toc_visible": true
  },
  "kernelspec": {
   "display_name": "Python 3",
   "language": "python",
   "name": "python3"
  },
  "language_info": {
   "codemirror_mode": {
    "name": "ipython",
    "version": 3
   },
   "file_extension": ".py",
   "mimetype": "text/x-python",
   "name": "python",
   "nbconvert_exporter": "python",
   "pygments_lexer": "ipython3",
   "version": "3.8.3"
  }
 },
 "nbformat": 4,
 "nbformat_minor": 1
}
